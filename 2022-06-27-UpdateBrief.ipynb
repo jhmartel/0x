{
  "nbformat": 4,
  "nbformat_minor": 0,
  "metadata": {
    "colab": {
      "name": "Untitled9.ipynb",
      "provenance": [],
      "authorship_tag": "ABX9TyPWG9uvK8BWznLf0M5idmr8",
      "include_colab_link": true
    },
    "kernelspec": {
      "name": "python3",
      "display_name": "Python 3"
    },
    "language_info": {
      "name": "python"
    }
  },
  "cells": [
    {
      "cell_type": "markdown",
      "metadata": {
        "id": "view-in-github",
        "colab_type": "text"
      },
      "source": [
        "<a href=\"https://colab.research.google.com/github/jhmartel/fp/blob/master/2022-06-27-UpdateBrief.ipynb\" target=\"_parent\"><img src=\"https://colab.research.google.com/assets/colab-badge.svg\" alt=\"Open In Colab\"/></a>"
      ]
    },
    {
      "cell_type": "markdown",
      "source": [
        "# Update: SR paper available to read, and preparing for Qiskit. \n",
        "> \" Update on JHM Labs and JHM Life.\"\n",
        "\n",
        "- toc: false\n",
        "- branch: master\n",
        "- badges: false\n",
        "- comments: true\n",
        "- author: JHM"
      ],
      "metadata": {
        "id": "tgY3GfNd7gKw"
      }
    },
    {
      "cell_type": "markdown",
      "source": [
        "Update: I've been looking for work since around November 2021. Today is June 2022, so that makes approximately seven months unemployed. I work labour jobs on the side, but that's just to make ends meet. I will say I consider it quite demoralizing and humiliating to be ready, willing, and able to work a job, and yet having no job. I'm sorry my excuse is I'm too talented and too skilled and too good to be working labour like a beast. The consequences of this choice are this: instead of readily earning 32$/hour as entry level wage, I'm poor and effectively homeless. But I'm a dreamer, and i'm called to do physics and mathematics, and I'll do it until I die.\n",
        "\n",
        "0. I have recently updated my special relativity paper titled [\"On Critical Foundations of SR and Light Propagation in Vacuum\"](https://github.com/jhmartel/SR/).  I actually think the paper is quite readable at this stage. The main idea is simply a modification of Fizeau's spinning wheel experiment following a suggestion of Ralph Sansbury which -- at least to my mind -- would be decisive in demonstrating that \"light\" is really something that \"travel through space\". \n",
        "\n",
        "Remark. In Maxwell's treatise, especially the final chapters of Vol II, and his review of action-at-a-distance theories of Gauss, Weber, Neumann, etc., Maxwell is clear that it's _inconceivable_ for him to imagine light as anything other than a \"particle\" which necessarily travels through space. This presumption then leads to the confused issue of whether light is particle or wave or somehow both? (I.e. Bohr complementarity). \n",
        "\n",
        "\n",
        "\n",
        "\n",
        "My new goal is to acquire the IBM Qiskit Developer Accreditation. This involves a 60 question multiple choice exam in August. \n",
        "\n",
        "Why?\n",
        "\n",
        "1. Qiskit and Quantum Computing (QC) seems like perfect opportunity to prove both my math and programming skills. Honestly I don't think anybody can understand Qiskit or the quantum gates without strong linear algebra. \n",
        "\n",
        "2. Qiskit and especially Qiskit Pulse are excellent testing grounds for fundamental physics. Indeed my hypothesis is that decoherence and quantum errors are going to remain a _persistent_ problem in QC. It would be amazing to actually derive/prove the persistence of these errors via Weber's electrodynamics. \n",
        "\n"
      ],
      "metadata": {
        "id": "q2_W7MsD4q2o"
      }
    },
    {
      "cell_type": "code",
      "execution_count": null,
      "metadata": {
        "id": "yLo3OZv54p_G"
      },
      "outputs": [],
      "source": [
        ""
      ]
    }
  ]
}