{
  "nbformat": 4,
  "nbformat_minor": 0,
  "metadata": {
    "colab": {
      "provenance": [],
      "include_colab_link": true
    },
    "kernelspec": {
      "name": "python3",
      "display_name": "Python 3"
    },
    "language_info": {
      "name": "python"
    }
  },
  "cells": [
    {
      "cell_type": "markdown",
      "metadata": {
        "id": "view-in-github",
        "colab_type": "text"
      },
      "source": [
        "<a href=\"https://colab.research.google.com/github/jhmartel/fp/blob/master/_notebooks/2023-02-16-EspozoPcontraNP_es.ipynb\" target=\"_parent\"><img src=\"https://colab.research.google.com/assets/colab-badge.svg\" alt=\"Open In Colab\"/></a>"
      ]
    },
    {
      "cell_type": "markdown",
      "source": [
        "# Espozo d'un Argumento Sobre P contra NP\n",
        "\n",
        "> \"Aquí esbozamos un argumento para demostrar que $P$ no es igual a $NP$. Todas las ideas se basan en discusiones con C.A. Feinstein.\"\n",
        "\n",
        "- toc: false\n",
        "- branch: master\n",
        "- badges: false\n",
        "- comments: true\n",
        "- author: JHM"
      ],
      "metadata": {
        "id": "jWJ9TN4Rlw7P"
      }
    },
    {
      "cell_type": "markdown",
      "source": [
        "Aquí hay un bosquejo de cómo probar que $P$ no es igual a $NP$. Todas las ideas se basan en discusiones con C.A. Feinstein.\n",
        "\n",
        "# _Medidas y Algoritmos:_\n",
        "\n",
        "1. (_Decidir soportes es el problema de decisión universal_) Todo problema de decisión es equivalente al problema de decidir el soporte de una medida $\\mu$. O casi equivalentemente, de decidir el soporte de la imagen de una función $F$. P.ej. para el problema de la suma de subconjuntos, la imagen es el avance hacia $\\bf{Z}$ de la suma total $\\epsilon: 2^X \\to {\\bf{Z}}$.\n",
        "\n",
        "2. (_Los algoritmos son composiciones de medidas, equivalentemente caminos en la categoría de espacios finitos de medidas_) Un algoritmo para resolver un problema de decisión es una composición de la medida $\\mu$ o la función $F$ en medidas intermedias o evaluaciones de funciones. Aquí comentamos que hay una composición natural de medidas, c.f. las demostraciones de desigualdades triangulares en espacios de Wasserstein.\n",
        "\n",
        "#_¿Qué es la Complejidad de una Medida o Función o Algoritmo?_\n",
        "\n",
        "La definición clásica de complejidad computacional cuenta la cantidad de pasos de tiempo requeridos, o la cantidad de llamadas a RAM o evaluaciones de funciones, en el peor de los casos posibles. Requerimos aquí una definición de complejidad para las medidas. La definición debe ser absolutamente simple, y solo podemos decir que la complejidad de una medida es el \"tamaño\" de su soporte. En este sentido, la complejidad es equivalente a la \"entropía\" tal como la define Gromov [insertar referencia].\n",
        "\n",
        "3. (_Complejidad y Entropía: la misma cantidad_) La complejidad de una medida o de una función es el \"tamaño\" del soporte. La complejidad es subaditiva (¿o superaditiva?) con respecto a la composición. Esto significa que descomponer $F$ en una composición muy larga $F=\\cdots \\circ F_i \\circ F_{i-1} \\circ \\cdots$ no necesariamente reduce la complejidad.\n",
        "\n",
        "# _ Cada algoritmo es una composición de búsquedas aleatorias _\n",
        "\n",
        "4. (_Teorema de factorización algorítmica_) Cada algoritmo es una composición de evaluaciones de funciones deterministas y búsqueda aleatoria sobre un subconjunto. (Esto requiere una definición y prueba más formal). Esto también formaliza la idea de que la medida de Lebesgue en un conjunto equivale a una búsqueda aleatoria en el soporte.\n",
        "\n",
        "# _La búsqueda aleatoria es computacionalmente irreductible_\n",
        "\n",
        "5. (_Invariancia de dominio e irreductibilidad de la complejidad de la medida_) Se aplica el teorema de invariancia de dominio de Brouwer-Lebesgue. Esto dice que no existen mapas continuos de conservación de medidas inyectivas desde $R^n$ hasta una dimensión más pequeña $R^k$ para $k < n$.\n",
        "\n",
        "Los ítems 1., 2., ..., 5. si pueden establecerse rigurosamente probarán esencialmente que $P \\neq NP$."
      ],
      "metadata": {
        "id": "9Vh4jAR0lwyJ"
      }
    }
  ]
}