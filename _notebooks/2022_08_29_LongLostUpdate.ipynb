{
  "nbformat": 4,
  "nbformat_minor": 0,
  "metadata": {
    "colab": {
      "name": "2022-08-29-LongLostUpdate.ipynb",
      "provenance": [],
      "collapsed_sections": [],
      "authorship_tag": "ABX9TyNjAA4HTTHxVgzd/btJlXnD",
      "include_colab_link": true
    },
    "kernelspec": {
      "name": "python3",
      "display_name": "Python 3"
    },
    "language_info": {
      "name": "python"
    }
  },
  "cells": [
    {
      "cell_type": "markdown",
      "metadata": {
        "id": "view-in-github",
        "colab_type": "text"
      },
      "source": [
        "<a href=\"https://colab.research.google.com/github/jhmartel/fp/blob/master/_notebooks/2022_08_29_LongLostUpdate.ipynb\" target=\"_parent\"><img src=\"https://colab.research.google.com/assets/colab-badge.svg\" alt=\"Open In Colab\"/></a>"
      ]
    },
    {
      "cell_type": "markdown",
      "source": [
        "# Summer 2022 is over. Brief update on state of affairs. \n",
        "> \" \"\n",
        "\n",
        "- toc: false\n",
        "- branch: master\n",
        "- badges: false\n",
        "- comments: true\n",
        "- author: JHM"
      ],
      "metadata": {
        "id": "tgY3GfNd7gKw"
      }
    },
    {
      "cell_type": "markdown",
      "source": [
        "Wow, I've been busy in real world and have paused some writing projects. Of course there is still ALOT to be said. But I'm searching for opportunities, and have travelled to Calgary, AB, to see what's happening here. Again, I am travelling to make a decision about where to reside.\n",
        "\n",
        "What's been on my mind?\n",
        "\n",
        "1. The Qiskit and quantum computing has reached the following stage: the mathematical theory is perfect but incomplete, unsatisfactory, and the physical interpretation is not sufficient. [Insert comment: there is tensorial categorical issue with the quantum definitions of observables and projections of variables, e.g. the Einstein-Podolsky-Rosen (EPR) paradox and interpretations. This tensorial definition is provided by Gromov in his ERGO brain papers and specifically his paper \"In Search of Structure Part 1: Entropy\".]\n",
        "\n",
        "Again there is alot to say. \n",
        "\n",
        "The further logical incompleteness of quantum is reflected in Neil Bohr's famous proclamation that _\"Those who are not shocked when they first come across quantum theory cannot possibly have understood it.\"_\n",
        "\n",
        "Or Richard Feynman _\"If you think you understand quantum mechanics, you don’t understand quantum mechanics.\n",
        " \"_\n",
        "\n",
        "Or Werner Heisenberg's _\"Not only is the Universe stranger than we think, it is stranger than we can think.\"_\n",
        "\n",
        "Now let me say that these statements are True, but they are also True evidence that Quantum is unacceptable. It is admittedly inconsistent in its very foundations, at its root, genesis, and zero block. So why is quantum accepted at all? Because there is something useful about it. So let us continue to be guided by pragmatism. _What's useful_? \n",
        "\n",
        "\n",
        "Another remark on Bohr's claim. There is something _shocking_ in quantum physics, and this is well documented in the historical accounts of Bohr, Planck, and Einstein. And what is the _shock_? It is found in Bohr's planetary two-body model of the hydrogen atom which violates classical physics. More specifically, the apparent non-radiation of Bohr's planetary model of the hydrogen atom is the shocking postulate. But the apparent nonradiation is an ad hoc postulate, and which is contradictory to the classical dynamics. Quantum is shocking for those who try to explain the atom via classical electrodynamics, e.g. the Maxwell field theory and Lorentz force laws. However as Weber and Gauss understood from Ampere's Newtonian theory of electricity, there are many more dynamic and stable configurations in Weber's relational action-at-a-distance model than the standard Lorentz-Maxwell field framework.\n",
        "\n",
        "So we view Niels Bohr's above statement as __True__. Indeed for the student to accept the mathematical premise of Bohr's quantum theory is to positively reject the classical physics, because Bohr does not _resolve_ the problem of the apparently non-radiating hydrogen atom . Rather he takes this apparent non-radiation as a fundamental postulate, regardless of its apparent irreconciliability with the basic classical theory of two-body electronic systems. \n",
        "\n",
        "_What is the alternative?_\n",
        "\n",
        "The alternative was proposed by Wilhelm Weber before Planck, and before Bohr. The Weber planetary model of the atom is stable, and does resolve the inherent contradictions of Bohr's model. In otherwords, Weber restores the planetary atom to classical physics.\n",
        "\n"
      ],
      "metadata": {
        "id": "WqOudK6a7NlJ"
      }
    },
    {
      "cell_type": "markdown",
      "source": [
        "Update: I've been looking for work since around November 2021. Today is June 2022, so that makes approximately seven months unemployed. I work labour jobs on the side, but that's just to make ends meet. I will say I consider it quite demoralizing and humiliating to be ready, willing, and able to work a job, and yet having no job. I'm sorry my excuse is I'm too talented and too skilled and too good to be working labour like a beast. The consequences of this choice are this: instead of readily earning 32$/hour as entry level wage, I'm poor and effectively homeless. But I'm a dreamer, and i'm called to do physics and mathematics, and I'll do it until I die.\n",
        "\n",
        "0. I have recently updated my special relativity paper titled [\"On Critical Foundations of SR and Light Propagation in Vacuum\"](https://github.com/jhmartel/SR/).  I actually think the paper is quite readable at this stage. The main idea is simply a modification of Fizeau's spinning wheel experiment following a suggestion of Ralph Sansbury which -- at least to my mind -- would be decisive in demonstrating that \"light\" is really something that \"travel through space\". \n",
        "\n",
        "Remark. In Maxwell's treatise, especially the final chapters of Vol II, and his review of action-at-a-distance theories of Gauss, Weber, Neumann, etc., Maxwell is clear that it's _inconceivable_ for him to imagine light as anything other than a \"particle\" which necessarily travels through space. This presumption then leads to the confused issue of whether light is particle or wave or somehow both? (I.e. Bohr complementarity). \n",
        "\n",
        "\n",
        "\n",
        "\n",
        "My new goal is to acquire the IBM Qiskit Developer Accreditation. This involves a 60 question multiple choice exam in August. \n",
        "\n",
        "Why?\n",
        "\n",
        "1. Qiskit and Quantum Computing (QC) seems like perfect opportunity to prove both my math and programming skills. Honestly I don't think anybody can understand Qiskit or the quantum gates without strong linear algebra. \n",
        "\n",
        "2. Qiskit and especially Qiskit Pulse are excellent testing grounds for fundamental physics. Indeed my hypothesis is that decoherence and quantum errors are going to remain a _persistent_ problem in QC. It would be amazing to actually derive/prove the persistence of these errors via Weber's electrodynamics. \n",
        "\n"
      ],
      "metadata": {
        "id": "q2_W7MsD4q2o"
      }
    },
    {
      "cell_type": "code",
      "execution_count": null,
      "metadata": {
        "id": "yLo3OZv54p_G"
      },
      "outputs": [],
      "source": []
    }
  ]
}