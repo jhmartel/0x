{
  "nbformat": 4,
  "nbformat_minor": 0,
  "metadata": {
    "colab": {
      "provenance": [],
      "authorship_tag": "ABX9TyObA05ZxGigsDCbvXQmrP0N",
      "include_colab_link": true
    },
    "kernelspec": {
      "name": "python3",
      "display_name": "Python 3"
    },
    "language_info": {
      "name": "python"
    }
  },
  "cells": [
    {
      "cell_type": "markdown",
      "metadata": {
        "id": "view-in-github",
        "colab_type": "text"
      },
      "source": [
        "<a href=\"https://colab.research.google.com/github/jhmartel/fp/blob/master/_notebooks/2023-01-21-Update_NotMuchToReport.ipynb\" target=\"_parent\"><img src=\"https://colab.research.google.com/assets/colab-badge.svg\" alt=\"Open In Colab\"/></a>"
      ]
    },
    {
      "cell_type": "markdown",
      "source": [
        "# Brief Update\n",
        "\n",
        "> \"We have been writing alot, but nothings finished. Stay tuned.\" \n",
        "\n",
        "- toc: false\n",
        "- branch: master\n",
        "- badges: false\n",
        "- comments: true\n",
        "- author: JHM"
      ],
      "metadata": {
        "id": "H0MX59-bCWA2"
      }
    },
    {
      "cell_type": "markdown",
      "source": [
        "I've been writing alot on different topics lately, but without any clear results.\n",
        "\n",
        "1. _Computation:_ We continue to develop the idea of an algorithm as a composition of measures/functions. But it's not exactly working for us. \n",
        "\n",
        "2. _What is a manifold?:_ We are beginning to prepare an article on manifolds, Gromov's essay, and the application of Kantorovich singularity functor $Z: 2^Y \\to 2^X$ when $(X,\\sigma)$ and $(Y, \\tau)$ are source and measure spaces, respectively. We continue to work on this, although it's admittedly low priority.\n",
        "\n",
        "3. _[Foundations of Special Relativity: Critical Review]_ Our [essay](https://github.com/jhmartel/SR/) was sent to a senior author for review, but not for submission to any journal. We can't help but return to this essay. Again we are looking for Arxiv endorsement so that we may post online. As we review the essay, we are honestly quite pleased with it. There is room to expand on Sansbury-Fizeau spinning sawtooth experiment. But I think we have succeeded in representing our viewpoint on the SR controversy. There ___are___ mathematical errors in the _foundations_ of SR.\n",
        "\n",
        "4. _JOB:_ Yes, we're supposed to be finding a job. And the question arises: _\"What are we doing today that's going to make tomorrow different?\"_ More to the point, _\"What am i doing today that's going to bring me somewhere new next year?_\" I'm getting ___old___, so _what am I doing? Where am I going?_\n",
        "\n",
        "5. _Weber and Batteries_: My roommate is trying to persuade me that Lithium-Ion battery recycling is a good opportunity, and that it opens the door for me to apply my electrical research, Weber, and move towards running a physics lab. The problem is: _How to recycle Lithium ion batteries?_ Obviously I don't know. But is there an opportunity for a mathematician physicist to make some progress on the problem? Maybe. But all that takes time. \n",
        "\n",
        "6. _Mapping Class Group and Closing Steinberg_: On our to-do list is also finishing the lemma which is required to basically complete [our MCG paper](https://github.com/jhmartel/MCG/). Maybe this is a good distraction for a day or two. ..."
      ],
      "metadata": {
        "id": "ShhFj0vq_i7v"
      }
    }
  ]
}