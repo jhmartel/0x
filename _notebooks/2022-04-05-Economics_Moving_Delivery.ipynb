{
  "nbformat": 4,
  "nbformat_minor": 0,
  "metadata": {
    "colab": {
      "name": "Economics_Moving_Delivery.ipynb",
      "provenance": [],
      "collapsed_sections": [],
      "authorship_tag": "ABX9TyMiZjQBSxRsKy1pAYxLI3AB",
      "include_colab_link": true
    },
    "kernelspec": {
      "name": "python3",
      "display_name": "Python 3"
    },
    "language_info": {
      "name": "python"
    }
  },
  "cells": [
    {
      "cell_type": "markdown",
      "metadata": {
        "id": "view-in-github",
        "colab_type": "text"
      },
      "source": [
        "<a href=\"https://colab.research.google.com/github/jhmartel/fp/blob/master/_notebooks/2022-04-05-Economics_Moving_Delivery.ipynb\" target=\"_parent\"><img src=\"https://colab.research.google.com/assets/colab-badge.svg\" alt=\"Open In Colab\"/></a>"
      ]
    },
    {
      "cell_type": "markdown",
      "source": [
        "# Note on Economics of Moving and Delivery. Part 1. \n",
        "\n",
        "> \"How to save money on moving and delivery? Basically prepare and pack as much as possible into as many closed cardboard boxes as necessary, and order a very large truck for transport. \"\n",
        "\n",
        "- toc: false\n",
        "- branch: master\n",
        "- badges: false\n",
        "- comments: true\n",
        "- categories: [moving, delivery, economics]\n",
        "- hide: false\n",
        "\n",
        "\n",
        "\n",
        "\n"
      ],
      "metadata": {
        "id": "2Mtb0HEVtZeb"
      }
    },
    {
      "cell_type": "markdown",
      "source": [
        "It's commonly reported that \"moving\" or \"la demenagement\" is among the most stressful events for consumers [insert reference]. The essential difficulty is the labour intensity of safely and securely extracting and removing objects from various dwellings. No damage to walls or floors, and all within a controlled fashion. We remind the reader that objects generally have eight vertices, which are all potential hazards to the environment. [Americans say moving is more stressful than divorce, having children, survey claims\n",
        "The survey found the average moving cost was over $1,500](https://www.foxnews.com/real-estate/americans-moving-more-stressful-survey).\n",
        "\n",
        "Another difficulty, perhaps unappreciated by the clients, is the challenge of packing the objects into the moving truck. This is a type of entropy problem, since the compressed volume of the moving truck restricts the possible range of motions of the objects. Moving requires alot of work and foresight to efficiently pack all the items securely in a truck. \n",
        "\n",
        "Another view of the difficulty is this: a house has many rooms, with the objects distributed sparsely throughout the space. However in a moving truck, all the objects need to be compressed into a single room (namely the box of the truck). \n",
        "\n",
        "Can the clients estimate the volume of all their objects? \n",
        "\n",
        "Is it possible for them to imagine all the objects to be relocated into a single room??\n",
        "\n",
        "\n",
        "There is considerable stress involved in the action of, say, extracting heavy expensive \"precious\" furniture through various stairwells, corners, basements, etc.. The business of last-minute kijiji moving is even more stressful, for the clients are typically _totally unprepared_. For example, they might be selling a freezer located in the basement of a townhouse, with a very tight spiral staircase, and the client has arranged for its delivery to another basement appartment. The client might be moving their entire household, or only moving this single item. Or the client has received a new treadmill, and require its transport into the basement. \n",
        "\n",
        "Building codes and standard construction methods make the extraction and deliveries somewhat easier. However extreme furniture pieces often push the movers ingenuity to the extreme, and requires alot of experience do immediately know which precise \"furniture ballet\" is required. As a rule of thumb : if an object makes three points of contact with the wall/floor/ceiling, then the object cannot be pushed any further without causing damage to the surroudings.\n",
        "\n",
        "To save money on moving: order a very large truck to make the loading and offloading easier, and pack as much as possible in regular cardboard boxes. As much as possible, all the irregular objects should be packing into boxes, and as many boxes as necessary. The client should dissessemble the furniture as much as possible beforehand. Otherwise the movers need to spend working hours on the assembly/disassembly of furniture, and or the preparation of more fragile objects.\n",
        "\n",
        "\n",
        "\n",
        "Another difficulty is the patience and time required to safely move objects in tight spaces. For example, IKEA items are very popular. However IKEA distributes their furniture totally collapsed and optimized, while the consumer is required to read the instructions to reassemble into the stable furniture item. But movers might not be able to collapse the furniture item, and are sometimes even required to transport the item \"as is\". For IKEA items, the assembled item as no strength, and was not at all designed for \"strongman\" transport (IKEA is heavy). \n",
        "\n",
        "Now for all the complicated parameters that exist in moving, in this article our goal is to reduce everything to the simplest variables. Basically, if a client calls and wants to move their entire household, and wants to have an estimate (or the moving manager wants an estimate for their own schedule), then we ask the following questions:\n",
        "\n",
        "1. When is the last time the client has moved their household?\n",
        "\n",
        "2.  If appplicable, ask how long it took and how many \"human labour hours\" were required for their last move?\n",
        "\n",
        "3. How many \"bedrooms\" are now being moved? \n",
        "\n",
        "4. (Basic logistics: pickup and dropoff addresses). \n",
        "\n",
        "5. What kind of heavy items? (Fridges, couches, exercises equipment, etc.). \n",
        "\n",
        "We make some comments: If the client is only moving a select number of items, then ask client \"how did the item get here, how many persons were involved, how long did it take\". \n",
        "\n",
        "Question 1. gives a lower bound (\"a floor\") for the moving manager. Our experience is that people only accumulate items, even more items, after they move. When persons are settled in a location, then they collect more and more diverse items. This always adds to the time required and increases the complexity. Question 2. gives some idea, for example was it a team of four movers or two? Was it a big truck, or a smaller cube truck? Were there any incidents during that last move, particular events or damages to the items?\n",
        "\n",
        "Question 2. is applicable only if the client can remember the last time the item was moved. However it does help manage the clients expectations. \n",
        "\n",
        "Question 3. is important, especially for single persons who have recently moved themselves. For every single person, there is required approximately 6 to 10 total labour hours required. I.e. two movers require approximately 3 to 5 hours to move a single person (bachelor). This is large interval, which really determines on the particular circumstances. Heavy objects can take 15 -- 30 minutes per item to move per team of two.\n",
        "\n",
        "Questions 4, 5 are rather standard. Some estimate of the travel time and circumstances is necessary. For example, if the clients are located in an appartment building, then there is frequently a large walking distance required, and if there is an elevator involved, then the time can be much longer. \n",
        "\n",
        "We also discuss the basic questions which are most useful for estimating the total cost of moving a household. This manages the client's expectations, but also allows the moving manager to maximize their profit and schedule themselves accordingly."
      ],
      "metadata": {
        "id": "f4jnDiBltjHJ"
      }
    },
    {
      "cell_type": "markdown",
      "source": [
        ""
      ],
      "metadata": {
        "id": "3K8jIcxzwf5U"
      }
    }
  ]
}