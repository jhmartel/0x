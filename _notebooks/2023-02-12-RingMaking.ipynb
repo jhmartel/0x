{
  "nbformat": 4,
  "nbformat_minor": 0,
  "metadata": {
    "colab": {
      "provenance": [],
      "authorship_tag": "ABX9TyPc9xhGWohjPJX3geUSJN0Y",
      "include_colab_link": true
    },
    "kernelspec": {
      "name": "python3",
      "display_name": "Python 3"
    },
    "language_info": {
      "name": "python"
    }
  },
  "cells": [
    {
      "cell_type": "markdown",
      "metadata": {
        "id": "view-in-github",
        "colab_type": "text"
      },
      "source": [
        "<a href=\"https://colab.research.google.com/github/jhmartel/fp/blob/master/_notebooks/2023-02-12-RingMaking.ipynb\" target=\"_parent\"><img src=\"https://colab.research.google.com/assets/colab-badge.svg\" alt=\"Open In Colab\"/></a>"
      ]
    },
    {
      "cell_type": "markdown",
      "source": [
        "# How to Start a Jewellery Business\n",
        "\n",
        "> \"JHM Labs has begun a new project in something completely different. We have realized that our family has all the elements required to start a modern day jewellery business. At this stage we are planning out the work flow and building prototypes.\" \n",
        "\n",
        "- toc: false\n",
        "- branch: master\n",
        "- badges: false\n",
        "- comments: true\n",
        "- author: JHM"
      ],
      "metadata": {
        "id": "ekMXQqL64Vm5"
      }
    },
    {
      "cell_type": "markdown",
      "source": [
        "# A Different Idea:\n",
        "\n",
        "Ok we have not posted in a week. Why? Because another project has emerged in JHM Labs. Quite simply, we are going to make jewellery like silver and gold rings. This is something we can't _talk_ about, because we need to _do_. So I cannot open my mouth until I have a custom silver ring on my hand.\n",
        "\n",
        "Here's the pitch: Jewellry stores suck! They have terrible selection, ugly designs, and somehow we imagine that they are stuck in the past. If you walk around a few malls, you'll see several jewellry shops, and they don't seem to be making any money.\n",
        "\n",
        "So what is the modern form of jewellry shop? Here we imagine that: everybody should be able to have exactly what they want as a ring or piece of jewellry. Why? Because casting jewellry is simple enough, but requires either a 3D wax model or a negative plaster mould (in which the molten metal is poured and cast). \n",
        "\n",
        "The opportunity is: to be a shop that makes rings, and to introduce a new work flow. Our idea is that: if anybody proposes an image, an idea, the ultimate task is producing the 3D printer code to create the wax mold. Here a traditional artist would handcarve the wax molds. But we want to use the 3D printers. \n",
        "\n",
        "3D printers have their limits and their shortcoming. The printers do appear to have a strange texture in the printing, but these are technical implementation details which can be resolved later.\n",
        "\n",
        "Here's another idea: don't design anything, just 3D print and scan what we want. So as proof of concept we need to find a 3D figure to scan (or already scanned) and then design into a ring or mould.\n",
        "\n",
        "# Recreate Historical Jewellery\n",
        "\n",
        "There is amazing progress with 3D modelling where museums (for example the British Museum) makes high quality 3D scans of artifacts. Our special interest is jewellery. Therefore in principle we could be making _reproductions_ of antique rings, etc.. This is part of our idea that we shouldn't really design anything, but rather reproduce and recreate. \n",
        "\n",
        "# Curves of a Ring\n",
        "\n",
        "We are also reflecting on the geometry of rings. Of course it's a simple design, but how do we really create beautiful rings? Here the 3D modelling is challenging, because we need to explicitly create these elegant rings from poly structures, and are not exactly capable of designing the rings from _equations_. "
      ],
      "metadata": {
        "id": "ceCJ4u7n4Vh0"
      }
    }
  ]
}