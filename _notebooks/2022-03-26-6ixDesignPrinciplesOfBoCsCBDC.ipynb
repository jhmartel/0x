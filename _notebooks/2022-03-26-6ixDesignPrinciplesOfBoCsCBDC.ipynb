{
  "nbformat": 4,
  "nbformat_minor": 0,
  "metadata": {
    "colab": {
      "name": "6ixDesignPrinciples.ipynb",
      "provenance": [],
      "collapsed_sections": [],
      "authorship_tag": "ABX9TyPVXTDuPoRd4km6xGA/JqzR",
      "include_colab_link": true
    },
    "kernelspec": {
      "name": "python3",
      "display_name": "Python 3"
    },
    "language_info": {
      "name": "python"
    }
  },
  "cells": [
    {
      "cell_type": "markdown",
      "metadata": {
        "id": "view-in-github",
        "colab_type": "text"
      },
      "source": [
        "<a href=\"https://colab.research.google.com/github/jhmartel/fp/blob/master/_notebooks/2022-03-26-6ixDesignPrinciplesOfBoCsCBDC.ipynb\" target=\"_parent\"><img src=\"https://colab.research.google.com/assets/colab-badge.svg\" alt=\"Open In Colab\"/></a>"
      ]
    },
    {
      "cell_type": "markdown",
      "source": [
        "# Six Design Principles for BoC's CBDC\n",
        "\n",
        "> \"To satisfy BoC's Charter and Mandate, we propose six design principles for BoC's CBDC.\"\n",
        "\n",
        "- toc: false\n",
        "- branch: master\n",
        "- badges: true\n",
        "- comments: true\n",
        "- categories: [BoC, CBDC, money]\n",
        "- hide: false\n",
        "- search_exclude: false\n",
        "\n"
      ],
      "metadata": {
        "id": "jQuQXz5dkdf4"
      }
    },
    {
      "cell_type": "markdown",
      "source": [
        "__Disclaimer__: the author is private citizen with zero affiliation with BoC. These brief articles are based on publically available documents and are completely _speculative_.\n",
        "\n",
        "This article is brief. We simply enumerate six design principles which we believe are necessary for the BoC's CBDC. These principles are obviously necessary for the BoC to fulfill and satisfy it's own mandate and charter. Thus we propose the following six propositions need be satisfied by any proposal for BoC's CBDC. \n",
        "\n",
        "_(1) CBDC's must enable negative interest rates._ (savings will be subject to time decay)\n",
        "\n",
        "_(2) CBDC's will be \"programmeable money\"_ (nonfungible)\n",
        "\n",
        "_(3) CBDC's will require static, hardcoded digital identities for the public._ \n",
        "(strictly one wallet per person)\n",
        "\n",
        "_(4) CBDC must allow the BoC to exclusively control and monopolize monetary supply._ (monetary supply, e.g. buying and selling treasury bonds is the central banks _essential primary_ tool). \n",
        "\n",
        "_(5) BoC must require that only \"authorized participants\" are allowed to hold and trade base layer cryptocurrencies._ (public prohibited from trading base tokens).\n",
        "\n",
        "_(6) The BoC's CBDC ledger will not be auditable to the public._ (privacy is essential for security).\n",
        "\n",
        "So we could implement the CBDC as smart constracts over a base layer, like Stellar (XLM) or Ripple (XRP) or Cardano (ADA). The smart contract would have strict conditions under which it's validator function returns true. These validators would need to depend on many \"world\" parameters, e.g. specific personal identity. That is, the validator would always need to refer to an outside centralized resource before validating the transaction. \n",
        "\n",
        "End of article.\n",
        "\n",
        "-JHM.\n",
        "\n",
        "\n",
        "\n"
      ],
      "metadata": {
        "id": "_DmF1jFYkzkx"
      }
    },
    {
      "cell_type": "code",
      "execution_count": null,
      "metadata": {
        "id": "52tEk_jckaN9"
      },
      "outputs": [],
      "source": [
        ""
      ]
    }
  ]
}