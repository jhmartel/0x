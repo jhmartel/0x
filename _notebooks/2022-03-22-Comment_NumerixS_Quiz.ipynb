{
  "nbformat": 4,
  "nbformat_minor": 0,
  "metadata": {
    "colab": {
      "name": "Comment_NumerixS_Quiz.ipynb",
      "provenance": [],
      "collapsed_sections": [],
      "authorship_tag": "ABX9TyP0xDPMM5DN3uV8Q7u8VU/9",
      "include_colab_link": true
    },
    "kernelspec": {
      "name": "python3",
      "display_name": "Python 3"
    },
    "language_info": {
      "name": "python"
    }
  },
  "cells": [
    {
      "cell_type": "markdown",
      "metadata": {
        "id": "view-in-github",
        "colab_type": "text"
      },
      "source": [
        "<a href=\"https://colab.research.google.com/github/jhmartel/fp/blob/master/_notebooks/2022-03-22-Comment_NumerixS_Quiz.ipynb\" target=\"_parent\"><img src=\"https://colab.research.google.com/assets/colab-badge.svg\" alt=\"Open In Colab\"/></a>"
      ]
    },
    {
      "cell_type": "markdown",
      "source": [
        "# \"Comments on NumerixS Quiz. \"\n",
        "> \"Just reflection ...\"\n",
        " \n",
        "- toc: false\n",
        "- branch: master\n",
        "- badges: true\n",
        "- comments: true\n",
        "- categories: [NumerixS]\n",
        "- hide: true\n",
        "- search_exclude: true"
      ],
      "metadata": {
        "id": "L6YE-vxbCSz5"
      }
    },
    {
      "cell_type": "markdown",
      "source": [
        "Comments on the Ten Question, Multiple Choice, 40 minute quiz from NumerixS. \n",
        "\n",
        "JHM: Fair test! Although I always find a way to disagree with some of the answers, if I and we could 'show our work', then we could resolve the confusion and even agree on the answer. \n",
        "\n",
        "The time limit is interesting, allowing for four minutes per question. Of course, if we had ten minutes per question then we would have ample time.\n",
        "\n",
        "For example, you might have a bug who lives on the vertices $A,B,C,D$ of a tetrahedron. The bug moves randomly from vertex $A$ to vertices $B,C,D$; and from those vertices the bug moves randomly again. So what is the probability that after five steps, the bug begins at $A$ and terminates at $A$ ? \n",
        "\n",
        "If $X_t$ is the random variable which is the vertex position of the bug after $t$ time steps, then we seek $P(X_4=A | X_0=A)$. I.e. we have the initial condition $X_0=A$. (Notice the time-step index is shifted by -1). This is known as a basic Markov process with probability transition matrix $$A:=\\frac{1}{3} \\begin{pmatrix} 0 & 1 & 1 & 1 \\\\\n",
        "1 & 0 & 1 & 1 \\\\\n",
        "1 & 1 & 0 & 1 \\\\\n",
        "1 & 1 & 1 & 0 \\\\\n",
        "\\end{pmatrix}.$$\n",
        "\n",
        "The desired probability $P(X_4=A | X_0=A)$ is then related to the entries of $A^4$, or more specifically, the product $$e_1. A^4. ({}^t e_1).$$ In coordinates this term is equal to the $(1,1)$ entry in the matrix $A^4$. We had a pencil and paper so we computed the first two powers, guessed a recursive formula, then picked the nearest multiple choice answer."
      ],
      "metadata": {
        "id": "CTAk7-dO1D8Q"
      }
    },
    {
      "cell_type": "code",
      "execution_count": null,
      "metadata": {
        "colab": {
          "base_uri": "https://localhost:8080/"
        },
        "id": "3ueqqhg51Cfc",
        "outputId": "c4b63de8-a327-49b1-da73-0cf59c171052"
      },
      "outputs": [
        {
          "output_type": "stream",
          "name": "stdout",
          "text": [
            "The transition matrix A is:\n",
            " [[0.         0.33333333 0.33333333 0.33333333]\n",
            " [0.33333333 0.         0.33333333 0.33333333]\n",
            " [0.33333333 0.33333333 0.         0.33333333]\n",
            " [0.33333333 0.33333333 0.33333333 0.        ]]\n",
            "The fourth power A**4 is:\n",
            " [[0.25925926 0.24691358 0.24691358 0.24691358]\n",
            " [0.24691358 0.25925926 0.24691358 0.24691358]\n",
            " [0.24691358 0.24691358 0.25925926 0.24691358]\n",
            " [0.24691358 0.24691358 0.24691358 0.25925926]]\n",
            "The specific probability of the bug returning to it's initial vertex after five steps is equal to: \n",
            " 0.25925925925925924\n"
          ]
        }
      ],
      "source": [
        "# collapse\n",
        "\n",
        "import numpy as np\n",
        "A = np.array([[0,1,1,1], [1,0,1,1],[1,1,0,1],[1,1,1,0]])\n",
        "A=[1/3]*A\n",
        "A4=A@(A@(A@A));\n",
        "print(\"The transition matrix A is:\\n\",A)\n",
        "print(\"The fourth power A**4 is:\\n\",A4)\n",
        "print(\"The specific probability of the bug returning to it's initial vertex after five steps is equal to: \\n\", A4[0,0])"
      ]
    },
    {
      "cell_type": "markdown",
      "source": [
        "Was there a simpler way to determine the coefficient? I don't know.\n",
        "\n",
        "There's other questions to comment on, but I'll keep this short.\n",
        "\n",
        "-JHM."
      ],
      "metadata": {
        "id": "5-JOsu_1CuzM"
      }
    },
    {
      "cell_type": "code",
      "source": [
        ""
      ],
      "metadata": {
        "id": "6YRqQiZZ-oc-"
      },
      "execution_count": null,
      "outputs": []
    }
  ]
}