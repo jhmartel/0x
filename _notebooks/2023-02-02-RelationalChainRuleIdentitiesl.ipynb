{
  "nbformat": 4,
  "nbformat_minor": 0,
  "metadata": {
    "colab": {
      "provenance": [],
      "authorship_tag": "ABX9TyNZWxaZLLOVa4xbjb+4NUiR",
      "include_colab_link": true
    },
    "kernelspec": {
      "name": "python3",
      "display_name": "Python 3"
    },
    "language_info": {
      "name": "python"
    }
  },
  "cells": [
    {
      "cell_type": "markdown",
      "metadata": {
        "id": "view-in-github",
        "colab_type": "text"
      },
      "source": [
        "<a href=\"https://colab.research.google.com/github/jhmartel/fp/blob/master/_notebooks/2023-02-02-RelationalChainRuleIdentitiesl.ipynb\" target=\"_parent\"><img src=\"https://colab.research.google.com/assets/colab-badge.svg\" alt=\"Open In Colab\"/></a>"
      ]
    },
    {
      "cell_type": "markdown",
      "source": [
        "# Chain Rule and Calculus of Relational Mechanics.\n",
        "\n",
        "> \"We continue to develop the $N$ body Weber systems. Integrating the equations of motion requires a relational formulation of Hamilton's equations for the Weber Newton system. In this post we make simple comments on an interesting pseudo partial derivative which arise in applications. We would expect a Kronecker delta, but the reality is somewhat different. For calculus of relational mechanics this is very important basic computation, so must eventually be addressed by any practitioner.\" \n",
        "\n",
        "- toc: false\n",
        "- branch: master\n",
        "- badges: false\n",
        "- comments: true\n",
        "- author: JHM"
      ],
      "metadata": {
        "id": "A6xeOI4ggI5N"
      }
    },
    {
      "cell_type": "markdown",
      "source": [
        "I have some partial derivatives which I cannot evaluate. But the problem is that they are not really partial derivatives because partial derivatives assume the existence of independant Cartesian coordinates. We rather look at the relative distances $\\{ r_{ij}\\}$ and the relative radial velocities $\\nu_{ij}:={\\hat{r_{ij}}} \\cdot v_{ij}$ where $v_{ij}$ is the relative velocity of the particles $i,j$. Here $r^2_{ij}:=|x_i - x_j|^2$. Then ${\\hat{r}}_{ij}$ is the relative unit vector from $i$ to $j$ particles. If we have an $N$ body system with particles $x_i$ and velocities $v_i$, then we define the relational Weber Hamiltonian by the expression\n",
        "$$H=H(r_{ij}, \\nu_{ij}) = \\sum_{i,j} \\frac{q_i q_j}{r_{ij}} (1-\\frac{\\nu_{ij}^2}{2c^2}) + \\frac{\\mu^*_{ij}}{2} v_{ij}^2.$$ Here $\\mu_{ij}^*$ is the reduced kinetic energy mass of the restricted two-body system with masses $\\mu_i, \\mu_j$. \n",
        "\n",
        "The point is that constructing and integrating the Weber-Hamilton equations of motion requires computing some pseudo-partial derivatives. Or we might call them \"relational derivatives\" which are essential in the calculus of relational force laws.\n",
        "\n",
        "For example, we naturally need to evaluate the expressions $\\partial H / \\partial r_{ij}$ and $\\partial H / \\partial \\nu_{ij}.$ \n",
        "\n",
        "___Ultimately using chain rule everything reduces to the evaluation of___ $$\\partial r_{ij} / \\partial r_{kl}, ~~~\\partial \\nu_{ij} / \\partial \\nu_{kl}.$$ \n",
        "\n",
        "But the relational functions $\\{r_{ij}\\}$ and $\\{\\nu_{ij}\\}$ are not independant, so all these identities do not reduce to Kronecker deltas. They have different evaluations, and these evaluations will form the computational basis for actual integration of the relational Hamilton-Weber equations. \n",
        "\n",
        "Here's how I would frame the problem abstractly:\n",
        "\n",
        "Let $x_1, \\ldots, x_N$ be a collection of vectors in ${\\bf{R}}^3$. Let $r_{ij}:=|x_i-x_j|$ be the relative Euclidean distances between $x_i$ and $x_j$. \n",
        "\n",
        "Is the pseudo partial derivative $$\\frac{\\partial r_{ij}}{\\partial r_{kl}}$$ actually a well-defined scalar expression? \n",
        "\n",
        "The formalism of chain rule would suggest that the above pseudo partial derivatives can be expanded in Cartesian coordinates $x_i=(x_i^1, x_i^2, \\dots)$ as follows:\n",
        "\n",
        "$$\\frac{\\partial r_{ij}}{\\partial r_{kl}} = \\sum_{m, p} \\frac{\\partial r_{ij}}{\\partial x_{m}^p} \\frac{\\partial x_m^p}{\\partial r_{kl}} =\\sum_{m,p} \\frac{\\partial r_{ij}}{\\partial x_m^p} (\\frac{\\partial r_{kl}}{\\partial x_m^p})^{-1}.$$\n",
        "\n",
        "So what can we say about evaluating $\\frac{\\partial r_{ij}}{\\partial x_{m}^p}$? \n",
        "\n",
        "We evaluate: $$\\frac{\\partial r_{ij}}{\\partial x_{m}^p} = \\frac{1}{r_{ij}} \\frac{\\partial (r^2_{ij}~/2)}{\\partial x_{m}^p} = \\frac{1}{r_{ij}}  \\frac{\\partial (x^p_i - x^p_j)^2/2)}{\\partial x_{m}^p} = r_{ij}^{-1} \\cdot x_{ij}^p \\cdot (\\pm 1)$$ if $m=i$ or $m=j$ respectively, and equal to zero otherwise.\n",
        "\n",
        "What can we say about $\\frac{\\partial \\nu_{ij}}{\\partial x_{m}^p}$ and $ \\frac{\\partial \\nu_{ij}}{\\partial v_{m}^p}$ ? \n",
        "\n",
        "This gets tedious. [Insert evaluation. Incomplete]. \n",
        "\n",
        "\n",
        "\n"
      ],
      "metadata": {
        "id": "8LSE_mhOgI2q"
      }
    },
    {
      "cell_type": "code",
      "execution_count": null,
      "metadata": {
        "id": "0QfH13dhgHxT"
      },
      "outputs": [],
      "source": []
    }
  ]
}