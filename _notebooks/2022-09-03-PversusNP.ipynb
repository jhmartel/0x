{
  "nbformat": 4,
  "nbformat_minor": 0,
  "metadata": {
    "colab": {
      "provenance": [],
      "collapsed_sections": [],
      "authorship_tag": "ABX9TyOUqaDd95MmY9qOdaC4tCpO",
      "include_colab_link": true
    },
    "kernelspec": {
      "name": "python3",
      "display_name": "Python 3"
    },
    "language_info": {
      "name": "python"
    }
  },
  "cells": [
    {
      "cell_type": "markdown",
      "metadata": {
        "id": "view-in-github",
        "colab_type": "text"
      },
      "source": [
        "<a href=\"https://colab.research.google.com/github/jhmartel/fp/blob/master/_notebooks/2022-09-03-PversusNP.ipynb\" target=\"_parent\"><img src=\"https://colab.research.google.com/assets/colab-badge.svg\" alt=\"Open In Colab\"/></a>"
      ]
    },
    {
      "cell_type": "markdown",
      "source": [
        "# [Under Construction] Remarks on Craig Alan Feinstein's papers and P versus NP.\n",
        "\n",
        "> \"Our attention has recently been drawn to Craig Alan Feinstein's work on P vs NP, and we record some ideas below. Basically we find that IF P is not equal to NP, then it will be unprovable because one cannot formally prove lower bounds on worst case complexity of algorithms. Or this is our impression at the moment.\"\n",
        "\n",
        "- toc: false\n",
        "- branch: master\n",
        "- badges: true\n",
        "- comments: true\n",
        "- author: JHM\n",
        "- categories: [fastpages, jupyter]\n",
        "\n"
      ],
      "metadata": {
        "id": "Z4YeVFPFzQuk"
      }
    },
    {
      "cell_type": "markdown",
      "source": [
        "P versus NP has long complicated backstory, see Stephen Cook's official statement of the problem for the Clay Millenium Problems. https://www.claymath.org/millennium-problems/p-vs-np-problem\n",
        "\n",
        "\n",
        "We have also recently been reviewing Craig Alan Feinstein's papers on the problem, especially his article https://arxiv.org/abs/1605.08639.\n",
        "\n",
        "Now must record that Feinstein's work is somewhat controversial, although we find it quite interesting. For example here is a critique of one of Feinstein's earlier papers, notice the year 2007, https://arxiv.org/abs/0706.2035. Let us remark that _controversy_ is very important for science, and we strongly believe in the need for _creative controversy_. So we follow the debate with much interest.  "
      ],
      "metadata": {
        "id": "6abjRGLj8f3V"
      }
    },
    {
      "cell_type": "markdown",
      "source": [
        "[Insert description of Subset-Sum Problem over an ordered set of length N]\n",
        "\n",
        "[Insert Feinstein's argument to reduce the complexity to $O(2^{N/2})$]\n",
        "\n",
        "Here Feinstein claims (and his critics argue that he asserts _without proof_) that $O(2^{N/2})$ is a __lower bound__ for the worst-case complexity of the SUBSET-SUM problem. The problem however is that computer science and complexity ``theorists\" have no strategies for proving lower bounds! \n",
        "\n",
        "So it appears to us that _if_ $P \\neq NP$ (as is widely expected), then it's formally unprovable (because of the unprovability of lower bounds). In other words, as Feinstein argues, the critics can always say \"Well what if one day an algorithm is discovered by some new method that is much faster $\\ldots$.\" And what's the answer to such a \"what if?\" statement?\n",
        "\n",
        "If we review S. Cook's statement of the P vs NP, we see very few references to _lower bounds_, and it's indeed the central problem in the area. \n",
        "\n",
        "There is another comment to make regarding the effect of so-called quantum computers and quantum algorithms. With QCs, complexity is measured by the number of quantum gates in the circuit realizing the algorithm. But is the complexity in QC really comparable to complexity in classical algorithms?\n",
        "\n",
        "Firstly, the quantum algorithms are not deterministic, i.e. they have a nontrivial probability of giving the _wrong_ answer as output. For example, Grover's search algorithm is quite famous (almost as famous as Schor's factorization algorithm), and given a function $f$ on an unstructured set of $N$ elements, finds the input which satisfies a given output in $O(\\sqrt{N})$ evaluations. We are being vague here, but the wikipedia article on Lov Grover and his algorithm has useful links:\n",
        " \n",
        "e.g. https://arxiv.org/abs/quant-ph/0109116 and https://en.wikipedia.org/wiki/Grover's_algorithm .\n",
        "\n",
        "So we can finish this article here. What's our main point? That IF $P \\neq NP$, then there will never be a proof, because lower bounds on complexity are not possible. Critics will always say there is a possibility of a magic algorithm that speeds up the process. And the confusion being imported by quantum computers encourages the magical optimism, \"Maybe there will even be a quantum algorithm tomorrow which is _much_ faster than anything known!\"\n",
        "\n",
        "So meanwhile we focus on other problems and would not recommend anybody work on P versus NP. \n",
        "\n",
        "\n",
        "\n",
        "\n",
        "\n",
        "\n",
        "\n",
        "\n"
      ],
      "metadata": {
        "id": "6LtQy6xm_cfg"
      }
    },
    {
      "cell_type": "code",
      "execution_count": null,
      "metadata": {
        "id": "IMcTDVXczP9P"
      },
      "outputs": [],
      "source": []
    }
  ]
}