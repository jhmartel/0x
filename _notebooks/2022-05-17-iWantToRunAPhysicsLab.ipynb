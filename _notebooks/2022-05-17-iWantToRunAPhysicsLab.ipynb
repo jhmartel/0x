{
  "nbformat": 4,
  "nbformat_minor": 0,
  "metadata": {
    "colab": {
      "name": "iWantToRunAPhysicsLab.ipynb",
      "provenance": [],
      "collapsed_sections": [],
      "authorship_tag": "ABX9TyNtQIYxbAvZDElt2x2lkPwb",
      "include_colab_link": true
    },
    "kernelspec": {
      "name": "python3",
      "display_name": "Python 3"
    },
    "language_info": {
      "name": "python"
    }
  },
  "cells": [
    {
      "cell_type": "markdown",
      "metadata": {
        "id": "view-in-github",
        "colab_type": "text"
      },
      "source": [
        "<a href=\"https://colab.research.google.com/github/jhmartel/fp/blob/master/_notebooks/2022-05-17-iWantToRunAPhysicsLab.ipynb\" target=\"_parent\"><img src=\"https://colab.research.google.com/assets/colab-badge.svg\" alt=\"Open In Colab\"/></a>"
      ]
    },
    {
      "cell_type": "markdown",
      "source": [
        "# Physics is a calling, and I want to run a physics lab. \n",
        "> \"Where do you see yourself in five years. This is the question people are asking me. I say i want to be running a physics lab. [Laughter follows].\"\n",
        "\n",
        "- toc: false\n",
        "- branch: master\n",
        "- badges: false\n",
        "- comments: true\n",
        "- author: JHM\n"
      ],
      "metadata": {
        "id": "NvWzePZo_-xq"
      }
    },
    {
      "cell_type": "markdown",
      "source": [
        "So i tell people that i want to run a physics lab in five years. The typical response is \"But what do you know about physics or running a physics lab?\" And that's a fair question for the general population. But what don't i know about physics that i need to know? Surely plenty, but why should that stop me from running a lab? \n",
        "\n",
        "I look to Ernest Rutherford, or Kristian Birkeland, or Ampere. These were great physicists in the 19th and early 20th century. You might not know this, but I know that i am them. Sort of a \"cut from the same cloth\" idea.\n",
        "\n",
        "My background -- what i always tell people -- is that in high school i decided i wanted to be a mathematician. It was a calling, and it was a dream that i pursued for 12+ years, and that dream continues and has brought me here. So here i am now telling you my dream is to run a physics lab. Do you doubt it? \n",
        "\n",
        " I am formally trained in mathematics, which is a different discipline i admit, but very relevant to physics. And i don't mean modern theoretical physics, but very relevant to classical physics. Let us remember that all the great physics was performed in 19th and 18th century by gentleman and gentlewomen of modest means, but of extraordinary mind and ability. We are especially mindful of Faraday, Ampere, and Weber. Moreover Gauss and Riemann themselves were especially physically oriented.\n",
        "\n",
        "Are \"trained physicists\" the only persons qualified to run physics labs? No, but they are sometimes qualified to operate in a lab. Good, i might need some physicists in the lab depending on their specialties. An electrician is always useful, or somebody trained in electrochemistry or optics, for example. Moreover experiments also need calibrations, and here sometimes experienced specialists are required. \n",
        "\n",
        "But none of that is any reason why ii can't run a physics lab.\n",
        "\n",
        "Why do i want to run a physics lab? because i want to be captain of the ship, because new programs are going to be needed, new discoveries and results are going to be obtained. This is the Thomas Kuhn type of paradigm shift, where the previous generation will be the _last_ to know that the revolution has begun to turn over.\n",
        "\n",
        "From our view we see classical physics being recalled to life, and being properly rejoined with the experimentalists of 18th, 19th century. We see finally a solution to the same problems that Bohr to Sommerfeld to Heisenberg to Schrodinger all confronted but counld not resolve. In this path the _quantum_ is unnecessary hypothesis. For recall that Planck introduced the quantum as a hypothesis to explain his formula for relating temperature to the spectrum of blackbody radiatio, and he had no explanation for it And its caused no small amount of trouble for the 20th century. What if the quantum discontinuity could finally be understood in the classical continuity? \n",
        "\n",
        "We see the opportunity for this now, presently in 2022.\n",
        "\n",
        "So why do i want to run a lab? Because i want to be positioned to lead the way, be among the shock troops of this new frontier of electrical physics. But it remains something of an obscure path, but which is becoming clearer. There is opportunity to become a pioneer and build the trail, and to document the route. And i'm not the first, but i feel like the first wave who've learned from Electric Universe and Thunderbolts Project, and picking up the tradition left from Wilhelm Weber.\n",
        "\n",
        "The next step is building a team. At this stage, I really ought to have graduate students or collaborators. My greatest fault is that I've always worked independantly. But now I need teammates, because the task i want to now undertake is too big for me alone. \n"
      ],
      "metadata": {
        "id": "pFi5r_0hrpj5"
      }
    },
    {
      "cell_type": "markdown",
      "source": [
        "\n",
        "There's alot of experiments I would like to do. The simplest experiments would begin with Weber's potential = $$U(r,r')=\\frac{q_1 q_2}{r^2}(1-\\frac{r'^2}{2 c^2})$$ and the basic predictions of Weber electrodynamics. These are explained in the Brazilian AKT Assis' work on Weber. \n",
        "\n",
        "We are tempted by the possibility of explaining the relatively short lifetimes of positronium. We are also interested in resolving all the classical objections to Bohr's model of the atoms, e.g. hydrogen, helium, etc.. \n",
        "\n",
        "1. Theoretical calculations with Weber's potential applied to the Weber-Bohr-Sansbury model of the electron and \"positron\" could yield comparisons with the relatively short lifetimes of para-positronium and ortho-positronium (approx. 0.12 ns and 138.6 ns, respectively according to the Wikipedia reference). \n",
        "\n",
        "This would be an interesting test of Weber versus QED.\n",
        "\n",
        "How difficult is it to create positronium in the laboratory? There is possibility of using a radioactive source that ejects positrons. Specifically, Carl Andersen discovered that alpha particles (helium nuclei) bombarding beryllium (atomic number 4 Be !) emitted positrons. Beryllium Be is rather little known atomic element, but now appears very interesting from the Weber viewpoint.\n",
        "\n",
        "2. How does the Weber potential model the emission of positrons when beryllium is bombarded by helium nuclei?\n",
        "\n",
        "\n",
        "[To be continued...]\n",
        "\n",
        "\n"
      ],
      "metadata": {
        "id": "y4oVTHSq_5-6"
      }
    },
    {
      "cell_type": "markdown",
      "source": [
        "# hide\n",
        "\n",
        "The Sansbury model of the positronium is like a six body system. Using Weber's notation, we imagine the electron with charge $-1$ being a three-body system, namely $$[+1, -1, -1].$$ Here the $+1$ refers to a positron core, while we have two $-1$ charges in orbit. Now we can either have the $-1$ charges isolated, or we can imagine the $-1$ charges being within the Weber critical radius such that $[-1, -1]$ is a stable two-body system, i.e. within the critical radius the $-1$ charges are mutually attractive (!). Thus the electron can be more aptly modelled as $$[+1, [-1, -1]], $$ or sometimes written $$[+1, -2].$$ In otherwords, we do not really allow a point with charge $-2$, but rather two distinct $-1$ charge particles which have passed the critical radius and are now a stable attractive two body system. From afar such a two-body system $[-1, -1]$ could be seen to approximate the one-body system $[-2]$. \n",
        "\n",
        "\n",
        "\n",
        "The positron particle is also not indivisible in the Weber-Sansbury planetary model. Rather the positron is a system with a net charge of $+1$, having a core of charge $+2$ and a single $-1$ charge in orbit. Thus the positron has an arrangement like $$[+2, -1]$$ or $$[[+1, +1], -1], $$ where again the two $+1$ charges become mutually attractive within the critical radius.\n",
        "\n",
        "Criticism: the positron and electron are supposed to have identical _mass_. Yet in the above model the $+1$ charges has a different mass than the $-1$ charge. How to reconcile? "
      ],
      "metadata": {
        "id": "cjtR0U-jBgYG"
      }
    }
  ]
}