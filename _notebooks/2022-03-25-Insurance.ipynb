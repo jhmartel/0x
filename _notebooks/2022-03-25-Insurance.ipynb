{
  "nbformat": 4,
  "nbformat_minor": 0,
  "metadata": {
    "colab": {
      "name": "Insurance.ipynb",
      "provenance": [],
      "collapsed_sections": [],
      "authorship_tag": "ABX9TyOhPAadTm/m1B4zR9hcUC8r",
      "include_colab_link": true
    },
    "kernelspec": {
      "name": "python3",
      "display_name": "Python 3"
    },
    "language_info": {
      "name": "python"
    }
  },
  "cells": [
    {
      "cell_type": "markdown",
      "metadata": {
        "id": "view-in-github",
        "colab_type": "text"
      },
      "source": [
        "<a href=\"https://colab.research.google.com/github/jhmartel/fp/blob/master/_notebooks/2022-03-25-Insurance.ipynb\" target=\"_parent\"><img src=\"https://colab.research.google.com/assets/colab-badge.svg\" alt=\"Open In Colab\"/></a>"
      ]
    },
    {
      "cell_type": "markdown",
      "source": [
        "# \"Cyber Risk and (Un)Insurability\"\n",
        "\n",
        "> \"Brief intro to the problem of cyber insurance...\"\n",
        "\n",
        "- toc: false\n",
        "- branch: master\n",
        "- badges: true\n",
        "- comments: true\n",
        "- categories: [cyber insurance]\n",
        "- hide: false\n",
        "- search_exclude: true\n"
      ],
      "metadata": {
        "id": "nrUP1bc4qVVc"
      }
    },
    {
      "cell_type": "markdown",
      "source": [
        "The market for cyber insurance appears relatively small compared to other conventional insurance markets. This raises the very interesting question \"Is Cyber Risk Insurable?\".\n",
        "\n",
        "In an extreme sense, all events are insurable. However the insurer might be driven to ruin and lose everything. So more specifically, not all events can be _consistently profitably insured_. Insurance policies are wagers about future-costs of variable goods and services. A profitable insurance policy requires accurate forecasts of expected future costs. Moreover the distribution of these losses and events need to be reasonably non-correlated. This is the difficult with insuring houses in flood zones, since a flood typically floods _all_ the houses in a given region, and not a house \"here and there\". On the other hand, house fires don't typically affect multiples houses at once (although fires ``spread\" of course).\n",
        "\n",
        "The question of which events _are_ profitably insurable was considered by Baruch Berliner in various articles. Berliner's insurability criteria is the following:\n",
        "\n"
      ],
      "metadata": {
        "id": "tTT-0Zd9Cmqd"
      }
    },
    {
      "cell_type": "markdown",
      "source": [
        "We are influenced by deFinetti's definition of probability in terms of Dutch books and wagers. It's not enough to say that an event has 50% probability, for everyone is entitled to their opinion on the probabilities, but to _show_ that you believe the event has 50% probability means you will _wager_ on the outcome for anything better than 1:1 odds, i.e. you will happily sell bets where the odds are less than 50%, and will buy bets where the odds are greater than 50%. "
      ],
      "metadata": {
        "id": "wr_sV_Dw4uUJ"
      }
    },
    {
      "cell_type": "markdown",
      "source": [
        "The story of insurance starts with a basic equation: $$Price=Cost+Profit.$$ The equation is almost tautological, simply expressing that \"profit\" is _defined_ as the difference between \"price\" and \"cost\".\n",
        "\n",
        "For noninsurance companies, the production cost is known before the product is sold, and the initial price can be set to achieve a profit. This ensures that price is greater than cost, and the profit is positive ($>0$). \n",
        "\n",
        "Insurance is much riskier. _\"Insurance is a product which promises to do something in the future if certain events take place during a specified time period.\"_\n",
        "\n",
        "Thus insurance needs to set a price _now_ to cover a cost that might arise in the _future_ during a specified time interval.\n",
        "\n",
        "Ex. Insurance promises to pay for rebuilding a home in case of fire; or promises to pay for medical treatment if a worker is injured on the job.\n",
        "\n",
        "Insurance is a type of _futures contract_, offering products and services in the future if a predetermined set of events occur. However it's difficult for insurance to be profitable if, for example, the costs of the services are subject to change in the future. Thus insurance needs estimate the expected cost of its policies, and needs set prices which will cover all expected costs. This is the business of _rate-making_.\n",
        "\n",
        "Ratemaking in insurance has the goal of setting rates such that the premiums are expected to cover all costs and achieve the target underwriting profit. Some equivalent definitions:\n",
        "\n",
        "* A profitable rate provides for all costs associated with the transfer of risk.\n",
        "*  A profitable rate is an estimate of the expected value of future costs. \n",
        "\n",
        "Ratemaking is difficult when the costs are not known at the point of sale and need be estimated. \n",
        "\n",
        "N.B. Historic costs only used to the extent that they provide valuable information for estimating future costs.\n",
        "\n",
        "Similar to the futures and options financial markets, the most profitable position is to be a net seller to the market, being involved in both buying and selling of insurance contracts. Thus insurance firms also buy and sell insurance contracts between themselves in order to diversify their own risks, and as a means of locking in profit by transferring their risk to third parties. This is the business of _under writing_. \n"
      ],
      "metadata": {
        "id": "TOCCLG-R96Iy"
      }
    },
    {
      "cell_type": "markdown",
      "source": [
        "Are there uninsurable risks? \n",
        "\n",
        "Yes, according to the insurance companies, any risk that is _not measurable_ is considered uninsurable. \n",
        "\n",
        "Why? \n",
        "\n",
        "Because the insurance company cannot set rates with a reasonable expectation of profit. For example, it's recently reported that up to 10% of houses risk becoming uninsurable due to the increase of local flooding, c.f. [\"‘Many, many’ Canadian homes could become uninsurable\"](https://renx.ca/newsletter/residential-real-estate-news-2013-07-09/) and [\"Uninsurable\"](https://thenewdaily.com.au/finance/finance-news/2022/03/06/insurance-floods-climate/).\n",
        "\n",
        "\n",
        "In otherwords, the actuaries are faced with a new reality, where the historical records are no longer relevant. Moreover, flooding typically threatens multiple houses simultaneously, and this compounded risk (or dependancy) is risky for the insurer."
      ],
      "metadata": {
        "id": "m2FXBJreD9mw"
      }
    },
    {
      "cell_type": "markdown",
      "source": [
        "\n",
        "Ratemaking is related to estimates on the value at risk, or VaR. \n",
        "\n",
        "Ex. An asset may have a 3% one month VaR of 2% representing a 3% chance of the asset declining in value by 2% during the one-month time frame.\n",
        "\n",
        "The VaR formalism introduces the notion of _confidence interval_. [Incomplete].\n",
        "\n"
      ],
      "metadata": {
        "id": "KcZwCgIaCiVB"
      }
    },
    {
      "cell_type": "markdown",
      "source": [
        "So what about cyber security and cyber risk?\n",
        "\n",
        "The goal of cyber insurance should be to transfer risk.\n",
        "\n",
        "Claim: cyber insurance is essentially different from _indemnity insurance_. [how?].\n",
        "\n",
        "\n",
        "\n",
        "1.   Unlike motor insurance, or home insurance, or life insurance, any firm offering cyber insurance has its own proper cyber risk. (I.e. there is operational cyber risk with the insurance company itself). For example, one rarely needs consider whether your car insurance is at risk of being in an accident, or whether your home insurance provider will have their offices destroyed. But any cyberinsurance company  and it's proper IT structure will always face cyber risk themselves.\n",
        "\n",
        "2.   Motor insurance is protection for uncorrelated risks. Likewise home insurance claims do not usually result in simultaneous neighbouring claims, except in catastrophic natural events like hurricanes, floods, etc.. Likewise a vehicular accident usually involves a minimal number of secondary vehicles (although, of course this does also happen). But cyberrisks are significantly correlated with each other [ref].\n",
        "\n",
        "Quote: \" Two properties distinguish cyber-risk from conventional risk. First, nowadays ICT resources are not isolated machines, but interconnected in a network. Their value largely emerges from this interconnection, therefore the analysis of risk and potential losses must take into account the inter-dependencies between connected nodes. Second, most ICT resources are universal automatons and thus have a dual nature: if operational,they generate value for its operators and therefore become loss sources when they malfunction; moreover, when abused or “taken over” by malicious attackers, benign nodes can become threats to other nodes.\" \n",
        "\n",
        "[Extract from [ref]]\n",
        "Def: We thus define cyber risk as “operational risks to information and\n",
        "technology assets that have consequences affecting the confidentiality, availability, or integrity of information or information systems” (Cebula and Young, 2010). In contrast to the property and liability category it is notable that cyber risk is a mixture of short- and long-tail risks, which can be of a first- and third-party nature. Cyber risk thus is a combination of both categories. In contrast to the terror and cat risk one striking result is that cyber is a low frequency/high severity risk with respect to extreme scenarios, but it also has a high frequency component, which we could call the cyber risks “of daily life” (e.g., hacker attacks). Again it seems that unlike other risk categories, that cyber is a mix of categories.\n",
        "\n",
        "\n",
        "\n",
        "\n",
        "\n",
        "\n",
        "\n"
      ],
      "metadata": {
        "id": "YhnWkJYeFExH"
      }
    },
    {
      "cell_type": "markdown",
      "source": [
        "[\"Four Uninsurable Cyber Risks\"](https://www.canadianunderwriter.ca/insurance/four-uninsurable-cyber-risks-1004214054/)\n",
        "\n"
      ],
      "metadata": {
        "id": "soZ9qOXNu8wJ"
      }
    },
    {
      "cell_type": "markdown",
      "source": [
        "The following is taken from the above link [ref]. \n",
        "\n",
        "“Historically, in property insurance, damages caused by war have been seen as uninsurable,” said Tim Zeilman, vice president and global product owner-cyber, Hartford Steam Boiler, during an A.M. Best Company Inc. webinar. “I think the same is true for cyber.”\n",
        "\n",
        "\"Munich Re would deem a risk as insurable if it is measurable – if you are able to quantify what your exposure is, said Annamaria Landaverde, senior vice president and cyber team lead for Munich Re U.S.\". \n",
        "\n",
        "Munich Re generally considers the following three categories of events as insurable:\n",
        "\n",
        "a widespread malware event;\n",
        "a cloud outage;\n",
        "a widespread data breach.\n",
        "This is because the reinsurer could quantify its maximum probable loss, said Landaverde.\n",
        "\n",
        "On the other hand, she said, the following three categories of widespread critical infrastructure outages are generally uninsurable:\n",
        "\n",
        "satellite communications\n",
        "the Internet; and\n",
        "the electrical grid.\n",
        "\n",
        "Munich Re would deem them uninsurable because – at least under a cyber policy – the reinsurer could not quantify the maximum probable loss, she suggested.\n",
        "\n",
        "Then there is the category of war losses.\n",
        "\n",
        "“I think it is just a question of adequately defining what war means from a cyber perspective. War has changed. Thinking about old-fashioned kinetic war may not make sense for cyber,” said Zeilman."
      ],
      "metadata": {
        "id": "4y48k3jZFZiV"
      }
    },
    {
      "cell_type": "markdown",
      "source": [
        "[Top Five Uninsurable Risks](https://riskandinsurance.com/top-five-uninsurable-risks/)"
      ],
      "metadata": {
        "id": "V7oFVv4VKvUi"
      }
    },
    {
      "cell_type": "markdown",
      "source": [
        "\n"
      ],
      "metadata": {
        "id": "h3zgXSAbx0Ea"
      }
    },
    {
      "cell_type": "markdown",
      "source": [
        "# Notes on Hubbard's Book.\n",
        "\n",
        "The following are some notes based on my reading of \"How to Measure Anything in Cybersecurity and Risk\". They are basically direct quotations from the text.\n",
        "\n",
        "Measurement is an observation that quantitatively reduces uncertainty. \n",
        "Equivalently, a measurement is a quantitatively expressed reduction of uncertainty on one or more observations. [p.21].\n",
        "\n",
        "Probability: idea from Shannon we use probabilities because we lack perfect information. Quote from Ron Howard [p.25] \"...The whole idea of probability is to be able to describe by numbers your ignorance, or equivalently your knowledge. So no matter how knowledgeable or ignorant you are, that's going to determine what probabilities are consistent with that.\"\n",
        "\n",
        "Example: to want performance metrics for IT security. but, \"what do you mean by 'IT security'?\". Ask enough questions and they mean things like a reduction in intrusions and virus infections. These things impact the organization through fraud, lost productivity, or potential legal liabilities (i.e. if a laptop is stolen that contains private information for alot of people!). \n",
        "\n",
        "If X is something that we care about, then X by definition, must be detectable in some way. How could we care about an undetectable event. If the event is detectable, then we can measure \"more of it\" or measure \"less of it\" along a relative scale. \n",
        "\n",
        "Terms which initially vague like \"threat capability\" or \"reputation to damage\" or \"customer confidence\" seem immeasurable at first, but these terms can be decomposed into lists of more specific things.\n",
        "\n",
        "Measure of uncertainty: a set of probabilities assigned to a set of possibilities: \"There is a 20% chance we will have a data breach sometime in the next five years.\"\n",
        "\n",
        "Risk: A state of uncertainty where some of the possibilities involve a loss, catastrophe, or other undesirable outcomes. \n",
        "\n",
        "Measurement of Risk: a set of possibilities, each with quantified probabilities and quantified losses. \"We believe there is a 10% chance that a data breach will result in a legal liability exceeding $10 million.\"\n",
        "\n",
        "Need unlearn the term \"statistically significant\". \n",
        "\n",
        "Measuring with very small random samples of a very large population.\n",
        "\n",
        "Measuring when many other, even unknown, variables are involved. E.g. we can estimate how much a new security control reduced risk even when there are many other factors affecting whether or not losses due to cyberattacks occur.\n",
        "\n",
        "Measuring the risk of rare events.\n",
        "Measuring subjective preferences and values.\n"
      ],
      "metadata": {
        "id": "IQnYm4aEOOEm"
      }
    },
    {
      "cell_type": "markdown",
      "source": [
        "# Hubbard and Rule of Five:\n",
        "\n",
        "Consider a random sample of five of anything. E.g., time spent by employees on websites, a survey of firms in some industry reporting cybersecurity budgets. \n",
        "\n",
        "_What is the chance that the median of the entire population is between the largest and smallest of that sample of five?_\n",
        "\n",
        "The answer is 93.75%. \n",
        "\n",
        "For the sample population to not contain the median in its convex hull requires that all the samples live either below or above the median. And this amounts to flipping a fair coin five times such that all outcomes are HHHHH or TTTTT. \n",
        "\n",
        "Here are the hypotheses: \n",
        "1. No matter how complex or \"unique\" your measurement problem seems, assume it has been measured before. \n",
        "\n",
        "2. If you are resourceful, you can probably find more sources of data than you first thought.\n",
        "\n",
        "3. You probably need less data than your intuition tells you -- this is actually even more the case when you have alot of uncertainty now.\n",
        "\n",
        "\n",
        "\n",
        "Instead of rating the likelihood on a scale of 1 to 5, Hubbard method substitutes: Estimating the probability of the event occurring in a given period of time (e.g. 1 year). \"Event X has a 10% chance of occurring in the next 12 months\". \n",
        "\n",
        "Rating impact on a scale of 1 to 5: substitute \"Estimating a 90% confidence interval for a monetized loss\". \"If event X occurs, there is a 90% chance the loss will be between 1 million and 8 million.\"\n",
        "\n",
        "Plotting likelihood and impact scores on a risk matrix: substitute using the quantitative  likelihood and impact to generate a \"loss exceedance curve\" using a Monte Carlo simulation.\n",
        "\n",
        "Further dividing the risk matrix into risk categories or red/yellow/green: Compare the loss exceedance curve to a risk tolerance curve and prioritizing actions based on return on mitigation.\n",
        "\n",
        "Events | Assigned Probabilities | Range of Losses.\n",
        "\n",
        "Risk Curves, Loss Exceedance Curves.\n",
        "\n",
        "To a subjectivist, a probability merely describes what a person knows, whether or not the uncertainty involves a fixed fact, such as the true mean of a population, as long as it is unrevealed to the observer. Using probabilities (and confidence intervals) as an expression of uncertainty is the practical approach for making risky decisions.\n",
        "\n",
        "Note by JHM: \"Here we diverge somewhat from Hubbard in his interpretation of the subjectivist view. For what is the confidence interval ? What does it mean to have a 90% confidence that X occurs ? \n",
        "\n",
        "Enter deFinetti's definition of operational probabilities, namely as the wagering rate for the event. If a person has 90% confidence that X happens, then are they willing to take an 8:1 bet on the outcome of event X happening? So here perhaps the event X is not repeatable, but then we can imagine a population of bettors who are looking to wager on the event X, having their _own_ subjective probabilities. \n",
        "\n"
      ],
      "metadata": {
        "id": "7ycD96SsWTis"
      }
    }
  ]
}