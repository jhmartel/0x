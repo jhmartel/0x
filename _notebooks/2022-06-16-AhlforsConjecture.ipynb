{
  "nbformat": 4,
  "nbformat_minor": 0,
  "metadata": {
    "colab": {
      "name": "AhlforsConjecture.ipynb",
      "provenance": [],
      "collapsed_sections": [],
      "authorship_tag": "ABX9TyNBdUejGMklFZZP8sC23f71",
      "include_colab_link": true
    },
    "kernelspec": {
      "name": "python3",
      "display_name": "Python 3"
    },
    "language_info": {
      "name": "python"
    }
  },
  "cells": [
    {
      "cell_type": "markdown",
      "metadata": {
        "id": "view-in-github",
        "colab_type": "text"
      },
      "source": [
        "<a href=\"https://colab.research.google.com/github/jhmartel/fp/blob/master/_notebooks/2022-06-16-AhlforsConjecture.ipynb\" target=\"_parent\"><img src=\"https://colab.research.google.com/assets/colab-badge.svg\" alt=\"Open In Colab\"/></a>"
      ]
    },
    {
      "cell_type": "markdown",
      "source": [
        "# Remarks on Ahlfor's Measure Conjecture. \n",
        "> \" (Under construction) Here we record some observations and ideas regarding Ahlfor's measure conjecture. We begin writing basic python code to study limit points of divergent subsequences in Kleinian-type groups in higher dimensions. For the purposes of this article however we restrict ourselves to small dimensions. \"\n",
        "\n",
        "- toc: false\n",
        "- branch: master\n",
        "- badges: false\n",
        "- comments: true\n",
        "- author: JHM"
      ],
      "metadata": {
        "id": "Vcro3xsXaXI4"
      }
    },
    {
      "cell_type": "markdown",
      "source": [
        "A recent [MO post](https://mathoverflow.net/questions/424343/counterexamples-to-the-ahlfors-measure-conjecture-in-higher-dimensions) has prompted us to express something about our views regarding $\\Gamma$ actions and $\\Gamma$-invariant Borel measures and proper discontinuous actions, $E\\Gamma$ spaces, etc.. The conjecture is rather famous, especially in three dimensions. But since our PhD thesis (2019) we have some nonstandard approaches to the problem, which we will elaborate below.\n",
        "\n",
        "It's not easy to describe the current state of the conjecture, depending on several implications and reductions to other conjectures, especially in three-dimensions. A good reference is [here](http://www.numdam.org/item/PMIHES_2003__98__145_0/). \n",
        "\n",
        "The above MO question is interesting in that it's asking about the corresponding conjecture in higher dimensions. I sent Alex Kolpakov a message asking him about the question because he's the person who I know knows the most about four-dimensional manifolds.\n",
        "\n",
        "The setting for Ahlfor's problem begins with a discrete finitely generated group $\\Gamma < Isom(\\bf{H}^{n+1})$ of some hyperbolic space. The discreteness of the group representation implies that $\\Gamma$ acts _proper discontinuously_ on the hyperbolic space. The hyperbolic space also has a canonical volume measure. We say the representation has finite covolume if the quotient $\\bf{H} /\\Gamma$ has finite volume. In otherwords $\\Gamma$ represents the fundamental group of a hyperbolic orbifold $X:=\\bf{H}^{n+1} / \\Gamma$, and the action $$\\Gamma \\times \\bf{H}^{n+1} \\to \\bf{H}^{n+1}$$ is the universal covering action $$\\pi_1 \\times \\tilde{X} \\to \\tilde{X} $$ where $\\tilde{X}\\approx \\bf{H}^{n+1}$. \n",
        "\n",
        "Now given an action of $\\Gamma$ on $\\bf{H}$ we next need to define the topology of the \"boundary at-infinity\". \n",
        "\n",
        "To review: geodesics in hyperbolic space $\\bf{H}^{n+1}$ diverge exponentially in every direction. The hyperbolic space is expansive at-infinity. And even though the Poincare disk might naively appear to be a small bounded disk, this disk in fact contains an infinitely large expansive world.\n",
        "\n",
        "![](https://tse3.mm.bing.net/th?id=OIP.CKJrGh970eN8IDdmqgmzDQHaHa&pid=Api)\n",
        "\n",
        "We need carefully define the topology to properly define the _limit points_ $L_\\Gamma$ of a $\\Gamma$-orbit $\\Gamma.pt$. In fact some confusion arises because the topology on the visual sphere at-infinity is not always made explicit by authors. Naively the majority definition of the topology on the visual sphere consists of open subsets which are _presumed_ to contain ideal points $\\xi$ at infinity. This perspective implicitly assumes that the boundary disk is the natural compactification of the hyperbolic space $\\bf{H}$. \n",
        "\n",
        "But actually the correct definition of these ideal points is via horoballs and the horofunctions. A point at-infinity $\\xi$ really corresponds to a $1$-Lipschitz function $b_\\xi: \\bf{H} \\to \\bf{R}$, and specifically the pole at negative infinity $-\\infty$ of $b_\\xi$. The level sets of the horofunction $b_\\xi$ are horospheres centred at $\\xi$. \n",
        "\n",
        "So we have two definitions of the points at-infinity, and two different topologies. For example:\n",
        "\n",
        "1. Horofunction definition of limit points at-infinity: the point $\\xi$ is a limit point of the orbit $\\Gamma .pt$ with respect to the horoball topology if the values of the orbit $b_\\xi(\\gamma.pt)$, $\\gamma \\in \\Gamma$, accumulate near the negative infinity pole. I.e. iff there exists an infinite subsequence such that $b_\\xi(\\gamma.pt)$ diverges to $-\\infty$.\n",
        "\n",
        "2. \"Open\" topology definition of limit points: the visual point $\\xi' \\in \\partial_\\infty \\bf{H}$ is a limit point of the orbit $\\Gamma .pt$ w.r.t. the open topology if every open neighborhood $U$ of $\\xi'$ in $\\bf{H} \\cup \\partial_\\infty \\bf{H}$ has a non trivial intersection with the orbit $U \\cap \\Gamma.pt \\neq \\emptyset$. \n",
        "\n",
        "The problem with the second definition, which admittedly the majority topology in the literature, is that the point at-infinity has not been defined, and no criteria is given for testing whether the \"point\" $\\xi'$ is contained or not contained in the open subset $U$ of $\\bf{H}$.\n",
        "\n",
        "Therefore in the horofunction topology, the ideal points at-infinity are not \"points on a sphere\" they are instead $1$-Lipschitz functions obtained as a natural limit of the distance functions $d(x,y)$. The point at infinity $\\xi$ is instead the negative infinity pole of the corresponding horofunction $b_\\xi$.\n",
        "\n",
        "\n",
        "\n"
      ],
      "metadata": {
        "id": "37X2iXOsA9jM"
      }
    },
    {
      "cell_type": "markdown",
      "source": [
        "\n",
        "Naively one says there is a circle at infinity, namely the visual sphere $\\partial_\\infty \\bf{H} \\approx \\bf{S}^1$. With respect to the hyperbolic metric, of course the boundary is infinitely far away. Now we need to topologize the visual boundary such that the $\\Gamma$-action on $\\bf{H}$ extends to a continuous topological action on $\\bf{H} \\cup \\partial \\bf{H}$.\n",
        "\n",
        "One method of topologizing the boundary is via the visual angle metric. Another interesting topology on the boundary is the Busemann topology. The key fact necessary is that the topology of $\\partial_\\infty$ needs be defined such that the group $\\Gamma$ acts continuously on $\\bf{H} \\cup \\partial_\\infty \\bf{H}$.\n",
        "\n",
        "[Edit] If we fix a basepoint $pt$ in $\\bf{H}$, then one naturally defines the boundary at-infinity $\\partial_\\infty \\bf{H}$. The boundary at-infinity is topologized with the visual angle metric, and it's a standard fact that the boundary at-infinity is a topological sphere $\\partial_\\infty \\bf{H}^{n+1} \\approx \\bf{S}^n$. The sphere at-infinity does not have a $\\Gamma$-invariant metric since $\\Gamma$ actions by translating the basepoint $pt$. It is a standard fact that the sphere at-infinity has a well-defined $\\Gamma$-invariant metric modulo quasi-isometries. The definition of quasi-isometries will not be further developed in this article, except to say this: that the topological sphere at-infinity is a difficult object to study with respect to the $\\Gamma$ action. \n",
        "\n",
        "Standard fact: Under assumptions [insert] the topological action $\\Gamma \\times \\bf{S}^n \\to \\bf{S}^n$ is _ergodic_ with respect to the class of $n$-dimensional Lebesgue measures on $\\bf{S}^n$. In other words, if $\\lambda$ is the $n$-dimensional Lebesgue measure on the topological sphere at-infinity $\\bf{S}^n$, then the only $\\lambda$-measurable $\\Gamma$-invariant functions $f: \\bf{S}^n \\to \\bf{R}$ are constant a.e.. [Insert reference to Mostow's proof, or Thurston's book]. Roughly speaking, the topological $\\Gamma$-action on $\\bf{S}^n$ is very complicated, acting with sources and sinks and strange dynamics which are not measured by the $n$-dimensional Lebesge measure $\\lambda$. \n",
        "\n",
        "To finally state Ahlfor's measure conjecture we need to define the limit set of a $\\Gamma$-orbit. Informally we can define $L_\\Gamma \\subset \\partial_\\infty \\bf{H}$ as the accumulation points of the orbit $\\Gamma. pt$.\n",
        "\n",
        "Ahlfor's Measure Conjecture: If $\\Gamma, X$ satisfy the assumptions (i) and (ii), namely having finitely many ends and finite volume, then the limit set $L_\\Gamma$ is either a zero or full measure subset of $\\partial_\\infty \\tilde{X}$. In otherwords, the limit set $L_\\Gamma$ is either equal to $\\bf{S}^n$ or has vanishing $n$-dimensional measure.\n",
        "\n",
        "In most circumstances, the action of $\\Gamma$ on the visual sphere is ergodic with respect to the natural Lebesgue measure on the sphere. However the example in the above MO post shows the action is not necessarily ergodic in higher dimensions for certain groups. However in this counter-example to ergodicity the group $\\Gamma$ is finitely-generated but not finitely-presentable.\n",
        "\n",
        "Now we must admit that the structure of the limit points $L_\\Gamma$ is very difficult to comprehend. Many experts have been involved in producing graphics and simulations of these limit sets, especially for Kleinian and Fuchsian groups. Mumford's book \"Indra's Pearls\" is also relevant here. \n",
        "\n",
        "\n",
        "Now our approach to Ahlfor's Measure Conjecture is to first realize that the visual boundary is not the correct boundary for the group action $\\Gamma \\times \\bf{H} \\to \\bf{H}$. We view the visual boundary as extremely unnatural with respect to the group $\\Gamma$. Specifically, the problem is that the $\\Gamma$ action is not proper discontinuous on the visual sphere. This means that point orbits on the sphere are not well separated by the $\\Gamma$ action. In otherwords, the visual boundary is very confusing because group elements which otherwise are very distinct can have similar actions on the visual boundary, and their distinct identities become confused. \n"
      ],
      "metadata": {
        "id": "P6ObA4kZwXg2"
      }
    },
    {
      "cell_type": "code",
      "source": [
        "# hide\n",
        "\n",
        "import numpy as np\n",
        "from numpy.linalg import matrix_power\n",
        "T = np.array([[2,1], [1,0]]) \n",
        "\n",
        "# this is preliminary definition of projective renormalized limit. \n",
        "# we assume the sequence of nth powers T**n is diverging, which is iff\n",
        "# the sup norm\n",
        "def prl(T, n):\n",
        "    T_n = matrix_power(T, n);\n",
        "    sup=T_n.max()\n",
        "    T_n_normalized = (1/sup)*T_n \n",
        "    \n",
        "    return [T_n_normalized, np.linalg.det(T_n_normalized)];\n",
        "    \n",
        "\n",
        "#np.linalg.det(a)\n",
        "#    print(\"The matrix T raised to the power of\", n, \" is equal to\", T_n);\n",
        "#    print(\"The renormalized power is equal to:\", T_n_normalized)\n",
        "\n",
        "   \n",
        "  #  print(T_n_normalized)\n",
        "  #  print(T_n)\n",
        "    #print(sup)\n",
        "\n",
        "prl(T, 5000)\n",
        "\n",
        "# The program is simple enough to be operating correctly. However are there numerical errors which are accumulating?\n",
        "# Is that why the output for large n does not seem correct? In the PRL we expect the determinant of the matrix to be converging to zero."
      ],
      "metadata": {
        "id": "eMOaKWSVaW2c"
      },
      "execution_count": null,
      "outputs": []
    },
    {
      "cell_type": "code",
      "source": [
        "# We begin with abstract setup. Below we are enumerating the ends of the Cayley graph/tree\n",
        "# generated by the letters, a, A, b, B. Eventually we use a dictionary to convert these\n",
        "# letters and words into numerical matrices. \n",
        "import numpy as np\n",
        "#from numpy.linalg import matrix_power\n",
        "\n",
        "gen=['a','A','b','B']\n",
        "inverse_list=[['a','A'], ['A', 'a'], ['b', 'B'], ['B', 'b']]\n",
        "\n",
        "def test(x):\n",
        "    a, b = x\n",
        "    if (x in inverse_list):\n",
        "       return False\n",
        "    else:\n",
        "       return True\n",
        "\n",
        "def f(x):\n",
        "    l=[]\n",
        "    level, word_list, tail = x\n",
        "    new_level=level+1\n",
        "    for letter in gen:\n",
        "        if test([tail, letter])==True:\n",
        "            new_word_list=word_list+[letter]\n",
        "            new_tail=letter\n",
        "            l=l+[[new_level, new_word_list, new_tail]]\n",
        "        else:\n",
        "            pass\n",
        "    return l\n",
        "\n",
        "print(f([1,['B', 'a'],'a' ]))\n",
        "\n",
        "\n",
        "# Below we print the ends. \n",
        "\n",
        "seed=[0, [], ''];\n",
        "\n",
        "def ends(x):\n",
        "    m, seed = x\n",
        "    sample_list=[seed];\n",
        "    for n in range(m):\n",
        "        new_list=[]\n",
        "        for x in sample_list:\n",
        "            new_list=new_list+f(x)\n",
        "            sample_list=new_list        \n",
        "    return [len(sample_list), sample_list]\n",
        "\n",
        "print(ends([4, seed]))"
      ],
      "metadata": {
        "colab": {
          "base_uri": "https://localhost:8080/"
        },
        "id": "dbxNyenRF4ut",
        "outputId": "a65f5ec4-1007-4308-f739-deb9eb437897"
      },
      "execution_count": 5,
      "outputs": [
        {
          "output_type": "stream",
          "name": "stdout",
          "text": [
            "[[2, ['B', 'a', 'a'], 'a'], [2, ['B', 'a', 'b'], 'b'], [2, ['B', 'a', 'B'], 'B']]\n",
            "[108, [[4, ['a', 'a', 'a', 'a'], 'a'], [4, ['a', 'a', 'a', 'b'], 'b'], [4, ['a', 'a', 'a', 'B'], 'B'], [4, ['a', 'a', 'b', 'a'], 'a'], [4, ['a', 'a', 'b', 'A'], 'A'], [4, ['a', 'a', 'b', 'b'], 'b'], [4, ['a', 'a', 'B', 'a'], 'a'], [4, ['a', 'a', 'B', 'A'], 'A'], [4, ['a', 'a', 'B', 'B'], 'B'], [4, ['a', 'b', 'a', 'a'], 'a'], [4, ['a', 'b', 'a', 'b'], 'b'], [4, ['a', 'b', 'a', 'B'], 'B'], [4, ['a', 'b', 'A', 'A'], 'A'], [4, ['a', 'b', 'A', 'b'], 'b'], [4, ['a', 'b', 'A', 'B'], 'B'], [4, ['a', 'b', 'b', 'a'], 'a'], [4, ['a', 'b', 'b', 'A'], 'A'], [4, ['a', 'b', 'b', 'b'], 'b'], [4, ['a', 'B', 'a', 'a'], 'a'], [4, ['a', 'B', 'a', 'b'], 'b'], [4, ['a', 'B', 'a', 'B'], 'B'], [4, ['a', 'B', 'A', 'A'], 'A'], [4, ['a', 'B', 'A', 'b'], 'b'], [4, ['a', 'B', 'A', 'B'], 'B'], [4, ['a', 'B', 'B', 'a'], 'a'], [4, ['a', 'B', 'B', 'A'], 'A'], [4, ['a', 'B', 'B', 'B'], 'B'], [4, ['A', 'A', 'A', 'A'], 'A'], [4, ['A', 'A', 'A', 'b'], 'b'], [4, ['A', 'A', 'A', 'B'], 'B'], [4, ['A', 'A', 'b', 'a'], 'a'], [4, ['A', 'A', 'b', 'A'], 'A'], [4, ['A', 'A', 'b', 'b'], 'b'], [4, ['A', 'A', 'B', 'a'], 'a'], [4, ['A', 'A', 'B', 'A'], 'A'], [4, ['A', 'A', 'B', 'B'], 'B'], [4, ['A', 'b', 'a', 'a'], 'a'], [4, ['A', 'b', 'a', 'b'], 'b'], [4, ['A', 'b', 'a', 'B'], 'B'], [4, ['A', 'b', 'A', 'A'], 'A'], [4, ['A', 'b', 'A', 'b'], 'b'], [4, ['A', 'b', 'A', 'B'], 'B'], [4, ['A', 'b', 'b', 'a'], 'a'], [4, ['A', 'b', 'b', 'A'], 'A'], [4, ['A', 'b', 'b', 'b'], 'b'], [4, ['A', 'B', 'a', 'a'], 'a'], [4, ['A', 'B', 'a', 'b'], 'b'], [4, ['A', 'B', 'a', 'B'], 'B'], [4, ['A', 'B', 'A', 'A'], 'A'], [4, ['A', 'B', 'A', 'b'], 'b'], [4, ['A', 'B', 'A', 'B'], 'B'], [4, ['A', 'B', 'B', 'a'], 'a'], [4, ['A', 'B', 'B', 'A'], 'A'], [4, ['A', 'B', 'B', 'B'], 'B'], [4, ['b', 'a', 'a', 'a'], 'a'], [4, ['b', 'a', 'a', 'b'], 'b'], [4, ['b', 'a', 'a', 'B'], 'B'], [4, ['b', 'a', 'b', 'a'], 'a'], [4, ['b', 'a', 'b', 'A'], 'A'], [4, ['b', 'a', 'b', 'b'], 'b'], [4, ['b', 'a', 'B', 'a'], 'a'], [4, ['b', 'a', 'B', 'A'], 'A'], [4, ['b', 'a', 'B', 'B'], 'B'], [4, ['b', 'A', 'A', 'A'], 'A'], [4, ['b', 'A', 'A', 'b'], 'b'], [4, ['b', 'A', 'A', 'B'], 'B'], [4, ['b', 'A', 'b', 'a'], 'a'], [4, ['b', 'A', 'b', 'A'], 'A'], [4, ['b', 'A', 'b', 'b'], 'b'], [4, ['b', 'A', 'B', 'a'], 'a'], [4, ['b', 'A', 'B', 'A'], 'A'], [4, ['b', 'A', 'B', 'B'], 'B'], [4, ['b', 'b', 'a', 'a'], 'a'], [4, ['b', 'b', 'a', 'b'], 'b'], [4, ['b', 'b', 'a', 'B'], 'B'], [4, ['b', 'b', 'A', 'A'], 'A'], [4, ['b', 'b', 'A', 'b'], 'b'], [4, ['b', 'b', 'A', 'B'], 'B'], [4, ['b', 'b', 'b', 'a'], 'a'], [4, ['b', 'b', 'b', 'A'], 'A'], [4, ['b', 'b', 'b', 'b'], 'b'], [4, ['B', 'a', 'a', 'a'], 'a'], [4, ['B', 'a', 'a', 'b'], 'b'], [4, ['B', 'a', 'a', 'B'], 'B'], [4, ['B', 'a', 'b', 'a'], 'a'], [4, ['B', 'a', 'b', 'A'], 'A'], [4, ['B', 'a', 'b', 'b'], 'b'], [4, ['B', 'a', 'B', 'a'], 'a'], [4, ['B', 'a', 'B', 'A'], 'A'], [4, ['B', 'a', 'B', 'B'], 'B'], [4, ['B', 'A', 'A', 'A'], 'A'], [4, ['B', 'A', 'A', 'b'], 'b'], [4, ['B', 'A', 'A', 'B'], 'B'], [4, ['B', 'A', 'b', 'a'], 'a'], [4, ['B', 'A', 'b', 'A'], 'A'], [4, ['B', 'A', 'b', 'b'], 'b'], [4, ['B', 'A', 'B', 'a'], 'a'], [4, ['B', 'A', 'B', 'A'], 'A'], [4, ['B', 'A', 'B', 'B'], 'B'], [4, ['B', 'B', 'a', 'a'], 'a'], [4, ['B', 'B', 'a', 'b'], 'b'], [4, ['B', 'B', 'a', 'B'], 'B'], [4, ['B', 'B', 'A', 'A'], 'A'], [4, ['B', 'B', 'A', 'b'], 'b'], [4, ['B', 'B', 'A', 'B'], 'B'], [4, ['B', 'B', 'B', 'a'], 'a'], [4, ['B', 'B', 'B', 'A'], 'A'], [4, ['B', 'B', 'B', 'B'], 'B']]]\n"
          ]
        }
      ]
    },
    {
      "cell_type": "code",
      "source": [
        "# Here we setup the basic dictionary which allows us to convert the word_list\n",
        "# into a matrix product. We evaluate these products over the ends of the tree \n",
        "# generated by the words in the letters a, A, b, B. \n",
        "\n",
        "import numpy as np\n",
        "from numpy.linalg import matrix_power as mp\n",
        "\n",
        "# S is a typical pseudo-anosov type transformation\n",
        "# T was randomly chosen, and might not be a good example.\n",
        "S=np.array([[2,1], [1,0]]);\n",
        "T=np.array([[-1,-1], [2,1]]);\n",
        "\n",
        "\n",
        "Id=np.array([[1.0,0.0], [0.0,1.0]]);\n",
        "\n",
        "# matrix_power is abbreviated mp.\n",
        "data={'a' : S,\n",
        "     'A' : mp(S, -1),\n",
        "     'b' : T,\n",
        "     'B' : mp(T, -1)\n",
        "     };\n",
        "\n",
        "\n",
        "def bracket(w):\n",
        "    x, y = w\n",
        "    return (x@y)@(mp(x,-1)@mp(y, -1))\n",
        "\n",
        "## the @ symbol represents matrix multiplication, i.e. np.matmul()\n",
        "\n",
        "print(\"The commutator of S and T is:\", bracket([S,T]));\n",
        "\n",
        "print(\"The commutator of S and S is trivial:\", bracket([S,S]))\n",
        "\n",
        "# matmul is the numpy function for matrix multiplication.\n",
        "def product(word_list):\n",
        "    m=Id;\n",
        "    for word in word_list:\n",
        "        m=data[word]@m;\n",
        "    return m\n",
        "\n",
        "sample_word_list=['a', 'B', 'A', 'b'];\n",
        "swl1=['a', 'b', 'A', 'b']\n",
        "\n",
        "# print(product(swl1));\n",
        "# print(product(sample_word_list))"
      ],
      "metadata": {
        "colab": {
          "base_uri": "https://localhost:8080/"
        },
        "id": "GcXGMGEzviZ1",
        "outputId": "c9143067-7564-4288-8662-1f8007b15e3f"
      },
      "execution_count": 7,
      "outputs": [
        {
          "output_type": "stream",
          "name": "stdout",
          "text": [
            "The commutator of S and T is: [[-5. -3.]\n",
            " [-3. -2.]]\n",
            "The commutator of S and S is trivial: [[1. 0.]\n",
            " [0. 1.]]\n"
          ]
        }
      ]
    },
    {
      "cell_type": "code",
      "source": [
        "# Now we are sorting the word_list and looking to identify divergent subsequences. \n",
        "\n",
        "e=ends([5, seed]);\n",
        "max_index=e[0];\n",
        "matrix_list=[];\n",
        "\n",
        "def maxFunc(x):\n",
        "  return np.abs(x).max();\n",
        "\n",
        "for n in range(max_index):\n",
        "    matrix_list=matrix_list+[product(e[1][n][1])]\n",
        "\n",
        "matrix_list.sort(key=maxFunc, reverse = True)\n",
        "\n",
        "\n",
        "def rpl(x):\n",
        "    return (maxFunc(x)**(-1))*x\n",
        "\n",
        "def quad(x):\n",
        "    return np.matmul(x.transpose(), x)    \n",
        "\n",
        "# looks at the first largest elements. We should keep those terms which \n",
        "# are of similar order of magnitude as det(rpl(x)).\n",
        "for x in matrix_list[0:10]:\n",
        "    \n",
        "    print(\"The matrix product is:\",  x); \n",
        "#    print(\"The sup norm of the matrix product is:\", maxFunc(x));\n",
        "#    print(\"Renormalized projectivization:\",rpl(x));\n",
        "#    print(\"The determinant of the renormalized projectivization is:\", np.linalg.det(rpl(x)));\n",
        "    print(\"The log-absolute-determinant of the renormalized projectivization is:\", np.log(\n",
        "              np.abs(\n",
        "                  np.linalg.det(rpl(x))\n",
        "                  )\n",
        "              )\n",
        "         );\n",
        "    print(\"The quadratic form Transpose(x)*x of x=rpl(x) is:\", quad(rpl(x))  );\n",
        "    \n",
        "    eigen=np.linalg.eig(quad(rpl(x)))\n",
        "#    print(\"The eigendistribution: is:\", eigen);\n",
        "   \n",
        "    print(\"The log-absolute value of the near zero eigenvalue is:\", np.log(np.abs(\n",
        "        eigen[0].min()\n",
        "        ))  \n",
        "    )\n",
        "    min_index=eigen[0].argmin()\n",
        "    max_index=eigen[0].argmax()\n",
        "    print(\"The approximate limit point is:\", eigen[1][max_index] );\n",
        "    \n",
        "#   print(\"The rank-one quadratic form represented by the limit point is:\", (eigen[1][max_index])@(eigen[1][max_index].transpose())   )\n",
        "    print('\\n')\n",
        "\n",
        "## N.B. the limit point is the eigenvector corresponding to the nonzero eigenvalue. \n",
        "\n",
        "## we would like to retain only those elements such that floor(log|det(x)|) is maximized. \n",
        "## this means considering only those words whose renormalized projectivizations are of the same\n",
        "## order of magnitude, i.e. of the same maximal \"dimension\".\n",
        "## TO DO: quantify the uncertainty in the approximate limit point.\n",
        "\n"
      ],
      "metadata": {
        "colab": {
          "base_uri": "https://localhost:8080/"
        },
        "id": "8s1DoZ68wrAl",
        "outputId": "fc4e5596-57f6-4b96-cbf1-c0801d6a1e0d"
      },
      "execution_count": 8,
      "outputs": [
        {
          "output_type": "stream",
          "name": "stdout",
          "text": [
            "The matrix product is: [[ 29.  12.]\n",
            " [-75. -31.]]\n",
            "The log-absolute-determinant of the renormalized projectivization is: -8.634976227072784\n",
            "The quadratic form Transpose(x)*x of x=rpl(x) is: [[1.14951111 0.4752    ]\n",
            " [0.4752     0.19644444]]\n",
            "The log-absolute value of the near zero eigenvalue is: -17.567056648013256\n",
            "The approximate limit point is: [ 0.92414737 -0.38203618]\n",
            "\n",
            "\n",
            "The matrix product is: [[-29. -12.]\n",
            " [ 75.  31.]]\n",
            "The log-absolute-determinant of the renormalized projectivization is: -8.634976227072784\n",
            "The quadratic form Transpose(x)*x of x=rpl(x) is: [[1.14951111 0.4752    ]\n",
            " [0.4752     0.19644444]]\n",
            "The log-absolute value of the near zero eigenvalue is: -17.567056648013256\n",
            "The approximate limit point is: [ 0.92414737 -0.38203618]\n",
            "\n",
            "\n",
            "The matrix product is: [[ 31.  12.]\n",
            " [-75. -29.]]\n",
            "The log-absolute-determinant of the renormalized projectivization is: -8.634976227072784\n",
            "The quadratic form Transpose(x)*x of x=rpl(x) is: [[1.17084444 0.4528    ]\n",
            " [0.4528     0.17511111]]\n",
            "The log-absolute value of the near zero eigenvalue is: -17.567056648013256\n",
            "The approximate limit point is: [ 0.93268339 -0.36069612]\n",
            "\n",
            "\n",
            "The matrix product is: [[-31. -12.]\n",
            " [ 75.  29.]]\n",
            "The log-absolute-determinant of the renormalized projectivization is: -8.634976227072784\n",
            "The quadratic form Transpose(x)*x of x=rpl(x) is: [[1.17084444 0.4528    ]\n",
            " [0.4528     0.17511111]]\n",
            "The log-absolute value of the near zero eigenvalue is: -17.567056648013256\n",
            "The approximate limit point is: [ 0.93268339 -0.36069612]\n",
            "\n",
            "\n",
            "The matrix product is: [[-31. -13.]\n",
            " [ 74.  31.]]\n",
            "The log-absolute-determinant of the renormalized projectivization is: -8.608130186408527\n",
            "The quadratic form Transpose(x)*x of x=rpl(x) is: [[1.17549306 0.49251278]\n",
            " [0.49251278 0.206355  ]]\n",
            "The log-absolute value of the near zero eigenvalue is: -17.539682136925283\n",
            "The approximate limit point is: [ 0.92231631 -0.38643579]\n",
            "\n",
            "\n",
            "The matrix product is: [[ 31.  13.]\n",
            " [-74. -31.]]\n",
            "The log-absolute-determinant of the renormalized projectivization is: -8.608130186408527\n",
            "The quadratic form Transpose(x)*x of x=rpl(x) is: [[1.17549306 0.49251278]\n",
            " [0.49251278 0.206355  ]]\n",
            "The log-absolute value of the near zero eigenvalue is: -17.539682136925283\n",
            "The approximate limit point is: [ 0.92231631 -0.38643579]\n",
            "\n",
            "\n",
            "The matrix product is: [[70. 29.]\n",
            " [29. 12.]]\n",
            "The log-absolute-determinant of the renormalized projectivization is: -8.496990484098841\n",
            "The quadratic form Transpose(x)*x of x=rpl(x) is: [[1.17163265 0.48530612]\n",
            " [0.48530612 0.20102041]]\n",
            "The log-absolute value of the near zero eigenvalue is: -17.310726354950265\n",
            "The approximate limit point is: [ 0.92387953 -0.38268343]\n",
            "\n",
            "\n",
            "The matrix product is: [[-41. -17.]\n",
            " [ 70.  29.]]\n",
            "The log-absolute-determinant of the renormalized projectivization is: -8.496990484098706\n",
            "The quadratic form Transpose(x)*x of x=rpl(x) is: [[1.34306122 0.55653061]\n",
            " [0.55653061 0.23061224]]\n",
            "The log-absolute value of the near zero eigenvalue is: -17.447393627661846\n",
            "The approximate limit point is: [ 0.92382689 -0.38281051]\n",
            "\n",
            "\n",
            "The matrix product is: [[ 41.  17.]\n",
            " [-70. -29.]]\n",
            "The log-absolute-determinant of the renormalized projectivization is: -8.496990484098706\n",
            "The quadratic form Transpose(x)*x of x=rpl(x) is: [[1.34306122 0.55653061]\n",
            " [0.55653061 0.23061224]]\n",
            "The log-absolute value of the near zero eigenvalue is: -17.447393627661846\n",
            "The approximate limit point is: [ 0.92382689 -0.38281051]\n",
            "\n",
            "\n",
            "The matrix product is: [[-12.  29.]\n",
            " [ 29. -70.]]\n",
            "The log-absolute-determinant of the renormalized projectivization is: -8.496990484098877\n",
            "The quadratic form Transpose(x)*x of x=rpl(x) is: [[ 0.20102041 -0.48530612]\n",
            " [-0.48530612  1.17163265]]\n",
            "The log-absolute value of the near zero eigenvalue is: -17.31072635129126\n",
            "The approximate limit point is: [-0.38268343 -0.92387953]\n",
            "\n",
            "\n"
          ]
        }
      ]
    },
    {
      "cell_type": "code",
      "source": [
        "# To do: need introduce more generators. \n",
        "# To do: are two-generator subgroups sufficient to enumerate all the limit points?\n",
        "# To do: need collect approximate limit points and attach a confidence value, i.e. rank by how small the smallest eigenvalue is in quad(rpl(x))."
      ],
      "metadata": {
        "id": "SIQVKiwuG3mz"
      },
      "execution_count": null,
      "outputs": []
    },
    {
      "cell_type": "code",
      "source": [
        "#hide\n",
        "\n",
        "eig=np.linalg.eig(quad(rpl(x)));\n",
        "\n",
        "print(eig[1][0])"
      ],
      "metadata": {
        "colab": {
          "base_uri": "https://localhost:8080/"
        },
        "id": "DnoQJ-HvCFXP",
        "outputId": "24fb0213-f392-411f-f8aa-bff761db9d20"
      },
      "execution_count": 9,
      "outputs": [
        {
          "output_type": "stream",
          "name": "stdout",
          "text": [
            "[-0.92387953  0.38268343]\n"
          ]
        }
      ]
    }
  ]
}