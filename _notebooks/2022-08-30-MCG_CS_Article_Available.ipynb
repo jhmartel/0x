{
  "nbformat": 4,
  "nbformat_minor": 0,
  "metadata": {
    "colab": {
      "name": "Untitled13.ipynb",
      "provenance": [],
      "authorship_tag": "ABX9TyNsXKAKkMt4wUc4VG1EWeGl",
      "include_colab_link": true
    },
    "kernelspec": {
      "name": "python3",
      "display_name": "Python 3"
    },
    "language_info": {
      "name": "python"
    }
  },
  "cells": [
    {
      "cell_type": "markdown",
      "metadata": {
        "id": "view-in-github",
        "colab_type": "text"
      },
      "source": [
        "<a href=\"https://colab.research.google.com/github/jhmartel/fp/blob/master/_notebooks/2022-08-30-MCG_CS_Article_Available.ipynb\" target=\"_parent\"><img src=\"https://colab.research.google.com/assets/colab-badge.svg\" alt=\"Open In Colab\"/></a>"
      ]
    },
    {
      "cell_type": "markdown",
      "source": [
        "# Preprint on Closing Steinberg Symbols in Mapping Class Group with Applications to Constructing Spines.\n",
        "\n",
        "> \"Mapping Class Group, Bieri-Eckmann duality, spines, Teichmueller space\"\n",
        "\n",
        "- toc: false\n",
        "- branch: master\n",
        "- badges: true\n",
        "- comments: true\n",
        "- author: JHM\n",
        "- categories: [fastpages, jupyter]\n",
        "\n"
      ],
      "metadata": {
        "id": "UU35FV6JzqR_"
      }
    },
    {
      "cell_type": "markdown",
      "source": [
        "Today we announce that our preprint on \"Closing Steinberg Symbols in Mapping Class Groups\" has achieved a basically stable form. The article is available at [https://www.github.com/jhmartel/MCG]. \n",
        "\n",
        "There is a proof missing in one of the lemmas, but otherwise the paper can be read _as is_. We don't solve all the problems we wanted to, and we cannot yet produce an explicit spine for the genus two mapping class group, for example, but we've written what we can.\n",
        "\n",
        "Comments are welcome at jhmartel {at} proton {dot} me."
      ],
      "metadata": {
        "id": "_2eEONLBzwbB"
      }
    }
  ]
}