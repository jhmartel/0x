{
  "nbformat": 4,
  "nbformat_minor": 0,
  "metadata": {
    "colab": {
      "provenance": [],
      "authorship_tag": "ABX9TyPD1bmY8Rw+0Ux1zAe1sCp4",
      "include_colab_link": true
    },
    "kernelspec": {
      "name": "python3",
      "display_name": "Python 3"
    },
    "language_info": {
      "name": "python"
    }
  },
  "cells": [
    {
      "cell_type": "markdown",
      "metadata": {
        "id": "view-in-github",
        "colab_type": "text"
      },
      "source": [
        "<a href=\"https://colab.research.google.com/github/jhmartel/fp/blob/master/_notebooks/2023-01-15-PolynomialSubsetSums.ipynb\" target=\"_parent\"><img src=\"https://colab.research.google.com/assets/colab-badge.svg\" alt=\"Open In Colab\"/></a>"
      ]
    },
    {
      "cell_type": "markdown",
      "source": [
        "# Zero Subset Sums and Laurent Polynomials\n",
        "\n",
        "> \"We have an idea about computing zero subset sums using Laurent polynomials and symbolic calculators. Essentially expanding powers of Laurent polynomials is computationally equivalent to sampling subsets of integers. It's trivial, but it's something useful that we've used with Mathematica and here with SymPy. There's an idea here which we probably learned from Dror Bar-Natan's Shameless Mathematica course and his categorical construction of Khovanov homology, Alexander polynomials, and Euler characteristics, etc..You can do alot with trivial observations!\" \n",
        "\n",
        "- toc: false\n",
        "- branch: master\n",
        "- badges: false\n",
        "- comments: true\n",
        "- author: JHM"
      ],
      "metadata": {
        "id": "k0kMCULsbpff"
      }
    },
    {
      "cell_type": "markdown",
      "source": [
        "_Here we collect some elementary observations on zero sum problems using symbolic calculators. This post is not complete. We simply want to demonstrate *how* to use polynomials in the style of generating functions to compute zero sums. [-JHM]_\n",
        "\n",
        "# Symbolic Solutions to Zero Sum Problems\n",
        "\n",
        "The zero subset sum decision problem is this: \n",
        "\n",
        "_Given a generic subset $S\\subset \\bf{Z}$ decide whether there exists a finite subset $S' \\subset S$ which sums to zero._\n",
        "\n",
        "The trouble here is always sampling over the powerset $2^S$ of all subsets of $S$. It's a very large set! Is there a categorical approach to enumerating the powerset? Here enters symbolic algebra, and a simple idea, that the powerset is essentially polynomial algebras.  \n",
        "\n",
        "Given a finite subset $S \\subset \\mathbf{Z}$, we formally define $$p=p_S(x)=\\sum_{s\\in S} x^s.$$ Evidently $p_S \\in \\mathbf{Z}[x, x^{-1}]$ belongs to the ring of Laurent polynomials, and is finitely supported since $\\#(S) < +\\infty$. \n",
        "\n",
        "_A trivial observation: the coefficient of the degree zero term $x^0=1$ in the powers $p^k$ of $p=p_S$ for $k=1,2,\\ldots, N$ represent solutions to zero sum problems, where $N=\\#(S)$._\n",
        "\n",
        "Remark. There is a distinction between zero sums and zero subset sums. If $S$ has cardinality $\\#(S)=N$, then we allow any element $s\\in S$ to be used at most $N$ times in the polynomial formulation of the zero sum problem. This is in contrast to the zero subset sum problem, where an element $s\\in S$ can occur _at most once_. \n",
        "\n",
        "For example $S=\\{-2, 1, 3\\}$ does not have any strict zero subset sums. However the constant coefficient in $q:=p^3=(x^{-2}+x+x^3)^3$ is nonzero because $-2+1+1=0$. So when we use polynomials to find zero sums, we must slightly expand the statement of the zero subset sum problem to allow for small multiplicity. A priori this small multiplicity is at most the cardinality of the set $N=\\#(S)$, and we are supposing (yet to be proved) their computational equivalence.\n",
        "\n",
        "In the zero subset sum problem, we have nothing except brute-force search over the subsets. There are no shortcuts or hidden information to accelerate the procedure. \n",
        "\n",
        "This same problem arises with the polynomials. For we begin with an initial set $S$ with Laurent polynomial $p=p_S$. However we need to evaluate the coefficients of powers $q=p^k$ of this polynomial.\n",
        "_But the real issue is that the powers of $p$ are not readily computed a priori. We cannot decide whether the constant coefficient is zero or not zero simply from the definition of $q=p^k$._ This can only be decided _a posteriori_ after explicit computation.\n",
        "\n",
        "As obvious as this last sentence sounds, it's somewhat an open problem for most \"logical mathematicians\". \n",
        "\n",
        "Question: Are there any analytical tricks for finding the coefficients of $q=p^k$ ? We know none, except Cauchy Residue formula, but it's not clear this is useful in our case...\n",
        "\n"
      ],
      "metadata": {
        "id": "oe8QAKR0NfmB"
      }
    },
    {
      "cell_type": "code",
      "execution_count": null,
      "metadata": {
        "id": "viuvFjBDm_ox"
      },
      "outputs": [],
      "source": [
        "# How to find zero sums using Laurent polynomials and symbolic calculator:\n",
        "from sympy import symbols, expand \n",
        "\n",
        "# the indeterminate x.\n",
        "x = symbols('x') \n",
        "\n",
        "# formal Laurent polynomial defined by the subset S.\n",
        "def poly(S): \n",
        "  return sum([x**k for k in S])\n",
        "\n",
        "# returns the constant coefficient for small powers of p=poly(S):\n",
        "def cc(S):\n",
        "  p=poly(S); N = len(S); output=[];\n",
        "  for j in range(N):\n",
        "    q=expand(p**(j+1))\n",
        "    output+= [q.coeff(x,0)]\n",
        "  #print(\"The constant coefficients of the small powers of p(S) are:\")\n",
        "  return output\n",
        "\n",
        "# returns Boolean True or False depending on whether there exists zero sum in S. \n",
        "def existsZeroSum(S):\n",
        "  val = False;\n",
        "  if sum(cc(S))>0:\n",
        "    val = True\n",
        "  else:\n",
        "    pass\n",
        "  return val\n"
      ]
    },
    {
      "cell_type": "code",
      "source": [
        "# we run the above functions on \"random S\" input:\n",
        "import random\n",
        "\n",
        "for j in range(6):\n",
        "  randomS = [random.randint(-200, 200) for j in range(6)];\n",
        "  print(\"Random S =\", randomS, \"has a zero subset sum:\", existsZeroSum(randomS), \"\\n\")\n"
      ],
      "metadata": {
        "id": "7otrgE6t9ekn",
        "outputId": "af518888-969d-429c-9ae9-583b453e73c0",
        "colab": {
          "base_uri": "https://localhost:8080/"
        }
      },
      "execution_count": 53,
      "outputs": [
        {
          "output_type": "stream",
          "name": "stdout",
          "text": [
            "Random S = [-78, -126, -75, 121, 59, -69] has a zero subset sum: False \n",
            "\n",
            "Random S = [-126, -101, -25, -153, 47, -23] has a zero subset sum: True \n",
            "\n",
            "Random S = [-80, -104, -113, -81, -150, -161] has a zero subset sum: False \n",
            "\n",
            "Random S = [-83, -31, 67, 115, 25, -36] has a zero subset sum: True \n",
            "\n",
            "Random S = [79, 74, -13, 168, 89, 150] has a zero subset sum: False \n",
            "\n",
            "Random S = [-132, -160, -196, 153, 52, 58] has a zero subset sum: False \n",
            "\n"
          ]
        }
      ]
    },
    {
      "cell_type": "markdown",
      "source": [
        "It's interesting to remark how the above algorithm loses information, i.e. it solves a decision problem, but does not immediately produce the actual solutions to the zero sum problem. When existsZeroSum returns True, it would be useful to also have the specific subset printed . This is work in progress.\n",
        "\n",
        "# _To Do List:_\n",
        "- Interpret Meet-In-The-Middle for polynomial form of zero sum problem.\n",
        "- What is application of Cauchy-Laurent residue formulas for evaluating coefficients?\n",
        "- Prove or Disprove computational equivalence of discrete and polynomial subset sum problem.\n",
        "- When existsZeroSum($S$)=True, return explicit zero sum $S'$."
      ],
      "metadata": {
        "id": "Dar1jgTwBQD_"
      }
    },
    {
      "cell_type": "code",
      "source": [
        "# hide\n",
        "\n",
        "  # example subsets.\n",
        "#S = [-1, -7, 17, 3, 13]; p = poly(S); print(\"The subset S =\", S, \"generates polynomial p =\", p);\n",
        "#print(\"The subset has a zero sum:\", existsZeroSum(S), \"\\n\"); # print index on \"size\" of first zero sum.\n",
        "#S1 = [-2, 1, 3]; p1 = poly(S1); print(\"The subset S1 =\", S1, \"generates polynomial p1 =\", p1);\n",
        "#print(\"The subset has a zero sum:\", existsZeroSum(S1), \"\\n\");\n",
        "#S2 = [-12, 25, -8, 20, -9, 6]; p2 = poly(S2); print(\"The subset S2 =\", S2, \"generates polynomial p2 =\", p2);\n",
        "#print(\"The subset has a zero sum:\", existsZeroSum(S2), \"\\n\");\n",
        "S3 = [-3, 12, -8, 21, -19, 6]; p3 = poly(S3); print(\"The subset S3 =\", S3, \"generates polynomial p3 =\", p3);\n",
        "print(\"The subset has a zero sum:\", existsZeroSum(S3), \"\\n\");\n",
        "S4 = [-12, 11, -17, 29, -21, 41]; p4 = poly(S4); print(\"The subset S3 =\", S4, \"generates polynomial p3 =\", p4);\n",
        "print(\"The subset has a zero sum:\", existsZeroSum(S4), \"\\n\");\n"
      ],
      "metadata": {
        "id": "bVDOpcy59YNK"
      },
      "execution_count": null,
      "outputs": []
    },
    {
      "cell_type": "markdown",
      "source": [
        "# Zero Sums with Small Coefficients: Computationally Equivalent?\n",
        "\n",
        "Given a subset $S\\subset \\bf{Z}$ we are looking for coefficients $\\epsilon$ satisfying $$\\sum_{s\\in S} \\epsilon(s).s=0$$ \n",
        "\n",
        "- In the classical discrete zero subset sum problem, the coefficients $\\epsilon$ satisfy $\\epsilon \\in \\{0, 1\\}$.\n",
        "\n",
        "- In the polynomial form of the zero sum problem, the coefficients $\\epsilon$ satisfy $\\epsilon\\in \\{0,1,2,\\ldots, \\#(S)\\}$.\n",
        "\n",
        "- Linear algebra and the linear dependance relations implies there exists infinitly many solutions to zero sum equation with coefficients satisfying $\\epsilon \\in \\bf{N}_{\\geq 0}$ and $\\epsilon \\in \\bf{Z}$.\n",
        "\n",
        "It's interesting to contrast the computational complexity of the zero sum equation in each case. \n",
        "\n",
        "In our discussions we are effectively assuming a positive answer to the following question, although we must admit that we do not yet have a rigorous proof.\n",
        "\n",
        "_Question: Does the discrete zero subset sum problem have the same computational complexity as the \"polynomial form\" of the zero subset problem?_\n",
        "\n",
        "Again the difference between the two problems is that we allow coefficients with small multiplicity, namely $\\epsilon\\in \\{0,1,\\ldots, \\#(S)\\}$. "
      ],
      "metadata": {
        "id": "RqvJDlkz0mBA"
      }
    },
    {
      "cell_type": "markdown",
      "source": [
        "\n",
        "# hide\n",
        "\n",
        "So the idea is simply looking at powers $p^k$, for $k=1,2,3,\\ldots$ of the Laurent polynomial $p=p_S$ generated by a finite subset $S$, and specifically evaluating the coefficient of the degree zero term. \n",
        "\n",
        "Problem: Given a Laurent polynomial $p \\in \\mathbf{Z}[x, x^{-1}]$, determine the degree zero coefficient of $p^k$ for large powers $k>>0$ and decide whether the degree zero coefficient is zero or nonzero.\n",
        "\n",
        "The basic trick is:\n",
        "_To compute solutions of zero sum problems we need determine the constant term of Laurent polynomials, and decide whether the constant term is zero or nonzero for powers $p^k$ of $p=p_S$. \n",
        "\n",
        "There is an idea we learned from Wolfram Mathematica and Prof. Dror Bar-Natan's course in Toronto called \"Shameless Mathematica\". The most interesting aspect of the course was Dror's presentation of the Khovanov homology as computed categorically from cubes and reductions, and it's actually a beautiful generalization of the Euler formula for computing Euler characteristics. It was excellent course which I used throughout my thesis, and which motivated the following ideas. \n",
        "\n",
        "_Remarks in the python code:_\n",
        "\n",
        "Remark. We know that for large powers of p, there exist zero sums. This is linear algebra depending on the linear dependancies of S over integers.\n",
        "\n",
        "Remark. Our evaluations involve a loss of information, for when we know that there exists zero sums  we do not necessarily know which 'subset' was actually summed. The computation somewhat becomes nonconstructive! All we know is that there *are* such subsets (and not even strictly subsets).\n",
        "\n",
        "After inspection we see that [-3, -3, 6] is not a strict subset, but which sums to zero.\n",
        "categorically/algebraically: how to restrict ourselves to distinct subsets??"
      ],
      "metadata": {
        "id": "P5Y3DpgwnCEK"
      }
    }
  ]
}