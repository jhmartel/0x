{
  "nbformat": 4,
  "nbformat_minor": 0,
  "metadata": {
    "colab": {
      "provenance": [],
      "authorship_tag": "ABX9TyPpXqJ302dRMgCsjPJvqhf6",
      "include_colab_link": true
    },
    "kernelspec": {
      "name": "python3",
      "display_name": "Python 3"
    },
    "language_info": {
      "name": "python"
    }
  },
  "cells": [
    {
      "cell_type": "markdown",
      "metadata": {
        "id": "view-in-github",
        "colab_type": "text"
      },
      "source": [
        "<a href=\"https://colab.research.google.com/github/jhmartel/fp/blob/master/_notebooks/2023-01-15-PolynomialSubsetSums.ipynb\" target=\"_parent\"><img src=\"https://colab.research.google.com/assets/colab-badge.svg\" alt=\"Open In Colab\"/></a>"
      ]
    },
    {
      "cell_type": "markdown",
      "source": [
        "# Zero Subset Sums and Laurent Polynomials\n",
        "\n",
        "> \"(Under Construction). Here we collect some trivial remarks on using polynomials and symbolic calculators, e.g. Mathematica, SymPy, to find zero subset sums.\" \n",
        "\n",
        "- toc: false\n",
        "- branch: master\n",
        "- badges: false\n",
        "- comments: true\n",
        "- author: JHM"
      ],
      "metadata": {
        "id": "k0kMCULsbpff"
      }
    },
    {
      "cell_type": "markdown",
      "source": [
        "_Here we collect some elementary observations on zero sum problems using symbolic calculators. This post is not complete. We simply wanted to demonstrate *how* to use polynomials in the style of generating functions to compute zero sums. [-JHM]_\n",
        "\n",
        "# Symbolic Solutions to Zero Sum Problems\n",
        "\n",
        "The zero subset sum problem is this: \n",
        "\n",
        "_Given a generic subset $S\\subset \\bf{Z}$, decide whether there exists a finite subset $S' \\subset S$ which sums to zero._\n",
        "\n",
        "The trouble here is always sampling over the powerset $2^S$ of all subsets of $S$. It's a very large set! Is there a categorical approach to enumerating the powerset? Here enters symbolic algebra, and a simple idea: \n",
        "\n",
        "Given a finite subset $S \\subset \\mathbf{Z}$, we formally define $$p=p_S(x)=\\sum_{s\\in S} x^s.$$ Evidently $p_S \\in \\mathbf{Z}[x, x^{-1}]$ belongs to the ring of Laurent polynomials, and finitely supported since $\\#(S) < +\\infty$. \n",
        "\n",
        "_A trivial observation: the coefficient of the degree zero term $x^0=1$ in the powers $p^k$ of $p=p_S$ for $k=1,2,\\ldots, N$ represent solutions to zero sum problems, where $N=\\#(S)$._\n",
        "\n",
        "There is a distinction between zero sums and zero subset sums. If $S$ has cardinality $\\#(S)=N$, then we allow any element $s\\in S$ to be used at most $N$ times in the polynomial formulation of the zero sum problem. This is in contrast to the zero subset sum problem, where an element $s\\in S$ can occur _at most once_. For example $S=\\{-2, 1, 3\\}$ does not have any strict zero subset sums. However the constant coefficient in $q:=p^3=(x^{-2}+x+x^3)^3$ is nonzero because $-2+1+1=0$. So when we use polynomials to find zero sums, we must slightly expand the statement of the zero subset sum problem to allow for small multiplicity. A priori this small multiplicity is at most the cardinality of the set $N=\\#(S)$.\n",
        "\n",
        "In the zero subset sum problem, we have nothing except brute-force search over the subsets. There are no shortcuts or hidden information to accelerate the procedure. This same problem arises with the polynomials. For we begin with an initial set $S$ with Laurent polynomial $p=p_S$. However we need to evaluate the coefficients of powers $q=p^k$ of this polynomial.\n",
        "_But the real issue is that the powers of $p$ are not readily computed a priori. We cannot decide whether the constant coefficient is zero or not zero simply from the definition of $q=p^k$._ This can only be decided _a posteriori_ after explicit computatation.\n",
        "\n",
        "As obvious as this last sentence sounds, it's somewhat an open problem for most \"logical mathematicians\". \n",
        "\n",
        "Question: Are there any analytical tricks for finding the coefficients of $q=p^k$ ? We know none, except Cauchy Residue formula, but it's not clear this is useful in our case...\n",
        "\n"
      ],
      "metadata": {
        "id": "oe8QAKR0NfmB"
      }
    },
    {
      "cell_type": "code",
      "execution_count": 15,
      "metadata": {
        "colab": {
          "base_uri": "https://localhost:8080/"
        },
        "id": "viuvFjBDm_ox",
        "outputId": "a632ba88-8586-4dbf-aeef-066fcb00dc35"
      },
      "outputs": [
        {
          "output_type": "stream",
          "name": "stdout",
          "text": [
            "The subset S = [-1, -7, 17, 3, 13] generates polynomial p = x**17 + x**13 + x**3 + 1/x + x**(-7)\n",
            "The subset S1 = [-2, 1, 3] generates polynomial p1 = x**3 + x + x**(-2)\n",
            "The subset S2 = [-12, 25, -8, 20, -9, 6] generates polynomial p2 = x**25 + x**20 + x**6 + x**(-8) + x**(-9) + x**(-12)\n",
            "The subset S3 = [-3, 12, -8, 21, -19, 6] generates polynomial p3 = x**21 + x**12 + x**6 + x**(-3) + x**(-8) + x**(-19)\n"
          ]
        }
      ],
      "source": [
        "# How to find zero sums using Laurent polynomials and symbolic calculator:\n",
        "from sympy import symbols, expand \n",
        "\n",
        "# the indeterminate x.\n",
        "x = symbols('x') \n",
        "\n",
        "# formal Laurent polynomial defined by the subset S.\n",
        "def poly(S): \n",
        "  return sum([x**k for k in S])\n",
        "\n",
        "# example subsets.\n",
        "S = [-1, -7, 17, 3, 13]; p = poly(S); print(\"The subset S =\", S, \"generates polynomial p =\", p)\n",
        "S1 = [-2, 1, 3]; p1 = poly(S1); print(\"The subset S1 =\", S1, \"generates polynomial p1 =\", p1)\n",
        "S2 = [-12, 25, -8, 20, -9, 6]; p2 = poly(S2); print(\"The subset S2 =\", S2, \"generates polynomial p2 =\", p2)\n",
        "S3 = [-3, 12, -8, 21, -19, 6]; p3 = poly(S3); print(\"The subset S3 =\", S3, \"generates polynomial p3 =\", p3)\n",
        "\n",
        "# returns the constant coefficient for small powers of p=poly(S):\n",
        "def cc(S):\n",
        "  p=poly(S); N = len(S); output=[];\n",
        "  for j in range(N):\n",
        "    q=expand(p**(j+1))\n",
        "    output = output + [q.coeff(x,0)]\n",
        "  #print(\"The constant coefficients of the small powers of p(S) are:\")\n",
        "  return output\n",
        "\n",
        "# returns Boolean True or False depending on whether there exists zero sum in S. \n",
        "def existsZeroSum(S):\n",
        "  val = False;\n",
        "  if sum(cc(S))>0:\n",
        "    val = True\n",
        "  else:\n",
        "    pass\n",
        "  return val"
      ]
    },
    {
      "cell_type": "code",
      "source": [
        "S0= [ 16, 4, 5, -17];\n",
        "print(cc(S0)); print(existsZeroSum(S0))"
      ],
      "metadata": {
        "colab": {
          "base_uri": "https://localhost:8080/"
        },
        "id": "nFiiPDoG54r2",
        "outputId": "b447a1bd-fdf1-4cc3-ce97-918dc132af0a"
      },
      "execution_count": 18,
      "outputs": [
        {
          "output_type": "stream",
          "name": "stdout",
          "text": [
            "[0, 0, 0, 0]\n",
            "False\n"
          ]
        }
      ]
    },
    {
      "cell_type": "markdown",
      "source": [
        "# [Incomplete]"
      ],
      "metadata": {
        "id": "iX2maEdJAzRR"
      }
    },
    {
      "cell_type": "markdown",
      "source": [
        "\n",
        "# hide\n",
        "\n",
        "So the idea is simply looking at powers $p^k$, for $k=1,2,3,\\ldots$ of the Laurent polynomial $p=p_S$ generated by a finite subset $S$, and specifically evaluating the coefficient of the degree zero term. \n",
        "\n",
        "Problem: Given a Laurent polynomial $p \\in \\mathbf{Z}[x, x^{-1}]$, determine the degree zero coefficient of $p^k$ for large powers $k>>0$ and decide whether the degree zero coefficient is zero or nonzero.\n",
        "\n",
        "The basic trick is:\n",
        "_To compute solutions of zero sum problems we need determine the constant term of Laurent polynomials, and decide whether the constant term is zero or nonzero for powers $p^k$ of $p=p_S$. \n",
        "\n",
        "There is an idea we learned from Wolfram Mathematica and Prof. Dror Bar-Natan's course in Toronto called \"Shameless Mathematica\". The most interesting aspect of the course was Dror's presentation of the Khovanov homology as computed categorically from cubes and reductions, and it's actually a beautiful generalization of the Euler formula for computing Euler characteristics. It was excellent course which I used throughout my thesis, and which motivated the following ideas. \n",
        "\n",
        "_Remarks in the python code:_\n",
        "\n",
        "Remark. We know that for large powers of p, there exist zero sums. This is linear algebra depending on the linear dependancies of S over integers.\n",
        "\n",
        "Remark. Our evaluations involve a loss of information, for when we know that there exists zero sums  we do not necessarily know which 'subset' was actually summed. The computation somewhat becomes nonconstructive! All we know is that there *are* such subsets (and not even strictly subsets).\n",
        "\n",
        "After inspection we see that [-3, -3, 6] is not a strict subset, but which sums to zero.\n",
        "categorically/algebraically: how to restrict ourselves to distinct subsets??"
      ],
      "metadata": {
        "id": "P5Y3DpgwnCEK"
      }
    }
  ]
}