{
  "nbformat": 4,
  "nbformat_minor": 0,
  "metadata": {
    "colab": {
      "provenance": [],
      "collapsed_sections": [],
      "authorship_tag": "ABX9TyP+WfJbHPYyOPoM6IC4Iu+d",
      "include_colab_link": true
    },
    "kernelspec": {
      "name": "python3",
      "display_name": "Python 3"
    },
    "language_info": {
      "name": "python"
    }
  },
  "cells": [
    {
      "cell_type": "markdown",
      "metadata": {
        "id": "view-in-github",
        "colab_type": "text"
      },
      "source": [
        "<a href=\"https://colab.research.google.com/github/jhmartel/fp/blob/master/_notebooks/2022-09-13-Weber_TwoBody_Ctd.ipynb\" target=\"_parent\"><img src=\"https://colab.research.google.com/assets/colab-badge.svg\" alt=\"Open In Colab\"/></a>"
      ]
    },
    {
      "cell_type": "markdown",
      "source": [
        "# \"[Under Construction] Weber Two Body Problem with Python and Gekko\"\n",
        "> \"In this post we present the basic python and gekko code for simulating two negatively charged electrons acting under Weber's force. The challenge is to obtain bounded orbits, i.e. to witness electrons passing the Weber critical radius and becoming attractive. As we've discussed in previous posts, this requires high energy levels comparable to the famous $E=\\mu c^2$ formula.\"\n",
        "\n",
        "- toc: false\n",
        "- branch: master\n",
        "- badges: true\n",
        "- comments: true\n",
        "- author: JHM\n",
        "- categories: [fastpages, jupyter]"
      ],
      "metadata": {
        "id": "_W70d3o2P34K"
      }
    },
    {
      "cell_type": "markdown",
      "source": [
        "In previous posts we have been focused on modelling N-body systems under Weber's force law. Concretely we have taken $N=2,3$. This post focusses on $N=2$. The initial challenge of these simulations was finding a suitable DAE (Differential Algebraic Equation) solver. This is because Newton's 2nd Law and Weber's force lead to _implicit_ ordinary differential equations (nonlinear, second order). We have found GEKKO to be suitable for our purposes, being easy to install, well maintained by Prof. Dr. Scott Hedengren, and easy to use. Of course GEKKO has limitations based on the input size. In our case even two particles involves 18 variables and the ODE system consists of 12 equations. This is somewhat demanding for usual computers to handle."
      ],
      "metadata": {
        "id": "tv6Or8GdTZXf"
      }
    },
    {
      "cell_type": "code",
      "execution_count": null,
      "metadata": {
        "colab": {
          "base_uri": "https://localhost:8080/"
        },
        "id": "GTnK057lrh7o",
        "outputId": "03cb3ac1-cc3f-471f-f515-30168cab7c94"
      },
      "outputs": [
        {
          "output_type": "stream",
          "name": "stdout",
          "text": [
            "Looking in indexes: https://pypi.org/simple, https://us-python.pkg.dev/colab-wheels/public/simple/\n",
            "Requirement already satisfied: gekko in /usr/local/lib/python3.7/dist-packages (1.0.5)\n",
            "Requirement already satisfied: numpy>=1.8 in /usr/local/lib/python3.7/dist-packages (from gekko) (1.21.6)\n"
          ]
        }
      ],
      "source": [
        "# install gekko\n",
        "!pip install gekko"
      ]
    },
    {
      "cell_type": "code",
      "source": [
        "# import the packages\n",
        "import numpy as np\n",
        "from gekko import GEKKO\n",
        "import matplotlib.pyplot as plt\n",
        "\n",
        "# main function defining the Weber force.\n",
        "def f(state):\n",
        "  c=1.0\n",
        "  N=len(state)\n",
        "  x = state\n",
        "  aux = np.zeros((N,3))\n",
        "  aux = np.array(aux, dtype=object)\n",
        "  for i in range(N):\n",
        "    for j in range(N):\n",
        "      if i==j:\n",
        "        pass\n",
        "      else:\n",
        "        r=np.subtract(x[i][0:3], x[j][0:3])  # r_ij, vector.\n",
        "        rho=np.dot(r,r)**(0.5) # rho = |r_ij|, scalar.\n",
        "        rhat=np.dot(1/rho, r) # rhat, unit vector.\n",
        "        factor_Coulomb = x[i][-1]*x[j][-1]*(rho**-2) # Coulomb factor\n",
        "        dv = np.subtract(x[i][3:6], x[j][3:6]) # dv= v_{ij}, vector.\n",
        "        r_prime=np.dot(rhat, dv) # r' = rhat \\cdot dv, scalar.\n",
        "        da = np.subtract(x[i][6:9], x[j][6:9]) #da = a_{ij}, vector\n",
        "        s1 = (np.dot(dv, dv)- r_prime**2)*(c**-2) # scalar\n",
        "        s2 = np.dot(r, da)*(c**-2) # scalar\n",
        "        factor_Weber_1=(1-(0.5)*(r_prime/c)**2 + s1 + s2 ) # scalar\n",
        "\n",
        "        aux[i]=aux[i]+np.dot(factor_Coulomb*factor_Weber_1, rhat)\n",
        "       \n",
        "  return aux #returns a force vector, i.e. three-vector.\n",
        "\n",
        "\n",
        "# returns the centre of mass of the initial state. \n",
        "def cm(state):\n",
        "  xx = state\n",
        "  N=len(state)\n",
        "  M=np.zeros(N)\n",
        "  state_cm=[0,0,0,0,0,0,0,0,0]\n",
        "  \n",
        "  for i in range(N):\n",
        "    M[i] = np.abs((xx[i][-1])**-1)\n",
        "    state_cm= np.add(state_cm, np.dot(M[i], xx[i][0:9]))\n",
        "\n",
        "  return np.dot(state_cm, (sum(M))**-1)"
      ],
      "metadata": {
        "id": "AyOjWlyirmlw"
      },
      "execution_count": null,
      "outputs": []
    },
    {
      "cell_type": "code",
      "source": [
        "# create gekko model\n",
        "m = GEKKO(remote=False)  \n",
        "\n",
        "# the following line needs be adjusted frequently \n",
        "# if m.solve() doesn't successfully terminate.\n",
        "m.time = np.linspace(0,3, 91) # time points\n",
        "\n",
        "#print(\"m.time returns: \\n\", m.time)\n",
        "\n",
        "# create GEKKO variables\n",
        "x = m.Array(m.Var,(2,10)) \n",
        "\n",
        "# initial positions\n",
        "x[0][0].value = +0.2\n",
        "x[1][0].value = -0.2\n",
        "#x[2][2].value = +1.1\n",
        "\n",
        "# initial velocities\n",
        "x[0][3].value=-1.3\n",
        "x[0][5].value=0.1\n",
        "x[1][3].value=+1.1\n",
        "x[1][5].value=-0.1\n",
        "\n",
        "\n",
        "# defining the charges and inertial mass\n",
        "x[0][-1].value=-1.0  # q0/m0\n",
        "x[1][-1].value=-1.0  # q1/m1\n",
        "#x[2][-1].value=+0.01  # q2/m2\n",
        "\n",
        "print(\"The initial states are: \\n\", x, \"\\n\")\n",
        "\n",
        "# equations defining the ODE system\n",
        "eq0 = [ x[i][j+3].dt() == f(x)[i][j] for i in range(2) for j in range(3)] \n",
        "eq1 = [ x[i][j].dt() == x[i][j+3] for i in range(2) for j in range(3)]\n",
        "\n",
        "print(len(eq0+eq1))\n",
        "\n",
        "m.Equation(eq0+eq1);"
      ],
      "metadata": {
        "colab": {
          "base_uri": "https://localhost:8080/"
        },
        "id": "fBUQWvBir6_d",
        "outputId": "04f055b4-f0f6-4897-f12d-fb01d04bf2e7"
      },
      "execution_count": null,
      "outputs": [
        {
          "output_type": "stream",
          "name": "stdout",
          "text": [
            "The initial states are: \n",
            " [[0.2 0 0 -1.3 0 0.1 0 0 0 -1.0]\n",
            " [-0.2 0 0 1.1 0 -0.1 0 0 0 -1.0]] \n",
            "\n",
            "12\n"
          ]
        }
      ]
    },
    {
      "cell_type": "code",
      "source": [
        "# solve ODE\n",
        "m.open_folder()\n",
        "m.options.IMODE = 6\n",
        "m.solve(disp=False)"
      ],
      "metadata": {
        "colab": {
          "base_uri": "https://localhost:8080/",
          "height": 339
        },
        "id": "pYfJt0kpsgF7",
        "outputId": "cb550d4b-9905-4861-e0c8-6dd981ef7e91"
      },
      "execution_count": null,
      "outputs": [
        {
          "output_type": "error",
          "ename": "Exception",
          "evalue": "ignored",
          "traceback": [
            "\u001b[0;31m---------------------------------------------------------------------------\u001b[0m",
            "\u001b[0;31mException\u001b[0m                                 Traceback (most recent call last)",
            "\u001b[0;32m<ipython-input-18-6c24678b450b>\u001b[0m in \u001b[0;36m<module>\u001b[0;34m\u001b[0m\n\u001b[1;32m      2\u001b[0m \u001b[0mm\u001b[0m\u001b[0;34m.\u001b[0m\u001b[0mopen_folder\u001b[0m\u001b[0;34m(\u001b[0m\u001b[0;34m)\u001b[0m\u001b[0;34m\u001b[0m\u001b[0;34m\u001b[0m\u001b[0m\n\u001b[1;32m      3\u001b[0m \u001b[0mm\u001b[0m\u001b[0;34m.\u001b[0m\u001b[0moptions\u001b[0m\u001b[0;34m.\u001b[0m\u001b[0mIMODE\u001b[0m \u001b[0;34m=\u001b[0m \u001b[0;36m6\u001b[0m\u001b[0;34m\u001b[0m\u001b[0;34m\u001b[0m\u001b[0m\n\u001b[0;32m----> 4\u001b[0;31m \u001b[0mm\u001b[0m\u001b[0;34m.\u001b[0m\u001b[0msolve\u001b[0m\u001b[0;34m(\u001b[0m\u001b[0mdisp\u001b[0m\u001b[0;34m=\u001b[0m\u001b[0;32mFalse\u001b[0m\u001b[0;34m)\u001b[0m\u001b[0;34m\u001b[0m\u001b[0;34m\u001b[0m\u001b[0m\n\u001b[0m",
            "\u001b[0;32m/usr/local/lib/python3.7/dist-packages/gekko/gekko.py\u001b[0m in \u001b[0;36msolve\u001b[0;34m(self, disp, debug, GUI, **kwargs)\u001b[0m\n\u001b[1;32m   2138\u001b[0m                 \u001b[0mprint\u001b[0m\u001b[0;34m(\u001b[0m\u001b[0;34m\"Error:\"\u001b[0m\u001b[0;34m,\u001b[0m \u001b[0merrs\u001b[0m\u001b[0;34m)\u001b[0m\u001b[0;34m\u001b[0m\u001b[0;34m\u001b[0m\u001b[0m\n\u001b[1;32m   2139\u001b[0m             \u001b[0;32mif\u001b[0m \u001b[0;34m(\u001b[0m\u001b[0mdebug\u001b[0m \u001b[0;34m>=\u001b[0m \u001b[0;36m1\u001b[0m\u001b[0;34m)\u001b[0m \u001b[0;32mand\u001b[0m \u001b[0mrecord_error\u001b[0m\u001b[0;34m:\u001b[0m\u001b[0;34m\u001b[0m\u001b[0;34m\u001b[0m\u001b[0m\n\u001b[0;32m-> 2140\u001b[0;31m                 \u001b[0;32mraise\u001b[0m \u001b[0mException\u001b[0m\u001b[0;34m(\u001b[0m\u001b[0mapm_error\u001b[0m\u001b[0;34m)\u001b[0m\u001b[0;34m\u001b[0m\u001b[0;34m\u001b[0m\u001b[0m\n\u001b[0m\u001b[1;32m   2141\u001b[0m \u001b[0;34m\u001b[0m\u001b[0m\n\u001b[1;32m   2142\u001b[0m         \u001b[0;32melse\u001b[0m\u001b[0;34m:\u001b[0m \u001b[0;31m#solve on APM server\u001b[0m\u001b[0;34m\u001b[0m\u001b[0;34m\u001b[0m\u001b[0m\n",
            "\u001b[0;31mException\u001b[0m: @error: Solution Not Found\n"
          ]
        }
      ]
    },
    {
      "cell_type": "code",
      "source": [
        "# Here we define some auxiliary expressions to define \n",
        "# the centre of mass position and velocity.\n",
        "s_init=[]\n",
        "N=2 # two body system.\n",
        "for i in range(N):\n",
        "  s_init=s_init + [[x[i][j][0] for j in range(10)]]\n",
        "\n",
        "cm_s = cm(s_init)\n",
        "v_cm = cm_s[3:6]\n",
        "RR_cm = [np.add(np.dot(v_cm, time), cm_s[:3]   ) for time in  m.time ]\n",
        "Rt_cm=np.transpose(RR_cm)\n",
        "\n",
        "print(\"the initial state is:\", s_init)  ## returns initial state from solution.\n",
        "print(\"cm of initial state is:\", cm_s) ## returns cm from initial state. This function is defined earlier.\n",
        "print(\"velocity of cm is:\", v_cm)  ## v_cm is constant with respect to time (verify with computation)\n"
      ],
      "metadata": {
        "id": "A6MwZIwcskZ4"
      },
      "execution_count": null,
      "outputs": []
    },
    {
      "cell_type": "code",
      "source": [
        "# we redefine the variables, taking transposes \n",
        "# and subtracting the centre of mass to prepare for the plotting.\n",
        "\n",
        "x0_cm = np.subtract(x[0][0], Rt_cm[0])\n",
        "y0_cm = np.subtract(x[0][1], Rt_cm[1])\n",
        "z0_cm = np.subtract(x[0][2], Rt_cm[2])\n",
        "\n",
        "x1_cm = np.subtract(x[1][0], Rt_cm[0])\n",
        "y1_cm = np.subtract(x[1][1], Rt_cm[1])\n",
        "z1_cm = np.subtract(x[1][2], Rt_cm[2])\n",
        "\n",
        "l = len(x[0][0]);\n",
        "vx0 = [x[0][3][j]-v_cm[0] for j in range(l) ]\n",
        "vy0 = [x[0][4][j]-v_cm[1] for j in range(l) ]\n",
        "vz0 = [x[0][5][j]-v_cm[2] for j in range(l) ]\n",
        "\n",
        "vx1 = [x[1][3][j]-v_cm[0] for j in range(l) ]\n",
        "vy1 = [x[1][4][j]-v_cm[1] for j in range(l) ]\n",
        "vz1 = [x[1][5][j]-v_cm[2] for j in range(l) ]\n"
      ],
      "metadata": {
        "id": "Dz8rYmwbsnxx"
      },
      "execution_count": null,
      "outputs": []
    },
    {
      "cell_type": "code",
      "source": [
        "# Creating new plot.\n",
        "fig = plt.figure(figsize=(30, 30))\n",
        "ax = fig.gca(projection='3d')\n",
        "\n",
        "#ax0 = fig.add_subplot(111, projection='3d')\n",
        "#plt.gca().patch.set_facecolor('black')\n",
        "\n",
        "plt.plot(x0_cm, y0_cm, z0_cm, \"r:\", label='x0(t) with -1 charge')\n",
        "plt.plot(x1_cm, y1_cm, z1_cm, \"g:\", label='x1(t) with -1 charge')\n",
        "plt.plot(x[0][0], x[0][1], x[0][2], \"r\")\n",
        "plt.plot(x[1][0], x[1][1], x[1][2], \"g\")\n",
        "\n",
        "# Add Title\n",
        "plt.title(\"Title\") \n",
        "plt.legend(loc='best')\n",
        "# Display\n",
        "plt.axis('on')\n",
        "ax.view_init(30, 20)\n",
        "plt.show()"
      ],
      "metadata": {
        "id": "dhICqiTRsrtc"
      },
      "execution_count": null,
      "outputs": []
    }
  ]
}