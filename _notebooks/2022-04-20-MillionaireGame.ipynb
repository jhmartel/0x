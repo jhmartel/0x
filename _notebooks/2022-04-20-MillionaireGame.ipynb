{
  "nbformat": 4,
  "nbformat_minor": 0,
  "metadata": {
    "colab": {
      "name": "MillionaireGame.ipynb",
      "provenance": [],
      "collapsed_sections": [],
      "authorship_tag": "ABX9TyOBdJlkWUuHlA9ha62xFgPq",
      "include_colab_link": true
    },
    "kernelspec": {
      "name": "python3",
      "display_name": "Python 3"
    },
    "language_info": {
      "name": "python"
    }
  },
  "cells": [
    {
      "cell_type": "markdown",
      "metadata": {
        "id": "view-in-github",
        "colab_type": "text"
      },
      "source": [
        "<a href=\"https://colab.research.google.com/github/jhmartel/fp/blob/master/_notebooks/2022-04-20-MillionaireGame.ipynb\" target=\"_parent\"><img src=\"https://colab.research.google.com/assets/colab-badge.svg\" alt=\"Open In Colab\"/></a>"
      ]
    },
    {
      "cell_type": "markdown",
      "source": [
        "# Yang's Millionaire's Problem. Part 1. \n",
        "\n",
        "> \" We begin the study of Yang's Millionaire Problem, approaching via a convex analysis interpretation: two players $A,B$ have secret points $s_A, s_B \\in \\mathbf{R}^2$, and the first player to guess an affine function which separates the secrets wins!  \"\n",
        "\n",
        "- toc: false\n",
        "- branch: master\n",
        "- badges: false\n",
        "- comments: true\n",
        "- categories: [millionaire, secret, convex analysis]\n",
        "- hide: false\n"
      ],
      "metadata": {
        "id": "WuxoquAlTO2K"
      }
    },
    {
      "cell_type": "markdown",
      "source": [
        "The purpose of this article is to investigate whether there is an strategy or skill possible in the following variation of the \"Millionaire Problem\". [reference].\n",
        "\n",
        "Here is the game. We have a huge grid $\\mathbf{R}^2$. Now let two players $A,B$ have secret locations $s_A=(x_A, y_A)$ and $s_B=(x_B, y_B)$. These secrets are _points_ in the euclidean plane $\\mathbf{R}^2$. \n",
        "\n",
        "Now the players $A, B$ are going to take turns guessing affine functions (or affine lines in $\\mathbf{R}^2$) and the first player to guess an affine function which separates the secrets wins! \n",
        "\n",
        "The gameplay is something like this: The players $A,B$ take turns. If player $A$ goes first, then player $A$ chooses an affine function $\\ell$ on $\\mathbf{R}^2$, and asks player $B$ to reply with the sign of $\\ell(s_B)$. We require that $B$ replies honestly with $sgn(\\ell(s_B))$. This is the end of player $A$'s turn. If $\\ell$ separates the secrets, then player A wins. Otherwise it's player B's turn. Next player $B$ chooses an affine function $\\ell'$, and asks player $A$ to reply with the sign of $\\ell'(s_A)$. Once player $A$ replies, then this is the end of player $B$'s turn. Again, if $\\ell'$ separates the secrets, then player B wins. Otherwise it's player A's turn.\n",
        "\n",
        "The object of the game is to determine an affine function $\\ell$ which separates the secrets, i.e. for which $ sgn(\\ell(s_A)) \\neq sgn(\\ell(s_B)).$ The first player to demonstrate an affine function which separates the secrets wins!\n",
        "\n",
        "Our interest is to find optimal strategies for this game. In the millionaire game, the players A,B have an interest in _privacy_. Their secrets $s_A, s_B$ are intended to be _secret_. This means the players A,B might not choose affine functions which potentially reveal information about their own secrets. In practice this means players determined to maintain their privacy will always choose affine functions which do not bound compact convex sets. Similarly, an opponent will not readily choose affine functions which separates the domain into a bounded component, since the probability that the opponent's secret lies in the bounded component is relatively small, while the probability of its lying in the unbounded component is much greater. \n",
        "\n",
        "\n",
        "\n",
        "\n",
        "The subject of so-called _zero knowledge proofs_ in cryptography is related to the millionaires problem. Here we try to find a balance where the players can choose to reveal as much as they wish of their own balances, while their own guesses are signals/indications in-themselves of the secret balance.\n",
        "\n",
        "Our question is whether there is any strategy or skill in this game. What is the optimal strategy? Can the player use the knowledge of the opponent's affine functions to improve their own selection of affine function??"
      ],
      "metadata": {
        "id": "fdphE-mcyviT"
      }
    },
    {
      "cell_type": "code",
      "source": [
        "import numpy as np\n",
        "\n",
        "#s_A=input(\"What is player A's secret position?\")\n",
        "s_A=[1,0]\n",
        "s_A=np.array(s_A)\n",
        "\n",
        "#s_B=input(\"What is player B's secret position?\")\n",
        "s_B=[0, 2]\n",
        "s_B=np.array(s_B)\n",
        "\n",
        "\n",
        "def affine(n,x,b):\n",
        "    n=np.array(n)\n",
        "    x=np.array(x)\n",
        "   # return n.dot(x)+b\n",
        "    return n[0]*x[0]+n[1]*x[1] + b\n",
        "\n",
        "def sign(x_Real):\n",
        "    if x_Real<0: \n",
        "        return -1\n",
        "    else:\n",
        "        return +1\n",
        "\n",
        "def t(n,b):\n",
        "    n=np.array(n)\n",
        "    if sign(affine(n,s_A,b)) != sign(affine(n,s_B, b)):\n",
        "         return True\n",
        "    else:\n",
        "         return False\n"
      ],
      "metadata": {
        "colab": {
          "base_uri": "https://localhost:8080/"
        },
        "id": "_jA3unC08nBZ",
        "outputId": "2323c5ed-c403-473b-d597-4e40b306c512"
      },
      "execution_count": 117,
      "outputs": [
        {
          "output_type": "stream",
          "name": "stdout",
          "text": [
            "1\n"
          ]
        }
      ]
    },
    {
      "cell_type": "code",
      "source": [
        "outcome=False\n",
        "history=[]\n",
        "vector_history=[]\n",
        "player=+1\n",
        "i=0\n",
        "color=[]\n",
        "\n",
        "\n",
        "while outcome == False:\n",
        "    print(\"\\n Player \" + str(player) + \"'s turn to play:\" )\n",
        "    print(\"Given the history \" + str(history) + \" choose your affine function:\")     \n",
        "    \n",
        "    n0 = float(input())\n",
        "    n1 = float(input())\n",
        "    b = float(input())\n",
        "    history = history + [[n0, n1, b]]\n",
        "    vector_history = vector_history+[[n0,n1]] \n",
        "    i=i+1\n",
        "\n",
        "\n",
        "    if t([n0, n1], b) == True:\n",
        "        outcome = True\n",
        "        print(\"Winner! Player \" + str(player)+ \" has separated the secrets with \" + str([n0, n1, b]) + \".\")\n",
        "    else:\n",
        "        print(\"Fail! Player \" + str(player) + \" has not separated the secrets.\")\n",
        "        player=player*(-1)\n",
        "\n",
        "    \n",
        "\n",
        "    V=np.array(vector_history)\n",
        "    origin=np.array([[0]*i, [0]*i])\n",
        "    plt.quiver(*origin, V[:,0], V[:,1], scale=21)\n",
        "    plt.show()          \n"
      ],
      "metadata": {
        "colab": {
          "base_uri": "https://localhost:8080/"
        },
        "id": "7aUbPfjPRYa8",
        "outputId": "fcc7f439-009e-4050-d460-4c58b94fa791"
      },
      "execution_count": null,
      "outputs": [
        {
          "output_type": "stream",
          "name": "stdout",
          "text": [
            "\n",
            " Player 1's turn to play:\n",
            "Given the history [] choose your affine function:\n"
          ]
        }
      ]
    },
    {
      "cell_type": "code",
      "source": [
        "import matplotlib.pyplot as plt\n",
        "\n",
        "V=np.array([[1,1], [-2,2], [4,-7], [3,1]])\n",
        "origin=np.array([[0,0,0,0], [0,0,0,0]])\n",
        "plt.quiver(*origin, V[:,0], V[:,1], scale=21)\n",
        "plt.show()"
      ],
      "metadata": {
        "colab": {
          "base_uri": "https://localhost:8080/",
          "height": 264
        },
        "id": "efWBPS96ixb7",
        "outputId": "56cc3a36-8e44-4ae9-f3df-f553468967b8"
      },
      "execution_count": 114,
      "outputs": [
        {
          "output_type": "display_data",
          "data": {
            "text/plain": [
              "<Figure size 432x288 with 1 Axes>"
            ],
            "image/png": "[encoded data removed]"
          },
          "metadata": {
            "needs_background": "light"
          }
        }
      ]
    },
    {
      "cell_type": "code",
      "execution_count": null,
      "metadata": {
        "id": "zv2OjAvuyu5C"
      },
      "outputs": [],
      "source": [
        ""
      ]
    },
    {
      "cell_type": "code",
      "source": [
        ""
      ],
      "metadata": {
        "id": "oktU3dHilGG-"
      },
      "execution_count": null,
      "outputs": []
    }
  ]
}