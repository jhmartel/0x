{
  "nbformat": 4,
  "nbformat_minor": 0,
  "metadata": {
    "colab": {
      "name": "MillionaireGame.ipynb",
      "provenance": [],
      "collapsed_sections": [],
      "authorship_tag": "ABX9TyPgxS7AKda612wnqIokDZ3K",
      "include_colab_link": true
    },
    "kernelspec": {
      "name": "python3",
      "display_name": "Python 3"
    },
    "language_info": {
      "name": "python"
    }
  },
  "cells": [
    {
      "cell_type": "markdown",
      "metadata": {
        "id": "view-in-github",
        "colab_type": "text"
      },
      "source": [
        "<a href=\"https://colab.research.google.com/github/jhmartel/fp/blob/master/_notebooks/2022-04-20-MillionaireGame.ipynb\" target=\"_parent\"><img src=\"https://colab.research.google.com/assets/colab-badge.svg\" alt=\"Open In Colab\"/></a>"
      ]
    },
    {
      "cell_type": "markdown",
      "source": [
        "# Yao's Millionaire's Problem. Part 1. \n",
        "\n",
        "> \" We begin the study of Yao's Millionaire Problem, approaching via convex analysis. Two players have secret points, and the first player to guess an affine function separating the secrets wins. The question is whether the optimal strategy is uniform on the domain, or whether there is some variation in the density. This is elaborated below using both python and some elementary convex analysis.\"\n",
        "\n",
        "- toc: false\n",
        "- branch: master\n",
        "- badges: false\n",
        "- comments: true\n",
        "- categories: [millionaire, secret, convex analysis]\n",
        "- hide: false\n",
        "\n",
        "\n"
      ],
      "metadata": {
        "id": "WuxoquAlTO2K"
      }
    },
    {
      "cell_type": "markdown",
      "source": [
        "The purpose of this article is to investigate whether there is strategy or skill possible in the following variation of [Yao's \"Millionaire Problem\"](https://en.wikipedia.org/wiki/Yao%27s_Millionaires%27_problem).\n",
        "\n",
        "Here is the game. We have a huge grid $\\mathbf{R}^2$. Now let two players $A,B$ have secret locations $s_A=(x_A, y_A)$ and $s_B=(x_B, y_B)$. These secrets are _points_ in the euclidean plane $\\mathbf{R}^2$. \n",
        "\n",
        "Now the players $A, B$ are going to take turns guessing affine functions (or affine lines in $\\mathbf{R}^2$) and the first player to guess an affine function which separates the secrets wins! \n",
        "\n",
        "The gameplay is something like this: The players $A,B$ take turns. If player $A$ goes first, then player $A$ chooses an affine function $\\ell$ on $\\mathbf{R}^2$, and asks player $B$ to reply with the sign of $\\ell(s_B)$. We require that $B$ replies honestly with $sgn(\\ell(s_B))$. This is the end of player $A$'s turn. If $\\ell$ separates the secrets, then player A wins. Otherwise it's player B's turn. Next player $B$ chooses an affine function $\\ell'$, and asks player $A$ to reply with the sign of $\\ell'(s_A)$. Once player $A$ replies, then this is the end of player $B$'s turn. Again, if $\\ell'$ separates the secrets, then player B wins. Otherwise it's player A's turn.\n",
        "\n",
        "The object of the game is to determine an affine function $\\ell$ which separates the secrets, i.e. for which $ sgn(\\ell(s_A)) \\neq sgn(\\ell(s_B)).$ The first player to demonstrate an affine function which separates the secrets wins!\n",
        "\n",
        "Our interest is to find optimal strategies for this game. Firstly, we have to consider whether there is _any_ strategy possible. For example, can player $A$ use the cumulative history of both player $A$ and $B$'s affine guesses to better inform their next guess? For example, if player $A$ guesses an affine function $\\ell$ which does not separate, then player $B$ can use the knowledge of their own private secret to determine which halfspace contains $s_A$. And indeed, by the same reasoning player $A$ can use their knowledge of $s_A$ to likewise determine which halfspace contains $s_B$. So obviously the initial distribution $d\\lambda$ is updated to the restricted distribution $d\\lambda\\cdot 1_H$, where $H$ is the halfspace defined by $\\ell$ and containing $s_A, s_B$. With successive guesses, the distribution becomes a descending chain of closed convex sets, namely the intersection of successive halfspaces, having the form $$d\\lambda \\leadsto d\\lambda \\cdot 1_H \\leadsto d\\lambda \\cdot 1_H 1_{H'} \\leadsto d\\lambda \\cdot 1_H 1_{H'} 1_{H''} \\leadsto \\cdots. $$\n",
        "\n",
        "The notation is somewhat strange, but simply expresses that we remain uncertain of the specific location of the secrets $s_A, s_B$, except we know the possibly location is becoming more restricted. \n",
        "\n",
        "\n",
        "In the millionaire game, the players $A,B$ have an interest in _privacy_. Their secrets $s_A, s_B$ are intended to be _secret_. This means the players $A,B$ might not choose affine functions which potentially reveal information about their own secrets. In practice this means players determined to maintain their privacy will always choose affine functions which do not bound compact convex sets. Similarly, an opponent will not readily choose affine functions which separates the domain into a bounded component, since the probability that the opponent's secret lies in the bounded component is relatively small, while the probability of its lying in the unbounded component is much greater. \n",
        "\n",
        "The subject of so-called _zero knowledge proofs_ in cryptography is related to the millionaires problem. Here we try to find a balance where the players can choose to reveal as much as they wish of their own balances, while their own guesses are signals/indications in-themselves of the secret balance.\n",
        "\n",
        "Our question is whether there is any strategy or skill in this game. What is the optimal strategy? Can the player use the knowledge of the opponent's affine functions to improve their own selection of affine function??"
      ],
      "metadata": {
        "id": "fdphE-mcyviT"
      }
    },
    {
      "cell_type": "code",
      "source": [
        "import numpy as np\n",
        "import matplotlib.pyplot as plt\n",
        "\n",
        "# Now we simulate the millionaire problem on the euclidean two-dimensional plane.\n",
        "# For convenience we rename the players $A,B$ as players $+1, -1$, respectively. \n",
        "# for testing purposes we suppose the players A,B have secrets below:\n",
        "\n",
        "#s_A=input(\"What is player A's secret position?\")\n",
        "s_A=[16,0]\n",
        "s_A=np.array(s_A)\n",
        "\n",
        "#s_B=input(\"What is player B's secret position?\")\n",
        "s_B=[0, 0.2]\n",
        "s_B=np.array(s_B)\n",
        "\n",
        "\n",
        "# now we define some basic functions, i.e. to compute affine functions based on\n",
        "# their normal n and height b.\n",
        "def affine(n,x,b):\n",
        "    n=np.array(n)\n",
        "    x=np.array(x)\n",
        "   # return n.dot(x)+b\n",
        "    return n[0]*x[0]+n[1]*x[1] + b\n",
        "\n",
        "\n",
        "# to protect the secret we really only need the sign of the affine function.\n",
        "def sign(x_Real):\n",
        "    if x_Real<0: \n",
        "        return -1\n",
        "    else:\n",
        "        return +1\n",
        "\n",
        "# here t defines the test function, which is True iff the affine function \n",
        "# separates the secrets. \n",
        "def t(n,b):\n",
        "    n=np.array(n)\n",
        "    if sign(affine(n,s_A,b)) != sign(affine(n,s_B, b)):\n",
        "         return True\n",
        "    else:\n",
        "         return False\n"
      ],
      "metadata": {
        "id": "_jA3unC08nBZ"
      },
      "execution_count": 111,
      "outputs": []
    },
    {
      "cell_type": "code",
      "source": [
        "# Now we setup the basic routine, i.e. sequence of gameplay.\n",
        "\n",
        "outcome=False\n",
        "history=[]\n",
        "vector_history=[]\n",
        "player=+1\n",
        "i=0\n",
        "color=[]\n",
        "\n",
        "\n",
        "while outcome == False:\n",
        "    print(\"\\n Player \" + str(player) + \"'s turn to play:\" )\n",
        "    print(\"Given the history \" + str(history) + \" choose your affine function:\")     \n",
        "    \n",
        "    n0 = float(input())\n",
        "    n1 = float(input())\n",
        "    b = float(input())\n",
        "    history = history + [[n0, n1, b]]\n",
        "    vector_history = vector_history+[[n0,n1]] \n",
        "    i=i+1\n",
        "\n",
        "\n",
        "    if t([n0, n1], b) == True:\n",
        "        outcome = True\n",
        "        print(\"Winner! Player \" + str(player)+ \" has separated the secrets with \" + str([n0, n1, b]) + \". End of Game!\")\n",
        "    else:\n",
        "        print(\"Fail! Player \" + str(player) + \" has failed to separate the secrets... End of turn.\")\n",
        "        player=player*(-1)\n",
        "\n",
        "    \n",
        "\n",
        "# the following plots the various normals chosen by the players, but we would\n",
        "# prefer to have the half spaces. \n",
        "    V=np.array(vector_history)\n",
        "    origin=np.array([[0]*i, [0]*i])\n",
        "    plt.quiver(*origin, V[:,0], V[:,1], scale=21)\n",
        "    plt.show()          \n"
      ],
      "metadata": {
        "id": "7aUbPfjPRYa8",
        "colab": {
          "base_uri": "https://localhost:8080/",
          "height": 1000
        },
        "outputId": "74131469-fdcf-4df8-cc44-990130e26c8e"
      },
      "execution_count": 112,
      "outputs": [
        {
          "output_type": "stream",
          "name": "stdout",
          "text": [
            "\n",
            " Player 1's turn to play:\n",
            "Given the history [] choose your affine function:\n",
            "1\n",
            "1\n",
            "0\n",
            "Fail! Player 1 has failed to separate the secrets... End of turn.\n"
          ]
        },
        {
          "output_type": "display_data",
          "data": {
            "text/plain": [
              "<Figure size 432x288 with 1 Axes>"
            ],
            "image/png": "[encoded data removed]"
          },
          "metadata": {
            "needs_background": "light"
          }
        },
        {
          "output_type": "stream",
          "name": "stdout",
          "text": [
            "\n",
            " Player -1's turn to play:\n",
            "Given the history [[1.0, 1.0, 0.0]] choose your affine function:\n",
            "3\n",
            "1\n",
            "0\n",
            "Fail! Player -1 has failed to separate the secrets... End of turn.\n"
          ]
        },
        {
          "output_type": "display_data",
          "data": {
            "text/plain": [
              "<Figure size 432x288 with 1 Axes>"
            ],
            "image/png": "[encoded data removed]"
          },
          "metadata": {
            "needs_background": "light"
          }
        },
        {
          "output_type": "stream",
          "name": "stdout",
          "text": [
            "\n",
            " Player 1's turn to play:\n",
            "Given the history [[1.0, 1.0, 0.0], [3.0, 1.0, 0.0]] choose your affine function:\n",
            "1\n",
            "4\n",
            "0\n",
            "Fail! Player 1 has failed to separate the secrets... End of turn.\n"
          ]
        },
        {
          "output_type": "display_data",
          "data": {
            "text/plain": [
              "<Figure size 432x288 with 1 Axes>"
            ],
            "image/png": "[encoded data removed]"
          },
          "metadata": {
            "needs_background": "light"
          }
        },
        {
          "output_type": "stream",
          "name": "stdout",
          "text": [
            "\n",
            " Player -1's turn to play:\n",
            "Given the history [[1.0, 1.0, 0.0], [3.0, 1.0, 0.0], [1.0, 4.0, 0.0]] choose your affine function:\n",
            "-3\n",
            "0\n",
            "-5\n",
            "Fail! Player -1 has failed to separate the secrets... End of turn.\n"
          ]
        },
        {
          "output_type": "display_data",
          "data": {
            "text/plain": [
              "<Figure size 432x288 with 1 Axes>"
            ],
            "image/png": "[encoded data removed]"
          },
          "metadata": {
            "needs_background": "light"
          }
        },
        {
          "output_type": "stream",
          "name": "stdout",
          "text": [
            "\n",
            " Player 1's turn to play:\n",
            "Given the history [[1.0, 1.0, 0.0], [3.0, 1.0, 0.0], [1.0, 4.0, 0.0], [-3.0, 0.0, -5.0]] choose your affine function:\n",
            "1\n",
            "-1\n",
            "0\n",
            "Winner! Player 1 has separated the secrets with [1.0, -1.0, 0.0]. End of Game!\n"
          ]
        },
        {
          "output_type": "display_data",
          "data": {
            "text/plain": [
              "<Figure size 432x288 with 1 Axes>"
            ],
            "image/png": "[encoded data removed]"
          },
          "metadata": {
            "needs_background": "light"
          }
        }
      ]
    },
    {
      "cell_type": "markdown",
      "source": [
        "The above is a very simple gameplay, where it happens by chance that the two points can be separated by a flat strip, namely the space between two parallel halfspaces. We included the above simply as an example. \n",
        "\n",
        "[To Do:]\n",
        "1. Use matplotlib to plot the halfspaces, and not simply the normal vector, which is what we have above.\n",
        "\n",
        "2. Determine some automatic routine to compete with a human opponent.\n",
        "\n",
        "3. The millionaire's problem implicitly assumes the players $A,B$ have large funds, i.e. enough to pay for a dinner! Therefore we might need assume our secrets $s_A, s_B$ are sufficiently far from the origin. (?) \n",
        "\n",
        "4. If the domain is essentially infinite, then a certain amount of privacy will always be maintained, because it's better to bisect the unknown into two halfspaces of equal (possibly infinite) area. If the affine function indeed separates the secrets, then the position of that secret is only known to occupy an infinite area domain, and thus essentially remains private in a restricted sense. Although of course the _direction_ of the secret, and not necessarily its magnitude will be better known to the opponent, i.e. there will be a definite reduction of uncertainty in the direction of the opponents secret, but not necessarily a reduction in uncertainty in its magnitude.\n",
        "\n",
        "If an opponent proposes an affine function which separates the domain into a bounded and unbounded component, then that is huge risk for the player, i.e. it's unlikely that the small bounded domain (chosen at random) will contain the secret  as opposed to the infinite domain. At the risk of belabouring the point: a random infinite domain is more likely to contain an unknown secret than a compact domain. We find this an interesting point..."
      ],
      "metadata": {
        "id": "ngFSsAQujR84"
      }
    },
    {
      "cell_type": "code",
      "source": [
        "# hide\n",
        "\n",
        "print(history)"
      ],
      "metadata": {
        "colab": {
          "base_uri": "https://localhost:8080/"
        },
        "id": "sOSRY7Li5-QE",
        "outputId": "f9e25077-7676-42ea-e669-7e5f5aa10bd0"
      },
      "execution_count": 114,
      "outputs": [
        {
          "output_type": "stream",
          "name": "stdout",
          "text": [
            "[[1.0, 1.0, 0.0], [3.0, 1.0, 0.0], [1.0, 4.0, 0.0], [-3.0, 0.0, -5.0], [1.0, -1.0, 0.0]]\n"
          ]
        }
      ]
    },
    {
      "cell_type": "code",
      "source": [
        "# hide\n",
        "\n",
        "prehistory = history[:-1]\n",
        "signs=[]\n",
        "sph=[]\n",
        "\n",
        "for x in prehistory:\n",
        "    epsilon=sign(affine([x[0], x[1]], s_A, x[2]))\n",
        "    signs=signs+[epsilon]\n",
        "    sph=sph+[epsilon*np.array(x)]\n",
        "\n",
        "sph=np.array(sph)\n",
        "print(sph)\n",
        "print(type(sph))\n",
        "\n",
        "#print(prehistory)\n",
        "#print(type(prehistory))\n",
        "#print(sph)    \n"
      ],
      "metadata": {
        "colab": {
          "base_uri": "https://localhost:8080/"
        },
        "id": "lkhEQ5xvq3W-",
        "outputId": "0e1fd0b8-c136-4f2c-ff4c-596b1a5b5ce8"
      },
      "execution_count": 144,
      "outputs": [
        {
          "output_type": "stream",
          "name": "stdout",
          "text": [
            "[[ 1.  1.  0.]\n",
            " [ 3.  1.  0.]\n",
            " [ 1.  4.  0.]\n",
            " [ 3. -0.  5.]]\n",
            "<class 'numpy.ndarray'>\n"
          ]
        }
      ]
    },
    {
      "cell_type": "code",
      "source": [
        "#hide\n",
        "\n",
        "import numpy as np\n",
        "P=2.45\n",
        "S=[22, 33, 45.6, 21.6, 51.8]\n",
        "SP = P*np.array(S)\n",
        "print(SP)"
      ],
      "metadata": {
        "id": "YGVZkTxuS9C4",
        "outputId": "0e47f056-16f5-47c6-f2eb-1da3b83dc83b",
        "colab": {
          "base_uri": "https://localhost:8080/"
        }
      },
      "execution_count": 130,
      "outputs": [
        {
          "output_type": "stream",
          "name": "stdout",
          "text": [
            "[ 53.9   80.85 111.72  52.92 126.91]\n"
          ]
        }
      ]
    },
    {
      "cell_type": "code",
      "source": [
        "from scipy.spatial import HalfspaceIntersection\n",
        "\n",
        "prehistory = history[:-1]\n",
        "signs=[]\n",
        "sph=[]\n",
        "\n",
        "for x in prehistory:\n",
        "    epsilon=sign(affine([x[0], x[1]], s_A, x[2]))\n",
        "    signs=signs+[epsilon]\n",
        "    sph=sph+[epsilon*np.array(x)]\n",
        "\n",
        "sph=np.array(sph)\n",
        "print(sph)\n",
        "print(type(sph))\n",
        "\n",
        "#history=np.array(history)\n",
        "#prehistory=history[:-1]\n",
        "\n",
        "# for illustration we have the secret s_A as feasible_point.\n",
        "# its interesting question to select a feasible point which \n",
        "# does not reveal too much information about the secrets... \n",
        "# but obviously any point on the convex hull formed by the secrets s_A, s_B \n",
        "# will be a feasible point. But there are many more choices, so which choice reveals\n",
        "# the least information about the secrets s_A, s_B ? I.e. which feasible point can be chosen\n",
        "# which reveals the least information about s_A, s_B? \n",
        "\n",
        "feasible_point = np.array([16.0, 0.0])\n",
        "\n",
        "halfspaces = sph*(-1)\n",
        "\n",
        "\n",
        "# we need reverse-signs to align with the convention in qhull that \n",
        "# the halfspaces are defined by the inequality Ax+b <= 0.\n",
        "hs = HalfspaceIntersection(halfspaces, feasible_point)\n",
        "\n",
        "import matplotlib.pyplot as plt\n",
        "fig = plt.figure()\n",
        "ax = fig.add_subplot('111', aspect='equal')\n",
        "xlim, ylim = (-100, 100), (-100, 100)\n",
        "ax.set_xlim(xlim)\n",
        "ax.set_ylim(ylim)\n",
        "x = np.linspace(-100, 100, 1000)\n",
        "symbols = ['-', '+', 'x', '*']\n",
        "signs = [0, 0, -1, -1]\n",
        "fmt = {\"color\": None, \"edgecolor\": \"b\", \"alpha\": 0.5}\n",
        "for h, sym, sign in zip(halfspaces, symbols, signs):\n",
        "    hlist = h.tolist()\n",
        "    fmt[\"hatch\"] = sym\n",
        "    if h[1]== 0:\n",
        "        ax.axvline(-h[2]/h[0], label='{}x+{}y+{}=0'.format(*hlist))\n",
        "        xi = np.linspace(xlim[sign], -h[2]/h[0], 1000)\n",
        "        ax.fill_between(xi, ylim[0], ylim[1], **fmt)\n",
        "    else:\n",
        "        ax.plot(x, (-h[2]-h[0]*x)/h[1], label='{}x+{}y+{}=0'.format(*hlist))\n",
        "        ax.fill_between(x, (-h[2]-h[0]*x)/h[1], ylim[sign], **fmt)\n",
        "x, y = zip(*hs.intersections)\n",
        "ax.plot(x, y, 'o', markersize=8)"
      ],
      "metadata": {
        "colab": {
          "base_uri": "https://localhost:8080/",
          "height": 286
        },
        "id": "fJPaFfhGxRJo",
        "outputId": "2b5b27bb-dab6-47b8-f93a-567e8a556a15"
      },
      "execution_count": 150,
      "outputs": [
        {
          "output_type": "execute_result",
          "data": {
            "text/plain": [
              "[<matplotlib.lines.Line2D at 0x7f1a36148a50>]"
            ]
          },
          "metadata": {},
          "execution_count": 150
        },
        {
          "output_type": "display_data",
          "data": {
            "text/plain": [
              "<Figure size 432x288 with 1 Axes>"
            ],
            "image/png": "[encoded data removed]"
          },
          "metadata": {
            "needs_background": "light"
          }
        }
      ]
    },
    {
      "cell_type": "code",
      "source": [
        ""
      ],
      "metadata": {
        "id": "_HRM6ObApae4"
      },
      "execution_count": null,
      "outputs": []
    },
    {
      "cell_type": "code",
      "source": [
        ""
      ],
      "metadata": {
        "id": "u4w7My7AqBjX"
      },
      "execution_count": null,
      "outputs": []
    }
  ]
}