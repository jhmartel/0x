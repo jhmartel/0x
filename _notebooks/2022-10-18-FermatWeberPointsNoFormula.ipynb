{
  "nbformat": 4,
  "nbformat_minor": 0,
  "metadata": {
    "colab": {
      "provenance": [],
      "collapsed_sections": [],
      "authorship_tag": "ABX9TyO0rLyPxsHrUFG0egwpXdTP",
      "include_colab_link": true
    },
    "kernelspec": {
      "name": "python3",
      "display_name": "Python 3"
    },
    "language_info": {
      "name": "python"
    }
  },
  "cells": [
    {
      "cell_type": "markdown",
      "metadata": {
        "id": "view-in-github",
        "colab_type": "text"
      },
      "source": [
        "<a href=\"https://colab.research.google.com/github/jhmartel/fp/blob/master/_notebooks/2022-10-18-FermatWeberPointsNoFormula.ipynb\" target=\"_parent\"><img src=\"https://colab.research.google.com/assets/colab-badge.svg\" alt=\"Open In Colab\"/></a>"
      ]
    },
    {
      "cell_type": "markdown",
      "source": [
        "# Fermat Weber Points and L1 Problems with No Formulas. \n",
        "\n",
        "> \"We record some very simple comments on the difficulties of computing Fermat Weber points of probability measures. These are points x which minimize the average euclidean distance from the points supporting a probability measure mu on Rn. The problem is that mathematicians need to stop asking for formulas for naive geometric questions. Besides formulas are not as useful as they might initially appear. Instead fast approximation and convergence are much more useful, although the resultant is not known a priori.\" \n",
        "\n",
        "- toc: false\n",
        "- branch: master\n",
        "- badges: true\n",
        "- comments: true\n",
        "- author: JHM\n",
        "- categories: [fastpages, jupyter]"
      ],
      "metadata": {
        "id": "ZLwPsQeQjgOa"
      }
    },
    {
      "cell_type": "markdown",
      "source": [
        "# _Fermat-Weber Points of Probability Measures μ_\n",
        "\n",
        "We've been reviewing a Mathoverflow post [here](https://mathoverflow.net/questions/432157/how-to-find-the-point-at-minimal-average-distance-of-a-given-measure?noredirect=1#comment1112416_432157) about finding _formulas_ for the Fermat-Weber points of a probability measure $\\mu$ on ${\\bf{R}}^n$. The FW point is that point $\\bar{x}$ which minimizes the average $L^1$ distance to the measure, i.e. $FW$ is the minimizing argument of $$\\min_x f_\\mu(x)=\\min_{x} \\int ||x-y|| ~d\\mu(y),$$ where $x$ ranges over ${\\bf{R}}^n$. It's remarkable that this problem admits _no good_ formula. The problem is that $f_\\mu(x)$ defined above is not everywhere differentiable on the domain, specifically being not differentiable along the support of $\\mu$. \n",
        "\n",
        "Now the minimizing program is readily computed approximately, i.e. numerically. This means we can basically start with any initial point $x_0$ and find a type of _gradient flow_ to find sequence $x_1$, $x_2$, $\\ldots$ which _converges_ to a minimizer $\\lim_{k\\to +\\infty}x_k= x_\\infty$. In practice, this is good enough. \n",
        "\n",
        "But what about the _formula_? This is typical of naive mathematicians, to always seek out a \"formula\". But formulas are the exception. There's probably an easy argument that numbers given by \"formula\" are exceedingly rare, i.e. measure zero on the real number line ${\\bf{R}}$.\n",
        "\n",
        "\n",
        "\n",
        "Let's consider the Legendre-Fenchel transform ${f_\\mu}^*(n)$\n",
        "of the function $f_\\mu(x):=\\int ||x-y|| d\\mu(y)$. Is a formula for $f^*_\\mu$ available? Here we must acknowledge the unfortunate fact that Legendre transforms of convex combinations are not immediately computable. That is, we have $$(\\frac{1}{2}f_0 + \\frac{1}{2}f_1)^* \\leq \\frac{1}{2}f_0^* + \\frac{1}{2} f_1^*.$$\n",
        "\n",
        "This implies ${f^*_\\mu}(n)$ is less than or equal to the naive recombination $$\\nu(n):=\\int \\langle n, y\\rangle ~d\\mu(y)$$ if $||n||\\leq 1$, and $$\\nu(n)=+\\infty$$ otherwise. Notice that the naive transform $\\nu$ is basically a linear function on it's domain, namely $\\langle n, \\bar{y} \\rangle$ where $\\bar{y} :=\\int y ~d\\mu(y)$. It would be convenient to have a general rule or formula for $f^*_\\mu$, but this is not achievable at this stage. \n",
        "\n",
        "It proves again that the naive $L^1$ cost $c=d^1$ might seem convenient, but it's really not due to its nondifferentiability along the diagonal. For example, this implies that $f_\\mu$ is _not_ differentiable along the support of $\\mu$. It's clear that $f_\\mu$ is _finite_ and _continuous_ along $spt(\\mu)$, however the gradient formula $$\\nabla_x f_\\mu(x) = \\int \\frac{x-y}{|x-y|} d\\mu(y), $$ and find the integrand undefined whenever $x=y$ for some $y\\in spt(\\mu)$. Notice the integral defining $\\nabla_x f_\\mu$ is a sum of unit vectors. \n",
        "\n",
        "Here arises a question from first year calculus. What are the critical points of $f_\\mu$? Strictly speaking, the critical points consist of those points $\\bar{x}$ where $\\nabla_x f_\\mu(\\bar{x})=0$ _and_ those points where the function $f_\\mu$ is _not_ differentiable. Therefore we find $$Crit(f_\\mu) = \\{\\bar{x}~|~\\nabla f_\\mu(\\bar{x})=0\\} \\cup spt(\\mu).$$\n",
        "\n",
        "This makes the discovery of the minimizer rather difficult, because we also need to compare the critical value at $\\bar{x}$ with the values of $f_\\mu$ restricted to $spt(\\mu)$. But this restriction $f_\\mu|_{spt(\\mu)}$ is _not_ differentiable, so there are no critical points to speak of, i.e. every point $x\\in spt(\\mu)$ is a critical point according to the strict definition! And here is the basic difficulty in using $L^1$ distances, and the inability to identify the minimizer. \n",
        "\n",
        "The question arises: _\"Is the restriction $f_\\mu|_{spt(\\mu)}$ really nondifferentiable?\"_ \n",
        "\n",
        "Here the properties of $spt(\\mu)$ as a subset of ${\\bf{R}}^n$ has to play a role in deciding the behaviour of $f_\\mu$ when restricted to the support $spt(\\mu)$. But this is a question for another time...\n",
        "\n",
        "\n",
        "\n",
        "\n",
        "\n",
        "\n",
        "\n",
        "\n",
        "\n"
      ],
      "metadata": {
        "id": "uyGNbVv3vV1o"
      }
    },
    {
      "cell_type": "markdown",
      "source": [
        "# hide\n",
        "\n",
        "\n",
        "For example, if $\\mu$ is supported on a one-dimensional embedded circle, then there exists a well-defined tangent space along the support, and we can try to take a directional derivative $$\\langle \\nabla_x f_\\mu, u\\rangle$$ where $u$ is unit tangent vector field to the support curve. \n",
        "\n",
        "However as $x$ passes through the support, the direction of these unit vectors varies discontinuously one integrand at a time. In otherwords, for $x=y'\\in spt(\\mu)$, all the integrand unit vectors are varying continuously except for the single $x=y'$ point where the gradient basically flips sign $\\pm 1$. Naively one might expect that the discontinuity at a single point would not effect the value of the integral, since it consists of an otherwise continuously varying family of unit vectors. So why does the value of this gradient at this single point even effect the value of the integral at all? "
      ],
      "metadata": {
        "id": "a4gICDuhn5yh"
      }
    },
    {
      "cell_type": "code",
      "execution_count": null,
      "metadata": {
        "id": "DSRbskTpvVGk"
      },
      "outputs": [],
      "source": []
    }
  ]
}