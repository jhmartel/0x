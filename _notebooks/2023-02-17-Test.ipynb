{
  "nbformat": 4,
  "nbformat_minor": 0,
  "metadata": {
    "colab": {
      "provenance": [],
      "authorship_tag": "ABX9TyPmvmHl9vP0M0WlI76ql8eD",
      "include_colab_link": true
    },
    "kernelspec": {
      "name": "python3",
      "display_name": "Python 3"
    },
    "language_info": {
      "name": "python"
    }
  },
  "cells": [
    {
      "cell_type": "markdown",
      "metadata": {
        "id": "view-in-github",
        "colab_type": "text"
      },
      "source": [
        "<a href=\"https://colab.research.google.com/github/jhmartel/fp/blob/master/_notebooks/2023-02-17-Test.ipynb\" target=\"_parent\"><img src=\"https://colab.research.google.com/assets/colab-badge.svg\" alt=\"Open In Colab\"/></a>"
      ]
    },
    {
      "cell_type": "markdown",
      "source": [
        "# Fundamentos de Relatividad Especial y Propagacion de la Luz en el Vacio. Una revision critica (1/4).\n",
        "\n",
        "> \"Estamos comenzando a publicar nuestro ensayo sobre la Relatividad Especial (SR). El ensayo es una revision critica de los fundamentos de la RS. Presentamos el articulo en varias partes. En esta primera parte, simplemente abordamos los supuestos basicos de la RS, Transformaciones de Lorentz, y el cono nulo\"\n",
        "\n",
        "\n",
        "- toc: false\n",
        "- branch: master\n",
        "- badges: false\n",
        "- comments: true\n",
        "- author: JHM"
      ],
      "metadata": {
        "id": "y-kgMyOCwZzf"
      }
    }
  ]
}