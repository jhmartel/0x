{
  "nbformat": 4,
  "nbformat_minor": 0,
  "metadata": {
    "colab": {
      "name": "Weber-Birkeland-Currents.ipynb",
      "provenance": [],
      "collapsed_sections": [],
      "authorship_tag": "ABX9TyPbuQ60Y+1fInvCgbvPR99V",
      "include_colab_link": true
    },
    "kernelspec": {
      "name": "python3",
      "display_name": "Python 3"
    },
    "language_info": {
      "name": "python"
    }
  },
  "cells": [
    {
      "cell_type": "markdown",
      "metadata": {
        "id": "view-in-github",
        "colab_type": "text"
      },
      "source": [
        "<a href=\"https://colab.research.google.com/github/jhmartel/fp/blob/master/_notebooks/2022-05-23-Weber_Birkeland_Currents.ipynb\" target=\"_parent\"><img src=\"https://colab.research.google.com/assets/colab-badge.svg\" alt=\"Open In Colab\"/></a>"
      ]
    },
    {
      "cell_type": "markdown",
      "source": [
        "# Ampere Birkeland Currents. [Under Construction] \n",
        "> \"We consider Ampere's force law applied to plasma Birkeland currents.\"\n",
        "\n",
        "- toc: false\n",
        "- branch: master\n",
        "- badges: false\n",
        "- comments: true\n",
        "- author: JHM\n",
        "\n"
      ],
      "metadata": {
        "id": "itGDTX3BvN04"
      }
    },
    {
      "cell_type": "markdown",
      "source": [
        "This article is an extension of Don Scott's work on modelling Birkeland currents. Search for his articles [here](http://www.ptep-online.com/). These Birkeland currents (BCs) are cosmic low beta plasma discharges delivering electric current along filaments in space. We recall that $\\beta$ is the ratio of the plasma thermal pressure $p=Nk_B T$ with the so-called \"magnetic pressure\" $B^2/2\\mu_0$. So low beta means that so-called magnetic pressure is the domainant force in the interaction.\n",
        "\n",
        "Professor Scott's model is derived from Maxwell's equations and Lorentz' force law. Our goal is to reconsider his model in light of Ampere's electrodynamics. Thus the subject of this article is ABC, or Ampereian Birkeland Currents."
      ],
      "metadata": {
        "id": "5-kaM9C563OY"
      }
    },
    {
      "cell_type": "markdown",
      "source": [
        "# Ampere's Force Law\n",
        "\n",
        "Ampere's investigations in 1820-1826 led to his proposing a force law between two current elements $I_1 ds_1$ and $I_2 ds_2$. The current element has a scalar $I$ which represents the net current intensity, and $ds$ is a differential vector element representing arc length along the circuit. The magnitude of $I$ typically represents the *current intensity*, while the magnitude of $ds$ represents the *current velocity*. \n",
        "\n",
        "Alternatively we could follow Weber and write $I ds = q dv$. That is, an electric current element is essentially equivalent to charge in motion, i.e. a charge $q$ in velocity $v$. \n",
        "\n",
        "Ampere determined that the force between two current elements was radial and proportional to the current intensity and to current velocities. Thus the force $F$ was proportional to $I_1 I_2 ds_1 ds_2$. Ampere discovered the inverse square distance proportionality. And moreover determined the precise coefficient of proportionality. In cgs units Ampere's force law is expressed:\n",
        " \n",
        "$$ F_{~I_2 ds_2 ~~ \\text{on} ~~ I_1 ds_1 } =F_{21}= - I_1 I_2\\frac{\\hat{r}_{12}}{r_{12}^2} [ 2(ds_1 \\cdot ds_2) - 3 (\\hat{r}_{12}\\cdot ds_1) ( \\hat{r}_{12}\\cdot ds_2) ] =-F_{12} .$$\n",
        "\n",
        "\n",
        "The following code uses Ampere's formula:"
      ],
      "metadata": {
        "id": "yjM7BrO0AOmL"
      }
    },
    {
      "cell_type": "code",
      "source": [
        "# Vector dot product and scalar product required.\n",
        "def dot(v1, v2):\n",
        "    vx1, vy1, vz1 = v1\n",
        "    vx2, vy2, vz2 = v2\n",
        "    return vx1*vx2+vy1*vy2+vz1*vz2\n",
        "\n",
        "def scalar(a, v1):\n",
        "    vx1, vy1, vz1 = v1 \n",
        "    return [a*vx1, a*vy1, a*vz1]\n",
        "\n",
        "## Ampere's Force \n",
        "def F(state1, state2):\n",
        "    x1, y1, z1, vx1, vy1, vz1 = state1\n",
        "    x2, y2, z2, vx2, vy2, vz2 = state2\n",
        "    v1=[vx1,vy1,vz1]\n",
        "    v2=[vx2,vy2,vz2]\n",
        "\n",
        "    I1=dot(v1,v1)**0.5\n",
        "    I2=dot(v2,v2)**0.5\n",
        "\n",
        "    rho_12 = ((x2-x1)**2+(y2-y1)**2+(z2-z1)**2)**0.5\n",
        "    rhat12 = scalar(rho_12**-1, [x1-x2, y1-y2, z1-z2])\n",
        "\n",
        "    coefficient = -I1*I2*(2*dot(v1,v2)-3*dot(rhat12, v1)*dot(rhat12, v2))*(rho_12)**-1\n",
        "    return [x1,y1,z1]+scalar(coefficient, rhat12)  \n",
        "\n",
        "\n",
        "s0=[0,0,0,.1,.7,0]\n",
        "s1=[1,0,0,0.9,0,0]    \n",
        "\n",
        "print(F(s0,s1))\n",
        "print(F(s1, s0))\n"
      ],
      "metadata": {
        "colab": {
          "base_uri": "https://localhost:8080/"
        },
        "id": "dlUyydfLgnAA",
        "outputId": "e3ea1886-63fa-4a24-c59b-75561c2df43d"
      },
      "execution_count": null,
      "outputs": [
        {
          "output_type": "stream",
          "name": "stdout",
          "text": [
            "[0, 0, 0, -0.05727564927611038, 0.0, 0.0]\n",
            "[1, 0, 0, 0.05727564927611034, 0.0, 0.0]\n"
          ]
        }
      ]
    },
    {
      "cell_type": "markdown",
      "source": [
        "Ampere's force law has several predictions. \n",
        "\n",
        "*   Parallel collinear current elements repel;\n",
        "*   Reversing a parallel colinear current attracts by 2/3rd of the repelling force;\n",
        "*   Parallel adjacent current elements attract;\n",
        "*   Parallel oppositely oriented current elements repel.\n",
        "\n",
        "These can all be tested via various samples.\n"
      ],
      "metadata": {
        "id": "cwHrx87ECzC3"
      }
    },
    {
      "cell_type": "code",
      "source": [
        "# Parallel Colinear Current Elements Repel\n",
        "s0=[ 0,0,0, 0,0,1 ]\n",
        "s1=[ 0,0,2, 0,0,1 ]\n",
        "s3= [ 0,0,3, 0,0,-1 ]\n",
        "print(F(s0,s1))\n",
        "print(F(s1,s0))\n",
        "\n",
        "\n",
        "print(F(s0,s3))\n",
        "print(F(s3,s0))\n",
        "\n",
        "# Parallel Adjacent Current Elements Attract\n",
        "s2=[ 1,0,0, 0,0,1]\n",
        "print(F(s0, s2))"
      ],
      "metadata": {
        "colab": {
          "base_uri": "https://localhost:8080/"
        },
        "id": "abUefdrBDwA4",
        "outputId": "962d2e8b-d72f-4761-fc20-34fef3f7e489"
      },
      "execution_count": null,
      "outputs": [
        {
          "output_type": "stream",
          "name": "stdout",
          "text": [
            "[0, 0, 0, 0.0, 0.0, -0.5]\n",
            "[0, 0, 2, 0.0, 0.0, 0.5]\n",
            "[0, 0, 0, -0.0, -0.0, 0.3333333333333333]\n",
            "[0, 0, 3, -0.0, -0.0, -0.3333333333333333]\n",
            "[0, 0, 0, 2.0, -0.0, -0.0]\n"
          ]
        }
      ]
    },
    {
      "cell_type": "markdown",
      "source": [
        "# hide\n",
        "\n",
        "Our formulation of Ampere's force is defined on the states $[x,y,z, v_x, v_y, v_z]$. The first quantities $[x,y,z]$ denotes the position of the current element, and $[v_x, v_y, v_z]$ the velocity, or the direction of the current element. However our formulation of Ampere's law is not strictly relational. We use the relative vector $$[\\mathbf{r}, \\mathbf{r}']:=[\\Delta x, \\Delta y, \\Delta z, \\Delta v_x, \\Delta v_y, \\Delta v_z].$$ [Incomplete]"
      ],
      "metadata": {
        "id": "o1KRTyqGwjaU"
      }
    },
    {
      "cell_type": "markdown",
      "source": [
        "# What is a Birkeland current?\n",
        "\n",
        "![](https://cdn.iflscience.com/images/3d8a3e2a-110b-52be-9a3e-c54a63973e6c/default-1464367164-2026-gorgeous-new-hubble-image-of-cosmic-butterfly-wings.jpg)\n",
        "\n",
        "Here we imagine a direct current through space which is being conducted in a plasma cylinder. We cannot assume that the cylinder is rigid and strictly right angled throughout, i.e. the Birkeland currents will possibly be radially contracting. We do not wish to assume rotational symmetry around the central axis, although it is convenient in some settings. For example, two doubly infinite parallel filaments will attract/repel depending on their relative orientations. This interaction contributes to the internal potential energy, and the filaments will attract/repel towards a lower energy state. \n",
        "\n",
        "![](https://i.pinimg.com/originals/25/c5/1e/25c51e8904c3148b3ff2ce0697fd3088.jpg)"
      ],
      "metadata": {
        "id": "rMcRKZd8x3m-"
      }
    },
    {
      "cell_type": "markdown",
      "source": [
        "# Cartesian to Cylindrical Coordinates\n",
        "\n",
        "Somehow it's easier to define everything in the Euclidean geometry using the Cartesian coordinates, the usual $(x,y,z)$. But we are curious to translate the Ampere force and Birkeland currents into a cylindrical geometry, i.e. based on $(\\rho, \\theta, z)$ coordinates. This means replacing the Euclidean line element $dx^2+ dy^2 + dz^2$ with $d\\rho^2 + \\rho^2 d\\theta^2 + dz^2$. The key fact is therefore that in cylindrical coordinates $\\rho, \\theta, z$ the orthonormal basis for vector fields is provided by $$\\frac{\\partial}{\\partial \\rho}, ~~\\frac{1}{\\rho}\\frac{\\partial}{\\partial \\theta},~~ \\frac{\\partial}{\\partial z}.$$ \n",
        "\n",
        "However it's clear that cylindrical coordinates have a preferred axis, namely the $z$-axis as defined also by the singularity $\\rho=0$ of the coordinate system and the Jacobian $$dx~dy~dz = \\rho~ d\\rho d\\theta dz.$$\n",
        "\n",
        "Note that $\\rho$ here denotes the $xy$-radius, namely $\\rho^2=x^2+y^2$. There is a risk of confusion with the relative distance $\\Delta \\mathbf{r}$ below, especially $r:=|\\mathbf{r}|$.\n",
        "\n",
        "The cylindrical vector fields are orthonormal. This implies useful property that the vector dot-product can be computed by the same formal operation like with respect to $$\\frac{\\partial}{\\partial x}, ~~\\frac{\\partial}{\\partial y}, ~~\\frac{\\partial}{\\partial z}.$$\n",
        "\n",
        "\n",
        "The basic change of variables formula from _Cartesian_ to _Cylindrical_ coordinates with respect to the point $(\\rho, \\theta, z)$ is:\n",
        "$$\\langle v_x, v_y, v_z \\rangle_{Cartesian} = \n",
        "\\langle  v_x cos(\\theta) + v_y sin(\\theta),~ -v_x sin(\\theta) + v_y cos(\\theta) ,~v_z \\rangle_{Cylindrical}.$$ Note that $\\langle~, \\rangle_{Cylindrical}$ is defined with respect to the orthonormal basis $$ \\{ \\partial /\\partial \\rho,~~ \\rho^{-1} \\partial/ \\partial \\theta,~~ \\partial / \\partial z\\}$$ at the given point $(\\rho, \\theta, z)$ in cyclindrical coordinates. So the above change of formula depends on the basepoint. \n",
        "\n",
        "\n",
        "Therefore the expression $ds \\cdot ds'$ in Ampere's force law can be computed as the dot product of the coefficients with respect to the above orthonormal basis in cylindrical coordinates. We will give examples below.\n",
        "\n",
        "Next it's necessary to consider the expression $\\hat{\\mathbf{r}} \\cdot ds$ in cylindrical coordinates. We can imagine $ds$ as being given by the above orthonormal basis, however it remains to determine the cylindrical expression for $$\\hat{\\mathbf{r}}=\\frac{\\mathbf{r}}{|\\mathbf{r}|}.$$\n",
        "\n",
        "Therefore if $\\Delta\\mathbf{r}=\\langle \\Delta x, \\Delta y, \\Delta z\\rangle$ is the relative position of the points $(x_1, y_1, z_1)$ and $(x_2, y_2, z_2)$ in Cartesian coordinates, then $$\\Delta \\mathbf{r}= \\langle \\Delta x ~cos(\\theta) + \\Delta y ~sin(\\theta), ~-\\Delta x ~sin(\\theta) + \\Delta y ~ cos(\\theta),~~ \\Delta z \\rangle_{Cylindrical}$$ is the expression in cylindrical coordinates at the cylindrical point $(\\rho, \\theta, z)$. Note that the relevant orthonormal basis requires $\\partial / \\partial \\theta$ to be rescaled by $\\rho=(x^2+y^2)^{1/2}$.\n",
        "\n",
        "Therefore $\\Delta \\mathbf{r} \\cdot ds  $ can be evaluated by the usual dot-product formula using the above formula for $\\Delta \\mathbf{r}$ and $ds$. Likewise we can evaluate $\\Delta \\mathbf{r} \\cdot ds'$. All these formulas appear rather complicated though, and not especially convenient.\n",
        "\n",
        "However at this stage we must check if any symbolic reduction, or formal simplification is possible in the representation of Ampere's force. Our preferred method of symbolic calculus is Wolfram MATHEMATICA. There is possibility of using SymPy.\n",
        "\n",
        "[To be continued...]"
      ],
      "metadata": {
        "id": "b1y9EcV-94p8"
      }
    },
    {
      "cell_type": "code",
      "source": [
        "# hide\n",
        "\n",
        "import numpy as np\n",
        "\n",
        "# Converts Cartesian states to Cylindrical States.\n",
        "def C(state):\n",
        "    x,y,z,vx,vy,vz = state\n",
        "    \n",
        "    rho=(x*x+y*y)**0.5\n",
        "    theta=np.arctan(y/x)\n",
        "    \n",
        "    vr = vx*np.cos(theta)+vy*np.sin(theta)\n",
        "    vtheta=(-vx/rho)*np.sin(theta) + (vy/rho)*np.cos(theta)\n",
        "\n",
        "    return [ rho,theta,z, vr,vtheta,vz ]\n",
        "\n",
        "\n",
        "print(C(\n",
        "    [ 1,0,0, 0,0.5,1.2]\n",
        "    ))\n",
        "\n",
        "print(\n",
        "    C(\n",
        "    [1,1,0, -.3, -.2, .7]\n",
        "    )\n",
        "    )\n",
        "\n"
      ],
      "metadata": {
        "colab": {
          "base_uri": "https://localhost:8080/"
        },
        "id": "tsIYvvDkEeLv",
        "outputId": "77a369d1-4be2-4ea3-c19b-9d12f789499e"
      },
      "execution_count": null,
      "outputs": [
        {
          "output_type": "stream",
          "name": "stdout",
          "text": [
            "[1.0, 0.0, 0, 0.0, 0.5, 1.2]\n",
            "[1.4142135623730951, 0.7853981633974483, 0, -0.35355339059327373, 0.04999999999999996, 0.7]\n"
          ]
        }
      ]
    },
    {
      "cell_type": "code",
      "source": [
        "# hide\n",
        "\n",
        "# Converts Cylindrical State to Cartesian state\n",
        "def D(state):\n",
        "    rho,theta,z,vr,vtheta,vz = state\n",
        "\n",
        "    x=rho*(np.cos(theta))\n",
        "    y=rho*(np.sin(theta))\n",
        "\n",
        "    vx=vr*(np.cos(theta))-vtheta*(np.sin(theta))*rho\n",
        "    vy=vr*(np.sin(theta))+vtheta*(np.cos(theta))*rho\n",
        "\n",
        "    return [ x,y,z, vx,vy,vz ]\n",
        "    \n",
        "\n",
        "print(C([ 1,1,0, 0,0.5,1.2]))\n",
        "print(D(C([ 1,1,0, 0,0.5,1.2])))\n"
      ],
      "metadata": {
        "colab": {
          "base_uri": "https://localhost:8080/"
        },
        "id": "mSDwvxUUGV-m",
        "outputId": "1bcc2777-b7ce-4109-efe9-2a6072b55017"
      },
      "execution_count": null,
      "outputs": [
        {
          "output_type": "stream",
          "name": "stdout",
          "text": [
            "[1.4142135623730951, 0.7853981633974483, 0, 0.35355339059327373, 0.25, 1.2]\n",
            "[1.0000000000000002, 1.0, 0, 0.0, 0.5, 1.2]\n"
          ]
        }
      ]
    },
    {
      "cell_type": "code",
      "source": [
        "# hide\n",
        "\n",
        "## Ampere's Force in Cylindrical Coordinates rho, theta, z:\n",
        "\n",
        "def AFC(state1, state2):\n",
        "    rho1, theta1, z1, vr1, vtheta1, vz1 = state1\n",
        "    rho2, theta2, z2, vr2, vtheta2, vz2 = state2 \n",
        "    return C(F(D(state2), D(state1)))\n",
        "\n",
        "c0=[ 1.1,0,0, 0,1.2,1 ]  ## [ rho, theta, z, vr, vt, vz ]\n",
        "c1=[ 1,0,0, 0,0,1 ]\n",
        "\n",
        "print(AFC(c0, c1)[0:6])\n",
        "\n"
      ],
      "metadata": {
        "colab": {
          "base_uri": "https://localhost:8080/"
        },
        "id": "teOgaj9bHnpR",
        "outputId": "262fff98-b1bc-4abb-ea6a-2416416c1f76"
      },
      "execution_count": null,
      "outputs": [
        {
          "output_type": "stream",
          "name": "stdout",
          "text": [
            "[1.0, 0.0, 0, 33.120386471175095, -0.0, -0.0]\n"
          ]
        }
      ]
    },
    {
      "cell_type": "markdown",
      "source": [
        "# hide\n",
        "\n",
        "If $C_2$ is a closed current with line element $ds_2$, then the force of the current on the line element is $$F_{C_2 ~~\\text{on}~~I_1 ds_1} =  I_1 ds_1 \\times ( \\oint_{C_2} I_2 ds_2 \\times \\nabla_1(\\frac{1}{r_{12}})).$$\n",
        "\n",
        "N.B. Ampere's force between current elements is radial. However the force exerted by a closed current $C$ on a current element $I_1 ds_1$  is always orthogonal to the current element, as is clear from the above equation. This was announced by Ampere in 1820s [ref]. Historically one finds that Ampere's force law differs from Grassmann's proposed force law by an exact differential, hence the integrals over closed curves coincide. [ref: Assis]. Grassmann's force law was the more formulaic  $$F^G_{21}:=I_1 d\\ell_1 \\times (I_2 d\\ell_2 \\times \\nabla_1(\\frac{1}{r_{12}})) . $$ However this law does *not* satisfy action-reaction principle, except between closed currents. In general for current elements we have $F_{21} \\neq F_{12} = 0$. \n",
        "\n",
        "When the currents are filamentary, then Ampere's law yields a virtual magnetic field $B$ defined by $$B=\\oint_{C_2} I_2 d\\ell_2 \\times \\nabla_1(\\frac{1}{r}) .$$ However we can replace $I_2 d\\ell_2$ with $J dVol_2$, where $Vol_2$ represents a volume form defined relative to the index $2$ variable. Then we have the following expression from [Assis, Ch.4]: $$B(r_1,t)=\\iiint d^3(r_2)~ J(r_2,t) \\times \\nabla_1 (\\frac{1}{r_{12}}).$$\n",
        "\n",
        " \n",
        " \n",
        " \n",
        " \n",
        " \n",
        "In the context of Birkeland currents, we have a three-dimensional cylinder which is assumed to contain plasma [no collisional low beta] and carrying an electric current between it's two ends. The magnetic field $B$ in this setting induced by the charge distribution $J=J(x)$ is computed by Ampere's force as a volume integral over the tube.\n",
        "\n",
        "$$B(x)=\\int_{Tube} d^3(y) ~~ \\bf{F}_{J(y) ~ \\text{on}~J(x)}$$\n",
        "\n",
        "Remark. In basic electromagnetism theory after Maxwell, it's important to observe that the Maxwell magnetic field $B(x)$ can be nonzero at points where $J(x)=0$. I.e., it is supposed that $B$ can be nonzero at points in vacuum where there is no charge present. But of course, $B$ properly defined depends on a choice of *test* charge, i.e. $B$ represents an amount of force that would be exerted on the test charge *if* that charge was located at $x$. But of course then $B(x)$ represents not a vacuum at $x$ but implicitly involves a test current element to exist at $x$. This is perhaps overly philosophical remark.\n",
        "\n",
        "Is it possible that $B(x)$ is nonzero at a point where $J(x)=0$ ?  No, because we cannot compute $B(x)$ at a point where $J(x)=0$ except to compute $B=0$. This is because we are expressly considering the interaction of $J(x)$ with $J(y)$ at a different point. We assume there is a radial action-at-a-distance between the charges. Therefore the equilibrium condition for the field $J$ in the Birkeland current is $$\\int dy ~~ \\bf{F}_{J(y)~\\text{on}~ J(x)}=0$$ for every $x$. The above integral represents a Bochner vector-valued integral. It therefore represents three equations in the $x,y,z$ rectilinear coordinates. \n",
        "\n",
        "Following Don Scott, we can express these three equations using cyclindrical coordinates, and making some general assumptions about the variation of $B$ and $J$ with respect to time $t$ and the cylindrical coordinates $\\rho, \\theta, z$. \n",
        "\n",
        "However, how do we guarantee that current is being delivered, i.e. that the Birkeland current *is* delivering power? \n",
        "\n",
        "\n",
        "To compute the internal pressures of the charge distribution $J$ requires a method for determining the interaction of $J$ and $B$. Now Lorentz force law would imply that $B$ acts on $J$ by the cross-product $B\\times J$. However we prefer to follow the Ampere-Weber electrodynamics. In this case we have *no* law for the interaction of $B$ and $J$. What is required is a different integration, namely $$\\iiint dy~~~ \\bf{F}\n",
        "\n",
        " computing $\\bf{F}_{B(x)~ \\text{on}~ J(x)}.$\n",
        "\n",
        "\n",
        "The magnetic fields $B$ then became the integral of forces between currents. As Assis has proved in [ref] Ampere's formula establishes a computational basis for the non-existence of magnetic monopoles. In otherwords we find that $$\\nabla \\cdot B = \\nabla \\cdot (\\nabla \\times [potential])=0$$ since the divergence of a curl vanishes identically, i.e. $d\\circ d=0$ where $d$ is the exterior differential.\n",
        "\n",
        "In otherwords, Ampere proved that the magnetic field $B$, Faraday's lines of force, were always generated by currents. But which currents? If we include image of classic magnet with the iron filings, then where is the current that is orientating the magnet, and what \"current\" corresponds to the iron filings? \n",
        "\n"
      ],
      "metadata": {
        "id": "MxQl9JPtBQxf"
      }
    },
    {
      "cell_type": "markdown",
      "source": [
        "# hide\n",
        "\n",
        "How do we model a Birkeland current? [Include image]\n",
        "We imagine a cylinder $D$ filled with plasma, and delivering a steady electrical current between the two ends of the cylinder. The question is: what is the charge distribution of a current-carrying plasma cylinder which has the minimal amount of internal *pressure*. \n",
        "\n",
        "If $J$ represents the current density, then the equations of a Birkeland current with balanced internal forces satisfies $$0= \\int_D d^3(y) ~ F_{J(y)~~\\text{on}~~ J(x)}$$ for all $x\\in D$. \n",
        "\n",
        "Following Don Scott's approach, we look to express the above balanced equation in terms of cylindrical coordinates."
      ],
      "metadata": {
        "id": "eTjhqrBkVA2V"
      }
    },
    {
      "cell_type": "markdown",
      "source": [
        "#hide \n",
        "\n",
        "\n",
        " Weber proposed that every current element $I d \\ell $ was equal to some amount of charge in motion, something like $I d\\ell = q v$ or $I d\\ell = \\sum q_i v_i$. Weber assumed [ref] that the current elements consisted of a combination of charge-velocities whose total electrical charge was zero $\\sum q_i=0$ for each current element. The net zero electric charge for each current element still leaves the velocities of the charges independant from one another. If one assumes that $I d\\ell$ is a sum of $v_+$ and $v_-$ particles with charges $q_+ + q_-=0$. \n"
      ],
      "metadata": {
        "id": "wOSMNnUQUe8q"
      }
    }
  ]
}