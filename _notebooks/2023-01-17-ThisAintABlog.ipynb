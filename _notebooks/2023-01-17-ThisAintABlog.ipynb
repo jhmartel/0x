{
  "nbformat": 4,
  "nbformat_minor": 0,
  "metadata": {
    "colab": {
      "provenance": [],
      "authorship_tag": "ABX9TyOADq8ANo7PfElJnGxS5MAd",
      "include_colab_link": true
    },
    "kernelspec": {
      "name": "python3",
      "display_name": "Python 3"
    },
    "language_info": {
      "name": "python"
    }
  },
  "cells": [
    {
      "cell_type": "markdown",
      "metadata": {
        "id": "view-in-github",
        "colab_type": "text"
      },
      "source": [
        "<a href=\"https://colab.research.google.com/github/jhmartel/fp/blob/master/_notebooks/2023-01-17-ThisAintABlog.ipynb\" target=\"_parent\"><img src=\"https://colab.research.google.com/assets/colab-badge.svg\" alt=\"Open In Colab\"/></a>"
      ]
    },
    {
      "cell_type": "markdown",
      "source": [
        "# This Aint a Blog, It's a Buoy.\n",
        "\n",
        "> \"What's the purpose of this website? To publish ideas, brief articles, and to collect and broadcast our work. All the posts reflect many years of work, although the physics posts are much more recent. We left academia, we failed to publish papers, and this is why we live in obscurity with nobody reading or mindful of our work. My hope is that this blog survives longer than I do, and at least the ideas are recorded here for posterity.\" \n",
        "\n",
        "- toc: false\n",
        "- branch: master\n",
        "- badges: false\n",
        "- comments: true\n",
        "- author: JHM"
      ],
      "metadata": {
        "id": "P9Eg02pIBAOW"
      }
    },
    {
      "cell_type": "markdown",
      "source": [
        "This blog has a purpose. Honestly I'm proud of myself for having consistently written notebooks here. All the topics I cover are works in progress, based on ideas i've had from several years ago, and which are still developing in my brain.\n",
        "\n",
        "The last few years have seen me running a self-funded autonomous post-doc. And while I didn't have money, I had time. Time to write and develop all these projects.\n",
        "\n",
        "1. MCG\n",
        "2. DT\n",
        "3. SR\n",
        "4. TopSing\n",
        "5. Sponge\n",
        "6. Algorithmic Complexity\n",
        "7. Weber Atom\n",
        "\n",
        "and some others. The beauty of writing is that otherwise chaotic unstructured thoughts become rectified, linear, ordered. And for us, this is the greatest aspect of writing. Quite simply it proves and witnesses that we are not insane, and that our opinions are based on reasoning and logic. \n",
        "\n",
        "We recently had disastrous job interview where we were asked about this \"blog\" and whether we're satisfied with just writing \"little blog posts\". Frankly NO we are not entirely satisfied. So what do we do? Ultimately the goal is to get articles published. \n",
        "\n",
        "The article closest to being published is our critical essay on SR (Special Relativity). Honestly we are proud of this article, being based on very simple mathematics, but attempting to describe in simple terms the errors at the foundation of Einstein's SR theory. [Critical Essay on the Foundations of SR](https://github.com/jhmartel/SR/sr.pdf)\n",
        "\n",
        "What do we do with this article?\n",
        "\n",
        "- Get it published. \n",
        "\n",
        "Where? It's an essay on an extremely controversial subject, and likely to be rejected by the reviewers on sight.\n",
        "\n",
        "- Give a lecture on the paper, record the video lecture, and upload to Youtube.\n",
        "\n",
        "This is more plausible, since we like to be heard in our own words. Most effective would be a short video which contains the main ideas. \n",
        "\n",
        "- Find arxiv endorsement so I can at least upload the essay to arxiv and potentially receive constructive feedback. \n",
        "\n",
        "Here the problem is finding the arxiv endorsement. I could ask Prof. McCann but he will be extremely skeptical, and I don't want to ask him. \n",
        "\n",
        "Are there other options??? I would like to know."
      ],
      "metadata": {
        "id": "P9qh_6hp7HwH"
      }
    }
  ]
}