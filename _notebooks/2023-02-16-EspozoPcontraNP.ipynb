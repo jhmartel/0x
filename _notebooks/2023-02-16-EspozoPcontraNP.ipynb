{
  "nbformat": 4,
  "nbformat_minor": 0,
  "metadata": {
    "colab": {
      "provenance": [],
      "authorship_tag": "ABX9TyNOAvSkENyisgK36uWdazjy",
      "include_colab_link": true
    },
    "kernelspec": {
      "name": "python3",
      "display_name": "Python 3"
    },
    "language_info": {
      "name": "python"
    }
  },
  "cells": [
    {
      "cell_type": "markdown",
      "metadata": {
        "id": "view-in-github",
        "colab_type": "text"
      },
      "source": [
        "<a href=\"https://colab.research.google.com/github/jhmartel/fp/blob/master/_notebooks/2023-02-16-EspozoPcontraNP.ipynb\" target=\"_parent\"><img src=\"https://colab.research.google.com/assets/colab-badge.svg\" alt=\"Open In Colab\"/></a>"
      ]
    },
    {
      "cell_type": "markdown",
      "source": [
        "# Espozo d'un Argumento Sobre P contra NP\n",
        "\n",
        "> \"Aquí esbozamos un argumento para demostrar que $P$ no es igual a $NP$. Todas las ideas se basan en discusiones con C.A. Feinstein.\" \n",
        "\n",
        "- toc: false\n",
        "- branch: master\n",
        "- badges: false\n",
        "- comments: true\n",
        "- author: JHM"
      ],
      "metadata": {
        "id": "jWJ9TN4Rlw7P"
      }
    },
    {
      "cell_type": "markdown",
      "source": [
        "Here is a sketch of how to prove that $P$ is not equal to $NP$. The ideas are all based on discussions with C.A. Feinstein. \n",
        "\n",
        "# _Measures and Algorithms:_\n",
        "\n",
        "1. (_Deciding supports is the universal decision problem_) Every decision problem is equivalent to the problem of deciding the support of a measure $\\mu$. Or almost equivalently, of deciding the support of the image of a function $F$. E.g. for the subset sum problem, the image is the pushforward onto $\\bf{Z}$ of the sum total $\\epsilon: 2^X \\to {\\bf{Z}}$.\n",
        "\n",
        "2. (_Algorithms are compositions of measures, equivalently paths in the category of finite measure spaces_) An algorithm to solve a decision problem is a composition of the measure $\\mu$ or the function $F$ into intermediate measures or function evaluations. Here we comment that there is a natural composition of measures, c.f. the proofs of triangle inequalities in Wasserstein spaces. \n",
        "\n",
        "#_What is the Complexity of a Measure or Function or Algorithm?_ \n",
        "\n",
        "The classic definition of computational complexity counts the number of time steps required, or number of calls to RAM or function evaluations, in the worst-possible case. We require here a definition of complexity for measures. The definition must be absolutely simple, and we can only say that the complexity of a measure is the \"size\" of its support. In this sense, complexity is equivalent to \"entropy\" as defined by Gromov [insert ref].\n",
        "\n",
        "3. (_Complexity and Entropy: the Same Quantity_) The complexity of a measure or a function is the \"size\" of the support. Complexity is subadditive (or superadditive?) with respect to composition. This means that decomposing $F$ into a very long composition $F=\\cdots \\circ F_i \\circ F_{i-1} \\circ \\cdots$ does not necessarily reduce the complexity. \n",
        "\n",
        "# _Every Algorithm Is a Composition of Random Searches_\n",
        "\n",
        "4. (_Algorithmic Factorization Theorem_) Every algorithm is a composition of deterministic function evaluations and random search over a subset. (This requires more formal definition and proof). This also formalizes the idea that Lebesgue measure on a set amounts to random search on the support. \n",
        "\n",
        "# _Random Search is Computationally Irreducible_\n",
        "\n",
        "5. (_Invariance of Domain and Irreducibility of Measure Complexity_) Brouwer-Lebesgue Invariance of Domain theorem applies. This says there do not exist continuous injective measure-preserving maps from $R^n$ to smaller dimension $R^k$ for $k < n$.  \n",
        "\n",
        "The items 1., 2., ..., 5. if they can be rigorously established will essentially prove that $P \\neq NP$. "
      ],
      "metadata": {
        "id": "9Vh4jAR0lwyJ"
      }
    }
  ]
}