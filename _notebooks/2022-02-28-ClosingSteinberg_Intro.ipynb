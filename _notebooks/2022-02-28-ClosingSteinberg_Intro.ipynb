{
  "nbformat": 4,
  "nbformat_minor": 0,
  "metadata": {
    "colab": {
      "name": "ClosingSteinberg_Intro.ipynb",
      "provenance": [],
      "collapsed_sections": [],
      "authorship_tag": "ABX9TyOAQ1W8Wpw1RC6akruvdK5A"
    },
    "kernelspec": {
      "name": "python3",
      "display_name": "Python 3"
    },
    "language_info": {
      "name": "python"
    }
  },
  "cells": [
    {
      "cell_type": "markdown",
      "source": [
        "# Closing Steinberg, Part 1. Mapping Class Group\n",
        "> \"Closing Steinberg symbol in mapping class groups\"\n",
        "\n",
        "- toc: false\n",
        "- branch: master\n",
        "- badges: false\n",
        "- comments: true\n",
        "- author: JHM\n",
        "- categories: [closing steinberg, curver, mcg]"
      ],
      "metadata": {
        "id": "If6meiJT7FrB"
      }
    },
    {
      "cell_type": "markdown",
      "source": [
        "We present the formal definition of Closing Steinberg symbols.\n",
        "\n",
        "Let $\\Gamma$ be a group acting on a space $X$ by group action $X \\times \\Gamma \\to X$. If $P \\subset X$ is a subset of $X$, then a finite subset $I$ of $\\Gamma$ is said *to formally close $P$* if the iterated symmetric difference of $\\{ \\gamma. P ~|~ \\gamma\\in I\\}$ vanishes (equal to empty set $\\emptyset$). \n",
        "\n",
        "N.B. The vanishing of the iterated symmetric difference means the chain sum $\\gamma.P$, for $\\gamma \\in I$, vanishes over mod 2 coefficients. I.e. every element in the $I$-translates of $P$ occurs an even number of times.\n",
        "\n",
        "The above is the abstract formulation of a problem we call *Closing the Steinberg symbol*. In our applications the subset $P$ is a panel representing the convex hull of a sphere at infinity which is called the \"Steinberg symbol\". \n",
        "\n",
        "\n"
      ],
      "metadata": {
        "id": "vh0BiYNCMzRw"
      }
    },
    {
      "cell_type": "markdown",
      "source": [
        "Now the key to Closing Steinberg (CS) is to find *nontrivial* formal solutions. We will illustrate with the specific group $\\Gamma = Mod(S)$ which is the mapping class group of a compact hyperbolic surface $S$. We will begin with genus $g(S)=2$. \n",
        "\n",
        "Now we introduce the basic functions using Mark C. Bell's curver:"
      ],
      "metadata": {
        "id": "YJBRzJaF6xIs"
      }
    },
    {
      "cell_type": "code",
      "source": [
        "#hide\n",
        "\n",
        "!pip install curver   ## need install curver package.\n",
        "\n",
        "import curver\n",
        "\n",
        "# we load the mapping class group of genus two with one puncture ##\n",
        "S=curver.load(2,1)  \n",
        "\n",
        "# Below are the standard generators in Lickorish presentation, following Bell, Margalit, etc.. ##\n",
        "Id=S('') \n",
        "a=S('a_0')\n",
        "A=a**-1\n",
        "b=S('a_1')\n",
        "B=b**-1\n",
        "c=S('c_0')\n",
        "C=c**-1\n",
        "d=S('d_1')\n",
        "D=d**-1\n",
        "e=S('b_0')\n",
        "E=e**-1\n",
        "f=S('b_1')\n",
        "F=f**-1\n",
        "\n",
        "\n",
        "# Ad is the adjoint action \n",
        "# which replaces w2 by the w1-conjugate.\n",
        "def Ad(w1, w2):\n",
        "    return w1*w2*(w1**-1)\n",
        "\n",
        "# Translate is used to compute the adjoint action \n",
        "# on a collection of curves, i.e. the pants p.\n",
        "def Translate(x, p):\n",
        "    return {Ad(x,w) for w in p}\n",
        "\n",
        "# br stands for \"bracket\" like \"commutator bracket\". \n",
        "# Thus br(x,y)=[x,y]=xyx^{-1} y^{1} in the usual group-theoretic notation\n",
        "def br(x,y):\n",
        "    return Ad(x,y)*(y**-1)\n",
        "\n",
        "\n"
      ],
      "metadata": {
        "colab": {
          "base_uri": "https://localhost:8080/"
        },
        "id": "cJym18OId7SN",
        "outputId": "e1bd7672-60b4-4e40-87e2-9c2c7b115bad"
      },
      "execution_count": 1,
      "outputs": [
        {
          "output_type": "stream",
          "name": "stdout",
          "text": [
            "Collecting curver\n",
            "  Downloading curver-0.4.1.tar.gz (129 kB)\n",
            "\u001b[?25l\r\u001b[K     |██▌                             | 10 kB 21.8 MB/s eta 0:00:01\r\u001b[K     |█████                           | 20 kB 26.7 MB/s eta 0:00:01\r\u001b[K     |███████▋                        | 30 kB 28.0 MB/s eta 0:00:01\r\u001b[K     |██████████                      | 40 kB 30.6 MB/s eta 0:00:01\r\u001b[K     |████████████▋                   | 51 kB 16.7 MB/s eta 0:00:01\r\u001b[K     |███████████████▏                | 61 kB 18.4 MB/s eta 0:00:01\r\u001b[K     |█████████████████▊              | 71 kB 19.8 MB/s eta 0:00:01\r\u001b[K     |████████████████████▏           | 81 kB 18.9 MB/s eta 0:00:01\r\u001b[K     |██████████████████████▊         | 92 kB 20.1 MB/s eta 0:00:01\r\u001b[K     |█████████████████████████▎      | 102 kB 21.5 MB/s eta 0:00:01\r\u001b[K     |███████████████████████████▉    | 112 kB 21.5 MB/s eta 0:00:01\r\u001b[K     |██████████████████████████████▎ | 122 kB 21.5 MB/s eta 0:00:01\r\u001b[K     |████████████████████████████████| 129 kB 21.5 MB/s \n",
            "\u001b[?25hRequirement already satisfied: decorator>=4.3.0 in /usr/local/lib/python3.7/dist-packages (from curver) (4.4.2)\n",
            "Requirement already satisfied: networkx>=2.0 in /usr/local/lib/python3.7/dist-packages (from curver) (2.6.3)\n",
            "Requirement already satisfied: numpy>=1.15.1 in /usr/local/lib/python3.7/dist-packages (from curver) (1.21.5)\n",
            "Building wheels for collected packages: curver\n",
            "  Building wheel for curver (setup.py) ... \u001b[?25l\u001b[?25hdone\n",
            "  Created wheel for curver: filename=curver-0.4.1-py2.py3-none-any.whl size=89028 sha256=c1e497b19f9d471a15841e7806b6aba0306813d48992843f6691115e83833688\n",
            "  Stored in directory: /root/.cache/pip/wheels/18/ff/28/1623e331466b35323bafd0fe30aabec23a23c83e04bbd53ea3\n",
            "Successfully built curver\n",
            "Installing collected packages: curver\n",
            "Successfully installed curver-0.4.1\n"
          ]
        }
      ]
    },
    {
      "cell_type": "markdown",
      "source": [
        "Now we make the basic definitions of the reference pant, and the mapping class elements $\\zeta, \\nu, \\mu$."
      ],
      "metadata": {
        "id": "pSB2NJXG79UL"
      }
    },
    {
      "cell_type": "code",
      "source": [
        "pant={a,b,c}    ## pant={a,b,c} is the standard pant.  \n",
        "zeta=a*e*c*f*b  ## zeta is the order 6 element in MCG arising from chain relation. ##   \n",
        "nu=a*e*c*f      ## nu is order 10 element in MCG \n",
        "mu=nu**4        ## mu is order 5 element in MCG. \n"
      ],
      "metadata": {
        "id": "ln6ZY5aJ78lk"
      },
      "execution_count": 2,
      "outputs": []
    },
    {
      "cell_type": "markdown",
      "source": [
        "We define $\\xi$ as the union of the standard pair of pants with its $\\mu$-translate. The $\\mu$-translate of $\\{a,b,c\\}$ is a pair of pants *dual* to $\\{a,b,c\\}$.\n",
        "\n",
        "The mapping class element $\\mu$ is an order 5 element in $Mod(S_2)$. We propose that the powers of $\\mu$, namely $I=\\{Id, \\mu, \\mu^2, \\mu^3, \\mu^4\\}$, formally close the symbol $\\xi$. This solution will be nontrivial because we will establish that $\\mu^i\\xi = \\mu^j\\xi$ if and only if $i=j$. \n",
        "Thus the $I$-translates of $\\xi$ are distinct, while the chain sum $\\sum_{i=0}^4 \\mu^i\\xi$ vanishes over ${\\bf{Z}}/2$ coefficient."
      ],
      "metadata": {
        "id": "4KYO0W5r8imP"
      }
    },
    {
      "cell_type": "code",
      "source": [
        "## xi is the steinberg symbol in our case. \n",
        "## xi is obtained by joining the initial pant p with its mu translate. \n",
        "xi=pant|Translate(mu, pant)  \n",
        "\n",
        "## important to verify that pant and the mu-translate are disjoint.\n",
        "## Ad(mu,pant) is \"opposite pair of pants\"\n",
        "\n",
        "print(\"The mu translate of the standard pant is disjoint from pant. \", pant & Translate(mu, pant) == set())  \n",
        "print()\n",
        "    \n",
        "\n",
        "M0=xi\n",
        "M1=Translate(mu,xi)\n",
        "M2=Translate(mu**2,xi)\n",
        "M3=Translate(mu**3,xi)\n",
        "M4=Translate(mu**4,xi)\n",
        "\n",
        "## The following proves that all the symbol translates are nontrivial, and there is no complete coincidence\n",
        "## between the translated symbols.\n",
        "print(\"The mu translates of xi are all pairwise distinct:\", M0!=M1 and M0!=M2 and M0!=M3 and M0!=M4 and M1!=M2 and M1!=M3 and M1!=M4 and M2!=M3 and M2!=M4 and M3!=M4  )\n",
        "print()\n",
        "## The following proves that the total chain sum of the translated symbols vanishes mod 2. \n",
        "## I.e. the iterated symmetric difference of the translated symbols is equal to empty set.\n",
        "print(\"The iterated symmetric difference of the mu translates is empty.\", ((((M0^M1))^M2)^M3)^M4 ==set())\n",
        "print()\n",
        "print(\"The mu-orbit of xi is supported on ten curves.\", 10==len(M0|M1|M2|M3|M4)   )\n",
        "\n",
        "print()\n",
        "print(\"Therefore we find I={Id, mu, mu**2, mu**3, mu**4} is a formal solution to Closing the Steinberg symbol xi in genus two.\")\n",
        "print(\"\")\n"
      ],
      "metadata": {
        "colab": {
          "base_uri": "https://localhost:8080/"
        },
        "id": "IBGAYHBU8iO-",
        "outputId": "b2725eaf-3c1a-419e-d0e2-ab581ebbf392"
      },
      "execution_count": 4,
      "outputs": [
        {
          "output_type": "stream",
          "name": "stdout",
          "text": [
            "The mu translate of the standard pant is disjoint from pant.  True\n",
            "\n",
            "The mu translates of xi are all pairwise distinct: True\n",
            "\n",
            "The iterated symmetric difference of the mu translates is empty. True\n",
            "\n",
            "The mu-orbit of xi is supported on ten curves. True\n",
            "\n",
            "Therefore we find I={Id, mu, mu**2, mu**3, mu**4} is a formal solution to Closing the Steinberg symbol xi in genus two.\n",
            "\n"
          ]
        }
      ]
    },
    {
      "cell_type": "markdown",
      "source": [
        "So we have found a formal solution $I$ to CS. For applications we need further verify that $I$ satisfies further geometric properties. Specifically we need establish: \n",
        "\n",
        "* the $I$-translates of $\\xi$ have a well-defined convex hull $F:=conv(I.\\xi)$ in $Teich(S)$.\n",
        "* the $\\Gamma$-translates of $F$ generate a chain sum $\\underline{F}:=\\sum_{\\gamma \\in \\Gamma} \\gamma.F$ with *well separated gates* equal to the $\\Gamma$-translates of $\\xi$.\n",
        "\n",
        "Informally the idea is that $\\xi$ represents a \"panel\" $P$, and $I$ closes the panel in the sense that the $I$-translates of the panel assemble to a closed ball. (Similar to how the (triangular, hexagonal) panels of a soccer ball assemble to form the closed ball). \n",
        "\n",
        "But we must further study the $\\Gamma$-translates of the ball itself, i.e. of the convex hull $F$. Most important for our setting is that the intersections of the various translates $\\gamma F \\cap \\gamma' F$ have a \"standard form\", namely isometric to $\\xi$ (the panel $P$). \n",
        "\n",
        "Remark. It's not clear whether the above verification of ``well-separated gates\" can be performed in curver. While we are capable of considering the $\\Gamma$ action on the elements of $I.\\xi$, we cannot necessarily compute the intersections $F\\cap \\gamma F$. The issue is that $F\\cap \\gamma F$ can intersect \"at-infinity\" (i.e. be asymptotic) without the convex hulls having an intersection in the *interior* of $Teich(S)$. Formally the solutions to CS solve a problem at infinity, but the next step is to study the solutions in the interior, and this becomes more geometric."
      ],
      "metadata": {
        "id": "GjPhDbuoPh4m"
      }
    }
  ]
}