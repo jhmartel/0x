{
  "nbformat": 4,
  "nbformat_minor": 0,
  "metadata": {
    "colab": {
      "provenance": [],
      "authorship_tag": "ABX9TyMr1LKT2iCgTjmtxB5CeFb1",
      "include_colab_link": true
    },
    "kernelspec": {
      "name": "python3",
      "display_name": "Python 3"
    },
    "language_info": {
      "name": "python"
    }
  },
  "cells": [
    {
      "cell_type": "markdown",
      "metadata": {
        "id": "view-in-github",
        "colab_type": "text"
      },
      "source": [
        "<a href=\"https://colab.research.google.com/github/jhmartel/fp/blob/master/_notebooks/2023-02-04-BriefCommentMCGWhenAreCurvesDisjoint.ipynb\" target=\"_parent\"><img src=\"https://colab.research.google.com/assets/colab-badge.svg\" alt=\"Open In Colab\"/></a>"
      ]
    },
    {
      "cell_type": "markdown",
      "source": [
        "# How to Decide when Curves Self Intersect in the Universal Cover\n",
        "\n",
        "> \"JHM Labs has been working intensively on Weber, but we briefly return to the problem of Closing Steinberg on the mapping class group of hyperbolic surfaces. In this post we comment on the technical lemma which is delaying our progress. The question is ... How does one really decide whether curves in the universal cover project to simple closed curves, with emphasis on simple? Or equivalently ... How to decide when the $G$ translates of a doubly ended infinite geodesic $\\ell$ are disjoint in the universal cover? This is interesting decision problem, and serves as the prototype of a more general problem related to applications of solutions to Closing Steinberg.\" \n",
        "\n",
        "- toc: false\n",
        "- branch: master\n",
        "- badges: false\n",
        "- comments: true\n",
        "- author: JHM"
      ],
      "metadata": {
        "id": "djRso5_0R36v"
      }
    },
    {
      "cell_type": "markdown",
      "source": [
        "# Closing Steinberg and Mapping Class Group.\n",
        "\n",
        "As consequence of the methods from our PhD thesis, we have been engaged in constructing small dimensional equivariant spines of the Teichmueller space for compact hyperbolic surfaces. The construction of these spines first requires that we solve a problem called \"Closing the Steinberg symbol\"\n",
        "\n",
        "We have discussed the problem of Closing Steinberg in the Mapping Class group $G :=MCG(S)$ of hyperbolic surfaces $S=S_g$ of genus $g \\geq 0$. Our preprint still in preparation is posted in our [MCG github repository](https://github.com/jhmartel/MCG ) and has been discussed in [previous post](https://jhmartel.github.io/fp/fastpages/jupyter/2022/08/30/MCG_CS_Article_Available.html).\n",
        "\n",
        "The problem we ultimately need to solve is this: \n",
        "\n",
        "_If $P$ is a flat-filling of the Steinberg symbol $P = FILL(B)$ as defined in our preprint [linked above], then prove that the $G$-translates $\\{P.g ~~|~g\\in G\\}$ are pairwise disjoint in the Teichmueller space_ $X=Teich(S)$.\n",
        "\n",
        "\n",
        "If $S$ is a compact hyperbolic surface of genus $g>1$, then it's well known that the universal cover $\\tilde{S}$ is isometric to the hyperbolic plane $X = H^2$, and where we recover $S$ as the isometric quotient of $H^2$ modulo the action of $G=\\pi_1(S)$. \n",
        "\n",
        "In the simplest case the problem takes the form: \n",
        "\n",
        "_If $\\ell$ is a doubly-ended geodesic ray in $X$, then decide if the $G$-translates $\\ell. g$ for $g\\in G$ are geometrically disjoint in the interior of $X$._\n",
        "\n",
        "This is most interesting in the hyperbolic disk $X=H^2$ with the modular group $G := PGL({\\bf{Z}}^2)$ acting isometrically and proper discontinuously $X \\times G \\to X$. \n",
        "\n",
        "Here the question becomes: \n",
        "\n",
        "_Given $\\alpha \\in {\\bf{Q}}P^1$, decide a priori if the $G$-translates $\\{\\{0, \\alpha\\}.g~~|~g\\in G\\}$ are disjoint in the hyperbolic plane $X=H^2$_? \n",
        "\n",
        "\n",
        "\n",
        "\n",
        "It's basically the question of deciding a priori whether the image of the curve with respect to the quotient map $H^2 \\to H^2 / G$ is a _simple closed curve_ with emphasis on _simplicity_, i.e. zero geometric self intersection. \n",
        "\n",
        "\n",
        "\n",
        "\n",
        "\n",
        "Remark: the simple closed curve $\\ell$ in the universal cover is a geodesic doubly-ended ray. This ray projects to a curve on the modular surface with respect to projection $p: H^2 \\to H^2 /G$. The restriction of the projection $p|_{\\ell}$ to the ray $\\ell$ is _periodic_ with respect to the covering map $p|_{\\ell}: {\\bf{R}}^1 \\to S^1$. By contrast, arbitrary geodesic projections would not project to closed curves. \n",
        "\n",
        "_So what can we say?_\n",
        "\n",
        "\n",
        "\n"
      ],
      "metadata": {
        "id": "8qQjnr1aR4d1"
      }
    },
    {
      "cell_type": "markdown",
      "source": [
        "# hide\n",
        "\n",
        "# _Miscellany_\n",
        "\n",
        "Orbits of $G$ on $QP^1 = Proj(Q^2)$, and we want to orbits on the configurations of $QP^1$. Here enters question of transitivity, doubly transitive, etc.. \n",
        "\n",
        "The stablizers of $[1,0]$ is the group of integral parabolics $$\\begin{pmatrix}\n",
        "1 & * \\\\ 0 & 1\n",
        "\\end{pmatrix}.$$\n",
        "\n",
        "\n",
        "\n"
      ],
      "metadata": {
        "id": "qIo2YZmEjGDC"
      }
    },
    {
      "cell_type": "markdown",
      "source": [
        "# hide\n",
        "\n",
        "\n",
        "Idea: every intersection is modelled on $[1,-1]$ and $[0,+\\infty]$ intersecting. This intersection is geometrically right angled, and this is not expected to hold in general. But intersections at angle $\\theta$ are modelled on something like $[1, -\\sin(\\theta)]$ for variable $\\theta$. The question ultimately is then: given $[a,b], [c,d]$ can we decide whether there exists $\\theta$ and $g \\in G$ such that $$[a.b].g = [1,-\\sin\\theta] ~~~\\text{and}~~~[c,d].g = [0, +\\infty].$$ \n",
        "\n",
        "\n",
        "\n",
        "\n",
        "\n"
      ],
      "metadata": {
        "id": "tXR_q8Z6e69c"
      }
    }
  ]
}