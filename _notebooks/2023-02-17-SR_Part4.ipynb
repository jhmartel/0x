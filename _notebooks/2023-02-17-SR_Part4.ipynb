{
  "nbformat": 4,
  "nbformat_minor": 0,
  "metadata": {
    "colab": {
      "provenance": [],
      "authorship_tag": "ABX9TyNuxr/LJ35H1vC/N03CBae6",
      "include_colab_link": true
    },
    "kernelspec": {
      "name": "python3",
      "display_name": "Python 3"
    },
    "language_info": {
      "name": "python"
    }
  },
  "cells": [
    {
      "cell_type": "markdown",
      "metadata": {
        "id": "view-in-github",
        "colab_type": "text"
      },
      "source": [
        "<a href=\"https://colab.research.google.com/github/jhmartel/fp/blob/master/_notebooks/2023-02-17-SR_Part4.ipynb\" target=\"_parent\"><img src=\"https://colab.research.google.com/assets/colab-badge.svg\" alt=\"Open In Colab\"/></a>"
      ]
    },
    {
      "cell_type": "markdown",
      "source": [
        "# Foundations of Special Relativity and Light Propagation in Vacuum. A Critical Review (4/4). \n",
        "\n",
        "> \"In Part 4/4 of our critical review of SR we consider some objections and responses to our arguments.\" \n",
        "\n",
        "- toc: false\n",
        "- branch: master\n",
        "- badges: false\n",
        "- comments: true\n",
        "- author: JHM"
      ],
      "metadata": {
        "id": "RR5qxpHPV9EJ"
      }
    },
    {
      "cell_type": "markdown",
      "source": [
        "In Part 1,2,3 of this series, we have presented our critical mathematical review of the foundations of SR. \n",
        "\n",
        "- Part 1:\n",
        "  - Difficulties and Apparent Incompatibilities in the assumptions (A12) of SR. \n",
        "  - Einstein proposes Lorentz formulae in attempt to resolve these incompatibilities, requiring two claims. \n",
        "  - We find the law of propagation of photons particle is _underdetermined_ by (A12) contrary to Riemannian intuition.\n",
        "  - The geodesic variational equation is trivial on the null cone.\n",
        "  - Therefore while the speed of light is $c$, the velocity of light is completely unconstrained on the null cone.\n",
        "\n",
        "- Part 2:\n",
        "  -  We examine Einstein's proof of the compatibility of (A12) and his appeal to spherical light waves. \n",
        "  - We claim to identify two critical errors in Einstein's classical argument: misidentification of the equation of a sphere, and the erroneous assumption that quadratic summands are numerically Lorentz invariant. \n",
        "  - We illustrated with trivial computations on ${\\bf{R}}^{1,1}$.\n",
        "\n",
        "  \n",
        "- Part 3:\n",
        "  - We examined the homogeneous wave equation (HWE) and its properties uner Lorentz transformations. \n",
        "  - d'Alembert operator is essentially the unique Lorentz invariant second order linear operatort.\n",
        "  - Radius is not a Lorentz invariant variable.\n",
        "  - There does not exist a Lorentz invariant set of so-called \"radial solutions\" to HWE. "
      ],
      "metadata": {
        "id": "ocR8VM3xV9Bx"
      }
    },
    {
      "cell_type": "markdown",
      "source": [
        "As we have discussed in previous Parts, our objections apply simultaneously to the wave and particle models of light. These objections will be elaborated below.\n",
        "\n",
        "# _Objections and Responses_\n",
        "\n",
        "Given the critical nature of this series, we here respond to some potential objections. \n",
        "\n",
        "## 1.\n",
        "One might object that all our arguments reduce to the observation that spheres in the frame $K$ are transformed to ellipsoids in $K'$ as is well-known. \n",
        "\n",
        "But we remind the reader that Lorentz contraction is assumed to affect _material_ objects, even independantly of the nature of the material. So material spheres in $K$ become material ellipsoids in $K'$, where the eccentricity of the $K'$-ellipsoid is nontrivial and independant of the material nature of the sphere. However we respond that light spheres are _immaterial_ and not themselves subject to Lorentz contraction. And indeed if light spheres were subject to the same contraction effects as material spheres, then (A2) would definitely be false.\n",
        "\n",
        "## 2. \n",
        "\n",
        "Critics may object that (A12) only requires the consistent _measurement_ of $c$ in arbitrary reference frames $K, K'$. This would replace the law (A2) with some rule of thumb for measurements. \n",
        "\n",
        "But this immediately leads to a well-known experimental difficulty at the core of special relativity, namely the impossibility of measuring the _one way_ speed of light. Indeed space and time measurements are always dependant on material objects and often non local, having sources and receivers separated by large distances. The impossibility of synchronizing non local clocks leads to the impossibility of measuring the one-way velocity of light. That all measurements of $c$ only succeed in measuring the _two way_ or \"round trip\" velocities of light where source and receiver coincide is discussed in [Zhang 1997] and [Perez 2011].  See also Veritasium's video \"Why the Speed of Light Can't be Measured\". \n",
        "\n",
        "Moreover in studying the two-way velocity of light, one needs further postulate that the velocity $c$ is constant (uniform) throughout its two-way journey, as Einstein argued. But this assumption is admittedly arbitrary and unverifiable. \n",
        "\n",
        "## 3. \n",
        "\n",
        "Wolfgang Rindler's very interesting textbook attempts \"_in spite of its historical and heuristic importance_, [...] _to de-emphasize the logical role of the law of light propagation [(A2)] as a pillar of special relativity._\"\n",
        "\n",
        "Rindler claims that \"_a second axiom [(A2)] is needed only[!] to determine the value of a constant $c$ of the dimensions of a velocity that occurs naturally in the theory. But this could come from any number of branches of physics_ -- _we need only think of the energy formula_ $E=mc^2$, _or de Broglie's velocity relation_ $u v =c^2$.\" \n",
        "\n",
        "Rindler's objection is interesting, and our response is simply that the above quoted formulas are _equivalent_ to (A2), and not independant in any logical or physical sense.\n",
        "\n",
        "[Incomplete]\n",
        "\n",
        "## 4. \n",
        "\n",
        "A fourth objection might criticize our argument for not properly accounting for the so-called wave-particle duality of light, e.g. Bohr complementarity. Our presentation has addressed both corpuscular and undulatory models, showing that (A12) is underdetermined in both cases. The incompatibility of (A12) with both the wave and particle model has been highlighted by A.K.T. Assis [Section 7.2.4, pp.133] from his \"Relational Mechanics\":\n",
        "\n",
        "- \"_we can only conclude that for Einstein the velocity of light is constant not only whatever the state of motion of the emitting body [source], but also whatever the state of motion of the receiving body (detector) and of the observer.\"_\n",
        "\n",
        "For waves in physical medium, the velocity of emission is independant of the velocity of the source, since waves are transmitted _by_ the medium and their velocities a property _of_ the medium. Furthermore for both particles and waves, it is known that velocity is dependant on the velocity of the receiver. \n",
        "\n",
        "According to (A2), light is postulated to exhibit properties unlike both waves and particles. Thus we argue that (A2) contradicts the supposed complementarity and wave-particle duality, i.e. (A2) requires light to behave contrary to both the wave and particle interpretations.\n",
        "\n",
        "## 5.\n",
        "\n",
        "[Insert discussion on GPS] Common objection. Details needed."
      ],
      "metadata": {
        "id": "WjKiDoiRYPPS"
      }
    },
    {
      "cell_type": "markdown",
      "source": [
        "# _Sansbury-Fizeau Experiment: Is Light Even Something That Travels At All?_\n",
        "\n",
        "We have discussed this in previous posts at JHM Labs. The purpose of this discussion is to positively demonstrate that there are alternatives beyond SR. Thus we sharply criticize SR, but we also provide a substitute and a new path forward. \n",
        "\n",
        "From our perspective, there is an extremely important experiment of Fizeau-Sansbury which needs be performed, and which results might be quite shocking to the standard physicist worldview. \n",
        "\n",
        "Stay Tuned!\n",
        "\n",
        "-JHM.\n"
      ],
      "metadata": {
        "id": "MaQ5Uj8pdS41"
      }
    }
  ]
}