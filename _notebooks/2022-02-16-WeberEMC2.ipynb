{
  "nbformat": 4,
  "nbformat_minor": 0,
  "metadata": {
    "colab": {
      "name": "WeberEMC2.ipynb",
      "provenance": [],
      "collapsed_sections": [],
      "authorship_tag": "ABX9TyNCfVpOvHGzns1roPNY7TKS",
      "include_colab_link": true
    },
    "kernelspec": {
      "name": "python3",
      "display_name": "Python 3"
    },
    "language_info": {
      "name": "python"
    }
  },
  "cells": [
    {
      "cell_type": "markdown",
      "metadata": {
        "id": "view-in-github",
        "colab_type": "text"
      },
      "source": [
        "<a href=\"https://colab.research.google.com/github/jhmartel/fp/blob/master/_notebooks/2022-02-16-WeberEMC2.ipynb\" target=\"_parent\"><img src=\"https://colab.research.google.com/assets/colab-badge.svg\" alt=\"Open In Colab\"/></a>"
      ]
    },
    {
      "cell_type": "markdown",
      "source": [
        "# Weber's Critical Radius, Work, and E=mc2 Formulas\n",
        "> \"Weber, Work, Critical Radius\"\n",
        "\n",
        "- toc: false\n",
        "- branch: master\n",
        "- badges: true\n",
        "- comments: true\n",
        "- author: JHM\n",
        "- categories: [fastpages, jupyter]\n"
      ],
      "metadata": {
        "id": "c52uC_Onmmbu"
      }
    },
    {
      "cell_type": "markdown",
      "source": [
        ""
      ],
      "metadata": {
        "id": "RxJYKgeJnR5h"
      }
    },
    {
      "cell_type": "markdown",
      "source": [
        "In the [previous post] we discussed the equations of motion of a charged particle in free fall w.r.t. Weber's potential $U$. Now we consider the problem of work, and the problem of moving particles \"upstream\" of the potential. \n",
        "\n",
        "Recall the Coulomb-type expression that \"opposite charges attract\" and \"like charges repel\". If we arranged some charged particles on a plate, then in a short time these particles would either be repelled outwards to the boundary of the plate or the opposite charges would cancel on the interior. Again this is with respect to the Coulomb model $V(r)=1/r$. \n",
        "\n",
        "But Weber's model has the following amazing prediction: \"opposite charges attract except at a small critical distance $r=r_c$ where the charges acquires a *negative* inertial mass and the Weber force becomes repulsive\". Furthermore, \"like charges repel except at a small critical distance where the Weber force becomes attractive\". This latter prediction leads to Weber's *planetary model of the atom\". [Insert ref].\n",
        "\n",
        "In the (cgs) units the critical radius $r_c$ is computed as $r_c=\\frac{1}{m c^2}$ where $m$ is the relative inertial mass of one of the particles. The proof of this formula is an application of Newton's second law, that $m a = \\bf{F}$ where $\\bf{F}$ is Weber's force. [insert ref]\n",
        "\n",
        "Now the question arises: if we have two identical but opposite electrically charged particles, say $(-1)e$ and $(+1)e$, where $e$ is a small mass, then how much *work* is required to drive $(-1)e$ and $(+1)e$ to within Weber's critical radius $r_c$?\n",
        "\n",
        "Weber comments in his final memoir [ref] that an *infinite* amount of work would be required, however no technical details are provided. In fact this author thinks its evident that a large finite amount of work is required, and the computation of this work required is the subject of this post.\n",
        "\n",
        "How to compute Work: We imagine a particle moving through a potential $U$ along a trajectory $\\gamma.$ Our goal is to determine how much work is required to breach (\"pass through\") the critical radius $r_c=\\frac{1}{mc^2}$ in units where $4 \\pi\\epsilon_0  = 1$. \n",
        "\n",
        "We begin assuming the particle's trajectory is *rectilinear*. This means the tangent $\\gamma'$ and $\\gamma$ are parallel for all values of the parameter. Moreover we can use the Riemannian idea of parameterizing the curve by arclength. Then we ask how much work is required to move the particle through $U$ at a constant rate of speed, namely $||\\gamma'||=1$. \n",
        "\n",
        "Weber's force is conservative, so there is some path independance, however the terminal conditions are not fixed a priori. It might happen that breaching the Weber radius is easier if the particles velocity is nearly parallel to the \"virtual\" surface of the Weber's critical radius. That is to say, the curvature term $r r''/c^2$ in Weber's force law might sometimes reduce the work needed, depending on the sign. \n",
        "\n",
        "In terms of the relational variables recall the useful formula/definition $$ r' = \\frac{\\bf{r} \\cdot \\bf{r'}}{r}.$$ In our setting we find $$r'=\\frac{\\gamma \\cdot \\gamma'}{||\\gamma||}.$$ Applying the Cauchy-Schwartz inequality, we find $$r'=1.$$ I.e. equality is obtained in Cauchy-Schwartz because $\\gamma, \\gamma'$ are parallel by hypothesis and $||\\gamma'||=1$.\n",
        "\n",
        "Moreover the rectilinear motion implies $r''=0$, i.e. the trajectory has zero curvature, since the direction of the particle does not change. Therefore Weber's force leads to work being computed by the integral $$W=(1-\\frac{1}{2c^2})\\int_{+\\infty}^{r_c} \\frac{1}{r^2} dr     = (1-\\frac{1}{2c^2})mc^2=mc^2-m/2.$$ So what is the total energy of the above system? The total energy is the work required $mc^2 - m/2$ plus the initial kinetic energy $T_i=m|\\gamma'|^2/2=m/2$. Therefore the total energy required to breach the Weber critical radius is $E=W+T_i=mc^2$. \n",
        "\n",
        "N.B. All the while our particles are \"travelling upstream\". So the above computation indicates that if a particle is given sufficient energy (i.e. sufficient kinetic energy, then the particle could breach the Weber critical radius, and arriving at the Weber radius with almost zero kinetic energy). \n",
        "\n",
        "N.B. The integral representing $W$ is parameterization independant. Therefore the work required by the unit-parameterized path is not overly specialized, but represents the general computation. \n",
        "\n",
        "The above discussion was restricted to *rectilinear* trajectories. But the possibility remains that curvilinear (\"spiralling\") trajectories require less work to breach the Weber radius. Thus while it appears that breaching the Weber radius via rectilinear paths requires large energy $\\approx mc^2$, perhaps the spiralling paths -- where the curvature term maintains a definite sign -- are the more interesting. \n",
        "\n",
        "Problem: Determine the minimum energy required for an isolated two-body system to breach the Weber critical radius.\n",
        "\n",
        "Answer: The minimum energy required to breach the critical radius is $E=mc^2$. \n",
        "\n",
        "This is consequence of the fact that $\\bf{F}$ is a conservative force, therefore dependant only on the initial and terminal states, and not the path taken. Moreover the work done by a particle traversing a path $\\gamma$ depends only on the difference in potential energies. This implies that the above evaluation in the *rectilinear* case is essentially the same for all paths from some initial point to to within the critical radius.\n",
        "\n"
      ],
      "metadata": {
        "id": "hfsLYqRr8FXn"
      }
    },
    {
      "cell_type": "code",
      "source": [
        "#hide\n",
        "\n",
        "## The goal is to estimate the infimum β \n",
        "## We need some candidate paths from the initial point x0=(1,0,0) to within the critical distance r_c. \n",
        "## Special interest are spiral paths."
      ],
      "metadata": {
        "id": "t5Fa1bT0vtil"
      },
      "execution_count": null,
      "outputs": []
    },
    {
      "cell_type": "code",
      "source": [
        "\n",
        "#hide\n",
        "$mimport autograd.numpy as np\n",
        "from autograd import jacobian\n",
        "from scipy.integrate import quad\n",
        "\n",
        "## F below represents the vector field.\n",
        "def F(X):\n",
        "    x, y = X\n",
        "    return -x, -x * y\n",
        "\n",
        "## r(t) represents the curve.\n",
        "def r(t):\n",
        "    return np.array([-np.sin(t), np.cos(t)])\n",
        "\n",
        "def r1(t):\n",
        "    return (t**-2, t)\n",
        "\n",
        "## compute the derivative using the jacobian.\n",
        "drdt = jacobian(r)\n",
        "dr1dt = jacobian(r1)\n",
        "\n",
        "## what is the notation F(r(t))@ drdt(t)\n",
        "def integrand(t):\n",
        "    return F(r(t)) @ drdt(t)\n",
        "\n",
        "I, e = quad(integrand, 0.0, np.pi / 2)\n",
        "print(f'The integral is {I:1.4f}.')\n"
      ],
      "metadata": {
        "id": "APqKEZi8xe_S"
      },
      "execution_count": null,
      "outputs": []
    },
    {
      "cell_type": "code",
      "source": [
        "#hide \n",
        "def F(r):\n",
        "    x, y, z = r\n",
        "    return x * y, y * z, z\n",
        "\n",
        "def r(t):\n",
        "    return np.array([np.cos(t), np.sin(t), 3 * t])\n",
        "\n",
        "def integrand(t):\n",
        "    return F(r(t))\n",
        "\n",
        "[quad(lambda t: integrand(t)[i], 0, 2 * np.pi)[0] for i in [0, 1, 2]]"
      ],
      "metadata": {
        "id": "32V1CEFbx7_R"
      },
      "execution_count": null,
      "outputs": []
    },
    {
      "cell_type": "markdown",
      "source": [
        "1. Is the energy spectrum within the critical radius continuous? (Yes, i think the orbits can have arbitrary energy within the radius).\n",
        "2. How to relate Birkeland currents (FFAC) to Weber's potential?\n",
        "Don Scott considers the plasma cylinder, with a stead current. Then the min energy state has zero internal pressure, therefore the net internal energy of the plasma cylinder needs be minimized, i.e. vanishing. Difficulty: without the Maxwell equations we do not know relationship between the current flow $I d\\ell=qdv$. This equality is Weber's hypothesis, i.e. a current flow is equivalent to a charge in motion, where $dv$ represents the instantaneous velocity of the charged particle."
      ],
      "metadata": {
        "id": "0p6MGCb34GTZ"
      }
    }
  ]
}