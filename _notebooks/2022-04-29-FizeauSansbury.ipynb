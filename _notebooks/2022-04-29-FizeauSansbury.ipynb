{
  "nbformat": 4,
  "nbformat_minor": 0,
  "metadata": {
    "colab": {
      "name": "LightVacuum.ipynb",
      "provenance": [],
      "collapsed_sections": [],
      "authorship_tag": "ABX9TyMh/zbB9i1Jq7yqblHxEDBP",
      "include_colab_link": true
    },
    "kernelspec": {
      "name": "python3",
      "display_name": "Python 3"
    },
    "language_info": {
      "name": "python"
    }
  },
  "cells": [
    {
      "cell_type": "markdown",
      "metadata": {
        "id": "view-in-github",
        "colab_type": "text"
      },
      "source": [
        "<a href=\"https://colab.research.google.com/github/jhmartel/fp/blob/master/_notebooks/2022-04-29-FizeauSansbury.ipynb\" target=\"_parent\"><img src=\"https://colab.research.google.com/assets/colab-badge.svg\" alt=\"Open In Colab\"/></a>"
      ]
    },
    {
      "cell_type": "markdown",
      "source": [
        "# Fizeau and Sansbury\n",
        "> \"Here we begin analysis of Fizeau's classical sawtooth experiment (1849) with Sansbury's proposed setup. While Fizeau studies a saw tooth wheel in uniform motion on the order of twenty rotations per second, Sansbury's setup can be interpreted as either the same wheel in nonuniform motion, or a wheel with variable saw tooth length in uniform motion.\"\n",
        "\n",
        "- toc: false\n",
        "- branch: master\n",
        "- badges: false\n",
        "- comments: true\n",
        "- author: JHM\n",
        "- categories: [fizeau, sansbury, c, SR]\n"
      ],
      "metadata": {
        "id": "f5bLATlhZsMr"
      }
    },
    {
      "cell_type": "markdown",
      "source": [
        "As described in previous posts, our critical [essay](https://github.com/jhmartel/SR/) on foundations in SR is basically stable and readable. Here we begin to elaborate on the concluding section, which briefly mentions Ralph Sansbury's proposed experiment. Sansbury's experiment is this. We take $c$ the speed of light as equal to $1$ foot per nanosecond $[\\mu s]=10^{-8}$ seconds.\n",
        "\n",
        "# Sansbury's Experiment\n",
        "\n",
        "We quote from Sansbury's [paper](http://www.naturalphilosophy.org/pdf/abstracts/abstracts_5955.pdf) and his book [\"Faster than Light\"](https://www.amazon.ca/Faster-Than-Light-Relativity-Reconsidered-ebook/dp/B00LQT8056). \n",
        "\n",
        "__(Case 1)__ _A $15$ nanosecond light pulse from a laser was sent to a light detector, $30$ feet away. When the light pulse was blocked at the photodiode during the time of emission, but unblocked at the expected time of arrival, $31.2$ nanoseconds after the beginning of the time of emission, for $15$ nanosecond duration, little light was received. (A little more than the $4mV$ noise on the oscilloscope). This process was repeated thousands of times per second._\n",
        "\n",
        "__(Case 2)__ _When the light was unblocked at the photodiode during the time of emission ($15$ nanoseconds) but blocked after the beginning of the time of emission, during the expected time of arrival for $15$ nanoseconds, twice as much light was received ($8mV$). This process was repeated thousands of times per second._\n",
        "\n",
        "Sansbury's conclusion? That _this indicated that light is not a moving wave or photon, but rather the cumulative effect of instantaneous forces at a distance. That is, undetectable oscillations of charge can occur in the atomic nuclei of the photodiode that spill over as detectable oscillations of electrons after a delay._\n",
        "\n",
        "Sansbury found the equipment necessary for the experiment too expensive to rent for an extended period of time, and he was possibly not a sufficient expert in calibrating the equipment. So Sansbury's experiment appears to have not been sufficiently investigated, and we would argue that the experiment has neither been reproduced nor properly reviewed. Thus we turn to the classical Fizeau experiment, and consider its similarities to Sansbury's setup.\n",
        "\n",
        "# Fizeau's Saw Tooth Experiment (1849)\n",
        "\n",
        "Now Sansbury's apparatus has some similarity with Fizeau's sawtooth apparatus, as used circa 1849 to prove some of the first sensible measurements of luminal velocity. \n",
        "\n",
        "[Here](https://skullsinthestars.com/2008/03/31/fizeaus-experiment-the-original-paper/) is a blog which inlcudes a transcription of Fizeau's original 1849 paper in Comptes Rendus.\n",
        "\n",
        "[Here](https://youtu.be/7CUE1Bpz4hM) is an interesting youtube video en francais sur la mesure de Fizeau. Around the 4-5 minute mark is the most interesting. While the speed of the wheel is increased, the received light signal becomes increasingly erratic and intermittent, until a sufficiently high speed of rotation is achieved and the received light signal becomes eventually null and _no light is received_. \n",
        "\n",
        "[Here](https://physics.stackexchange.com/questions/315812/why-does-the-fizeau-measurement-of-the-speed-of-light-use-a-sawtoothed-gear-inst) is a useful physics stackexchange answer. \n",
        "\n",
        "# Sansbury vs. Fizeau\n",
        "\n",
        "Now Fizeau's original setup is a type of Sansbury test where the wheel is in uniform motion. Sansbury's setup involves either a wheel in _nonuniform_ motion, or equivalently a wheel in uniform motion with a nonuniform sawtooth distribution.\n",
        "\n",
        "We remark that Fizeau was historically looking to estimate the luminal velocity $c$. Sansbury's experiment assumes $c$ as given, estimated at $1$ foot per nanosecond. Sansbury's goal is to distinguish light propagation from particle model, and his setup is meant to test whether light is even something that travels at all. \n",
        "\n",
        "For example, suppose we have Fizeau's apparatus setup, with the 720 saw teeth on the wheel, and with angular velocity $\\omega$ such that the wheel in continuous uniform motion with velocity $\\omega$ blocks out all light. Fizeau would conclude that the time required for the wheel to turn one saw tooth was equal to the light's return trip time. \n",
        "\n",
        "Sansbury's __(Case 1)__ could be realized if the wheel was allowed to rotate nonuniformly, i.e. if the wheel could be accelerated in \"impulses\" something closer to the actual discrete motions of a clock. For example, if the wheel is initially opened at the time of emission, then immediately rotated one saw tooth length (to the closed position) during the expected time of travel, and just prior to the expected time of arrival is rotated another tooth length (to the open position), then Fizeau would predict that the receiver would observe a strong light source. However Sansbury predicts that the receiver would observe rather a very weak signal. Notice, here we require the wheel to move twice as fast as Fizeau's angular velocity. In otherwords the wheel must rotate two complete tooth lengths before the estimated arrival time.\n",
        "\n",
        "Sansbury's __(Case 2)__ could be realized if the wheel was rotating _discontinuously_. For example, if we keep the wheel fixed during the expected time of flight of the light particle, and turn the wheel one complete toothlength at the expected time of arrival, then Sansbury would predict a relatively strong signal would be received. Fizeau and the particle model would however predict no light would be received, since it was essentially blocked by the sawtooth at the expected time of arrival.\n",
        "\n",
        "\n",
        "\n",
        "\n",
        "\n",
        "\n",
        "\n",
        "\n",
        "\n",
        "\n",
        "\n",
        "\n",
        "\n",
        "\n",
        "\n",
        "\n",
        "\n",
        "\n",
        "\n"
      ],
      "metadata": {
        "id": "6ySHjVwpQdMz"
      }
    }
  ]
}