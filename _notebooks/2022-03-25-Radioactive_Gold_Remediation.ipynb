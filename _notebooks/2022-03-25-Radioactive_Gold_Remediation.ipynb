{
  "nbformat": 4,
  "nbformat_minor": 0,
  "metadata": {
    "colab": {
      "name": "Radioactive_Gold_Remediation.ipynb",
      "provenance": [],
      "collapsed_sections": [],
      "authorship_tag": "ABX9TyOivXoqjrkZEBXMmb4EWPYP",
      "include_colab_link": true
    },
    "kernelspec": {
      "name": "python3",
      "display_name": "Python 3"
    },
    "language_info": {
      "name": "python"
    }
  },
  "cells": [
    {
      "cell_type": "markdown",
      "metadata": {
        "id": "view-in-github",
        "colab_type": "text"
      },
      "source": [
        "<a href=\"https://colab.research.google.com/github/jhmartel/fp/blob/master/_notebooks/2022-03-25-Radioactive_Gold_Remediation.ipynb\" target=\"_parent\"><img src=\"https://colab.research.google.com/assets/colab-badge.svg\" alt=\"Open In Colab\"/></a>"
      ]
    },
    {
      "cell_type": "markdown",
      "source": [
        "# Polluted Gold Remediation\n",
        "\n",
        "> \"Safire, Aureon, Clarage, Childs, and EU have solved the problem on insurability of precious metal hard physical holdings being _contaminated_ by some hypothetical pollutant.\"\n",
        "\n",
        "- toc: false\n",
        "- branch: master\n",
        "- badges: true\n",
        "- comments: true\n",
        "- categories: [EU, Saffire, gold, pollution]\n",
        "- hide: false\n",
        "\n",
        "\n",
        "\n",
        "\n"
      ],
      "metadata": {
        "id": "I1i__C2NbvL3"
      }
    },
    {
      "cell_type": "markdown",
      "source": [
        "__Disclaimer: The author is interested in commodities and precious metals, and is generally interested in scientific questions, especially about the mysteries of atomic structure and the recent evidence of Saffire-Aureon project of remediating nuclear waste. The subject of this brief article is to simply highlight that directly testing this possibility on gold and silver bullion would significant diminish the threat of radioactive contamination of precious metals vaults.__\n",
        "\n",
        "This is a brief article. Jim Rickards has remarked in some of his videos, and his book \"The New Case for Gold\" that gold bullion bars (silver included) are at risk of radioactive contamination. For example, if a palette of bullion bars had been previously exposed to radio activity, then they could perhaps unwittingly be introduced into the general bullion vault and contaminate all the specimens. Or perhaps some radioactive material is released intentionally by bad actors and contaminating the bars. This risk is addressed by a recent amendment of the Royal Canadian Mint in its ETR (exchange-traded receipts) program. [Risk of Radioactive Gold is Uninsurable](https://www.mint.ca/store/news/royal-canadian-mint-announces-amendments-to-canadian-gold-reserves-and-canadian-silver-reserves-exchange-traded-receipt-programs-36500043?cat=News+releases&nodeGroup=About+the+Mint)\n",
        "\n",
        "Presumably there would be an issue in the exchange and transit of such contaminated bullion. The radioactive halflife could potentially be millions of years. \n",
        "\n",
        "However the recent experimental work of the [Safire-Aureon Project](https://aureon.ca/) has indicated that exposing radioactive materials to $H^+$ ions actually __increases the decay rate__! In otherwords, the decay rate depends on the atoms relative to their environment. Basically, if the contaminated bars were directly exposed to the electrical plasma environment of Aureon's \"star-in-a-jar\", then the radioactivity could be significantly accelerated. The question is: how many orders of magnitude can the decay-rate be accelerated? Can a million year decay rate be reduced to 1 day? What would be the energy required to maintain $H^+$ bombardment? \n",
        "\n",
        "Many more details are required, and this is only preliminary.\n",
        "-JHM.\n"
      ],
      "metadata": {
        "id": "02q21bxscAMO"
      }
    },
    {
      "cell_type": "code",
      "execution_count": null,
      "metadata": {
        "id": "o1xq3A6hbswV"
      },
      "outputs": [],
      "source": [
        ""
      ]
    }
  ]
}