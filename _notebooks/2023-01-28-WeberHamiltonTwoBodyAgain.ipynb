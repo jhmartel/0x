{
  "nbformat": 4,
  "nbformat_minor": 0,
  "metadata": {
    "colab": {
      "provenance": [],
      "authorship_tag": "ABX9TyPqfmoc2MQovZS4W6nW9ZY8",
      "include_colab_link": true
    },
    "kernelspec": {
      "name": "python3",
      "display_name": "Python 3"
    },
    "language_info": {
      "name": "python"
    }
  },
  "cells": [
    {
      "cell_type": "markdown",
      "metadata": {
        "id": "view-in-github",
        "colab_type": "text"
      },
      "source": [
        "<a href=\"https://colab.research.google.com/github/jhmartel/fp/blob/master/_notebooks/2023-01-28-WeberHamiltonTwoBodyAgain.ipynb\" target=\"_parent\"><img src=\"https://colab.research.google.com/assets/colab-badge.svg\" alt=\"Open In Colab\"/></a>"
      ]
    },
    {
      "cell_type": "markdown",
      "source": [
        "# Weber Hamilton Two Body Equations. Again. \n",
        "\n",
        "> \"We have to make absolutely clear the derivation of the ODE representing Weber Hamilton system. Here we only treat the two-body case, although we continue to slowly count 2,3,4,5,6, towards the question of whether Bohr is really more energetically probable than Weber-Sansbury's models.\" \n",
        "\n",
        "- toc: false\n",
        "- branch: master\n",
        "- badges: false\n",
        "- comments: true\n",
        "- author: JHM"
      ],
      "metadata": {
        "id": "kNkRkJEd2nKM"
      }
    },
    {
      "cell_type": "markdown",
      "source": [
        "We have to be so careful. So let us begin again. We want to derive the basic dynamical system for two body Weber evolution.\n",
        "\n",
        "Let $H(x,v)$ be the two body Hamiltonian for an isolated system, $$H(x,v)=\\frac{\\epsilon}{x}(1-\\frac{v^2}{2c^2}) +\\frac{\\mu}{2}v^2.$$ Here $\\epsilon=q_1q_2$ is the product of the electric charges and $\\mu$ is the reduced energetic mass of the system as defined by the kinetic energy. The classical Coulomb Hamiltonian has left hand summand $\\epsilon/x$ without the factor of $1-\\frac{v^2}{2c^2}$. \n",
        "\n",
        "We derive the Weber-Hamiltonian equations. \n",
        "\n",
        "To begin we have the trivial identity $$(x',v')=(v, a)$$ by definition, where $a$ is the relative acceleration of the system. Now we must carefully apply Newton's 2nd Law, namely that $$v'=a = \\mu_{\\text{eff}}^{-1} {\\bf{F}}=\\mu_{\\text{eff}}^{-1} (-\\frac{\\partial H}{ \\partial x}).$$ Here we are using the effective inertial mass denoted $\\mu_{\\text{eff}}$ of the system. This is the net effect of the inertial mass of the system, but it's critical that we leave it almost indeterminate at this precise point. \n",
        "\n",
        "Next we examine $x'=v$. This appears at first to be a trivial identification, but it also invites a comparison to $\\partial H / \\partial v$. In the case of Weber Hamiltonian we find $$\\frac{\\partial H}{\\partial v} = (\\mu - 1/c^2 x) v.$$ \n",
        "\n",
        "Therefore we obtain at this stage the indeterminate Hamilton equations:\n",
        "\n",
        "$$\\begin{pmatrix}\n",
        "x' \\\\\n",
        "v'\n",
        "\\end{pmatrix} = \\begin{pmatrix}\n",
        "\\mu - 1/c^2x & 0 \\\\\n",
        "0 & \\mu_{\\text{eff}}\n",
        "\\end{pmatrix}^{-1}\\begin{pmatrix}\n",
        "0& 1 \\\\\n",
        "-1 & 0\n",
        "\\end{pmatrix}.\\nabla H\n",
        ".$$\n",
        "\n",
        "Now recall that the effective inertial mass $\\mu_{\\text{eff}}$ is indeterminate at this step. We now require that $\\mu_{\\text{eff}}$ be defined uniquely such that _Conservation of Energy_ hold for the time evolution $(x',v')$. This simply requires that $$\\mu_{\\text{eff}} = \\mu - \\frac{1}{c^2 x}.$$ Then by calculation it's immediate that $(x',v')$ will be orthogonal to the level set $H$ and therefore $$\\frac{d H}{dt} (x(t), v(t))= (x', v') \\cdot \\nabla H= 0.$$ The identification of the effective inertial mass with the reduced \"energetic\" mass of the system (as defined by the kinetic energy) is a _subtle_ and _key_ issue in study the Weber electrodynamics. And we've made this confusion enough times, hence the writing of this brief note.\n",
        "\n",
        "\n",
        "This equation allows us to integrate the evolution for given initial conditions. \n",
        "\n",
        "But here's the problem: it doesn't immediately apply for $N$-body systems, even the three body or six body like we ultimately want to study. Yet the point remains that the Hamiltonian's for these systems are maintained by sums of two-body Hamiltonians. So fundamentally our analysis in the two-body case is valid, but it needs to be aggregated averaged with a net sum. \n",
        "\n",
        "_That's the key point, the variables $\\{r_{ij}, r'_{ij}\\}$ are not pairwise independant, there are some relations between them. Is this false or true?_ \n",
        "\n",
        "Ideally we would like to treat the variables $\\{r_{ij}, r'_{ij}\\}_{ij}$ as independant Cartesian-type variables. But this cannot readily be maintained. It leads to the problem of evaluating partial derivatives with respect to the relational variables $r_{ij}$ and not the absolute Cartesian coordinates $x_i, x_j$. We tell ourselves that Newton invented Calculus for the express purpose of integrating his equations of motion. So too here we need to develop a calculus to integrate the relational equations of motion, and this has surely already been done somewhere sometime. But the question is simply to interpret the Hamiltonian derivatives $$\\frac{\\partial H}{ \\partial r_{ij}}, ~~~ \\frac{\\partial H}{ \\partial r'_{ij}}$$ in terms of the absolute Cartesian coordinates. Stay tuned. [-JHM]\n",
        "\n",
        "\n",
        "\n"
      ],
      "metadata": {
        "id": "xuf3x7g22nCm"
      }
    },
    {
      "cell_type": "markdown",
      "source": [],
      "metadata": {
        "id": "6sjSkHRBXUcM"
      }
    },
    {
      "cell_type": "markdown",
      "source": [
        "\n",
        "# hide\n",
        "Let's consider approximating the diagonal matrix. It amounts to approximating the function $(1-\\frac{1}{\\mu c^2 x})^{-1}$. But then we have $$(1-\\frac{1}{\\mu c^2 x})^{-1} \\approx 1+\\frac{1}{\\mu c^2 x} + (\\frac{1}{\\mu c^2 x})^2 + \\cdots, $$ valid for $1 < \\mu c^2 x$.\n",
        "\n",
        "Otherwise for small $0 < \\mu c^2 x < 1$ we find the approximation $$(1-\\frac{1}{\\mu c^2 x})^{-1} \\approx - \\frac{1}{\\mu c^2 x} - (\\frac{1}{\\mu c^2 x})^2 - \\cdots.$$ These small values are most interesting being the subatomic structures predicted by Weber and Sansbury. Therefore in principal we have explicit approximations and correspondance with the classical Coulomb-Poisson potential, except near the interesting high energy values of $\\mu c^2 x \\approx 1^{\\pm}$.\n",
        "\n"
      ],
      "metadata": {
        "id": "AyiQj9Q3D5XJ"
      }
    }
  ]
}