{
  "nbformat": 4,
  "nbformat_minor": 0,
  "metadata": {
    "colab": {
      "name": "GR_1.ipynb",
      "provenance": [],
      "collapsed_sections": [],
      "authorship_tag": "ABX9TyP1p/j1jiGjsdQzmkjscfi2",
      "include_colab_link": true
    },
    "kernelspec": {
      "name": "python3",
      "display_name": "Python 3"
    },
    "language_info": {
      "name": "python"
    }
  },
  "cells": [
    {
      "cell_type": "markdown",
      "metadata": {
        "id": "view-in-github",
        "colab_type": "text"
      },
      "source": [
        "<a href=\"https://colab.research.google.com/github/jhmartel/fp/blob/master/_notebooks/2022-04-24-GR_1.ipynb\" target=\"_parent\"><img src=\"https://colab.research.google.com/assets/colab-badge.svg\" alt=\"Open In Colab\"/></a>"
      ]
    },
    {
      "cell_type": "markdown",
      "source": [
        "# GR + OT. Part 1.  \n",
        "\n",
        "> \"How to apply Optimal Transport (OT) to General Relativity (GR)? Define Energy. Brief note on challenges of bridging GR and OT, with some commentary on Prof. McCann's 2020 article. \"\n",
        "\n",
        "- toc: false\n",
        "- branch: master\n",
        "- badges: false\n",
        "- comments: true\n",
        "- categories: [einstein, GR, OT, units, tensors]\n",
        "- hide: false\n",
        "\n"
      ],
      "metadata": {
        "id": "dqeWPDsNBf9L"
      }
    },
    {
      "cell_type": "markdown",
      "source": [
        "I recently watched Yann Brenier's [YT lecture](https://youtu.be/FPSNuJjnYG8) on Optimal Transport (OT) and General Relativity (GR). He mentioned Professor McCann's [GRO paper](https://www.math.toronto.edu/mccann/papers/GRO.pdf). There seems to be interest in the question of ``How to apply OT to GR ?\" As Brenier suggested, there appears possibly some arrogance in the OT theorists who believe that OT is readymade to make a breakthrough in the GR field. I have my own thoughts on the problem...I'm a bridge builder, so I ask, Where is the bridge from OT to GR ? But the trouble is that GR is a very radical paradigm for thinking about physics, and specifically about _energy_, which is notoriously undefined (and undefinable!) in GR. Likewise, the notion of _work_ is also undefined in GR. For this reason it's basically impossible to properly relate thermodynamics to GR. See mathoverflow, physics.stackexchange for numerous questions about the impossibility of really defining energy tensors which satisfy a conservation law, e.g. [1](https://physics.stackexchange.com/questions/306838/energy-conservation-and-general-relativity), [2](https://physics.stackexchange.com/questions/109532/is-energy-conserved-in-general-relativity-does-nabla-atab-rm-matter-0?noredirect=1&lq=1). These difficulties gave Einstein alot of grief throughout his life.\n",
        "\n",
        "In OT, everything is generally controlled by the geometry of the cost $c: X\\times Y \\to \\mathbf{R} \\cup \\{+\\infty\\}$, where $(X, \\sigma)$ and $(Y, \\tau)$ are the source and target measure spaces, respectively. But _cost_ is really more properly understood as _energy_. \n",
        "\n",
        "What is the cost of transporting/correlating a unit source mass $dx$ to a unit target mass $dy$ ? Well... isn't it really the energy required to transport/correlate? \n",
        "\n",
        "Thus when OT studies couplings and semicoupling measures $\\pi$ between the source measure $\\sigma$ and target $\\tau$, the optimization problem is really about the _min energy states_, i.e. ground states. So OT is already positioned to contribute to GR, as soon as GR can define _energy_! \n",
        "\n",
        "For example, if we consider Professor McCann's paper, we see that path integrals of $ds':=\\sqrt{-ds^2}$ along so-called timelike curves lead to his definition of $\\ell(x,y;q)$ for a parameter $0 < q \\leq 1$. At $q=1$ the function $\\ell(x,y)$ is like the Lorentz \"distance\" (caution this is misnomer, since $\\ell$ satisfies a reverse triangle inequality!). The function is frequently related to the so-called _proper time_ function $d\\tau$ defined by $ds'=cd\\tau$. Since we do not readily admit that $ds'$ has units of $[length]$, we likewise believe it's an error to generally refer to $d\\tau$ as having units of $[time]$. While $ds'$ and $\\ell$ _do_ represent covariant scalars, we consider it antithetical to the premise of GR to consider these absolute scalars as having _any_ physical units. \n",
        "\n",
        "So Prof. McCann's interpretation of the \"Lorentz cost\" $$\\ell(\\mu, \\nu)=\\sup_{\\pi} [\\int \\ell(x,y)^{1/q}~ d\\pi(x,y)~]^q, ~~0 < q \\leq 1$$ as representing the quote  \"_maximum expected proper-time which can elapse between the distribution of events $\\mu, \\nu$_ \" is an interesting heuristic, but perhaps not a strictly proper GR interpretation. \n",
        "\n",
        "But another trouble with the differential geometry of GR is that the Minkowski-Lorentz quadratic forms $g=ds^2=-c^2dt^2 + dx^2+dy^2+dz^2$ is a unit-less number. This is where the _absolute_ part of the absolute differential calculus makes itself known: whatever _real number_ is being represented by $\\sqrt{-ds^2}$, it has no ``physical meaning\".\n",
        "\n",
        "Where does the _proper time_ interpretation come from? The interpretation comes from the use of a so-called \"instantaneous rest frame\". But how much information can a particular choice of coordinate system provide? This requires the observer to find coordinates $(\\tau, \\xi, \\eta, \\zeta)$ where $\\tau$ represents ``time \" and all the partial derivatives vanish $$\\frac{\\partial \\xi}{\\partial \\tau}=\\frac{\\partial \\eta}{\\partial \\tau}=\\frac{\\partial \\zeta}{\\partial \\tau}=0.$$\n",
        "In this particular coordinate system one finds $ds^2=-c^2d\\tau^2$ and $ds'=c ~ d\\tau$. But what does this computation really show? We consider it less persuasive than it might appear : can we really conclude that $ds'$ has units of $[length]$ or that $ds'/c$ has units of $[time]$, based on the form of the equation in one coordinate system ? \n",
        "\n",
        "Conclusion. \n",
        "\n",
        "Our point is that the tensor calculus approach to GR requires users to basically \"surrender their units, rigid rods and rulers at the door\". Once inside the covariant category, the rods no more represent objective lengths. Irrespective of their material composition, the Lorentz transformation formulas take over and contract what was otherwise incontractible. The users themselves will see no contraction because also their corresponding \"proper times\" will be contracted. So when the Lorentzian scalar $ds'$ is used by the Riemannian geometer, a careful mind needs to not readily confuse the units of $ds'$ as representing $[length]$ in the timelike future directions. \n",
        "\n",
        "These opinions originate from around year 2013--2018, when I really spent alot of time in symplectic geometry, almost-complex structures, pseudo-Riemannian and Lorentzian geometry, and took long road to realize that importing Riemannian definitions into pseudo-Riemannian structures does not yield metric Riemannian results. For example, a function $\\ell(x,y)$ which satisfies a reverse triangle inequality $$\\ell(x,y) \\geq \\ell(x,z)+\\ell(z,y)$$ can not _really_ correspond to a units of $[length]$. Nonetheless it's common to see triangles with relabelled edges and where the lengths in no way correspond to the length in the image.\n",
        "\n",
        "[Here](https://www.math.uni-potsdam.de/fileadmin/user_upload/Prof-Part-Diff/GR_Workshop/SergioDain-Lecture1.pdf) looks to be very thorough introduction to the current differential geometric approach to _energy_ in GR. I'm vaguely aware of the ADM definition, originating with Weyl I believe, and which converts the covariant divergence free $\\nabla_i T^{ij}=0$ into a local integral conservation equation.\n",
        "\n"
      ],
      "metadata": {
        "id": "49U-kPuNHkO4"
      }
    },
    {
      "cell_type": "code",
      "source": [
        "$"
      ],
      "metadata": {
        "id": "FbUopr6H2vRb"
      },
      "execution_count": null,
      "outputs": []
    }
  ]
}