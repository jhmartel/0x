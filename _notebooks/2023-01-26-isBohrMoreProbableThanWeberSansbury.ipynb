{
  "nbformat": 4,
  "nbformat_minor": 0,
  "metadata": {
    "colab": {
      "provenance": [],
      "authorship_tag": "ABX9TyNKoYv5q8/FtdFvf9ZPpZpY",
      "include_colab_link": true
    },
    "kernelspec": {
      "name": "python3",
      "display_name": "Python 3"
    },
    "language_info": {
      "name": "python"
    }
  },
  "cells": [
    {
      "cell_type": "markdown",
      "metadata": {
        "id": "view-in-github",
        "colab_type": "text"
      },
      "source": [
        "<a href=\"https://colab.research.google.com/github/jhmartel/fp/blob/master/_notebooks/2023-01-26-isBohrMoreProbableThanWeberSansbury.ipynb\" target=\"_parent\"><img src=\"https://colab.research.google.com/assets/colab-badge.svg\" alt=\"Open In Colab\"/></a>"
      ]
    },
    {
      "cell_type": "markdown",
      "source": [
        "# Bohr versus Weber-Sansbury Planetary Model of Hydrogen\n",
        "\n",
        "> \"[Chaos Post: Everything Under Construction] A simple question with non obvious answer. Which model is more probable, Bohr's or Sansbury's? It's a billion dollar question. This post has alot of words but not enough calculations. We need to figure out the correct KDK integration scheme for Weber's potential, and this is work in progress. Remember that nobody has seen the atom, and it is essentially unseeable since it does not radiate energy to the environment. But it's perhaps more structured than classical and quantum theories allow.\" \n",
        "\n",
        "- toc: false\n",
        "- branch: master\n",
        "- badges: false\n",
        "- comments: true\n",
        "- author: JHM"
      ],
      "metadata": {
        "id": "wQZdj3gFhIsk"
      }
    },
    {
      "cell_type": "markdown",
      "source": [
        "We have a strange but very interesting question. It would appear to have a trivial answer, but look again. The question:\n",
        "\n",
        "___Is Bohr's planetary model of the hydrogen atom $[+1, -1]$ really more probable than Sansbury-Weber's model of $[[+2, -1], [+1, -2]]$?___\n",
        "\n",
        "Ultimately we are comparing the Bohr and Sansbury models for hydrogen, helium, lithium, etc., but we must begin with the simplest case, namely hydrogen.\n",
        "\n",
        "_Notation: $[+n]$ refers to $n$-particle system of $n$ equal $[+1]$ charges and having sufficient energy to break through the critical radius, and therefore $[+n]$ represents an $n$-body molecule of identical electric particles._\n",
        "\n",
        "_For example the system $[-1, -1]$ is naturally repulsive in isolated environment, but becomes a system $[-2]$ only if sufficient work is done by the environment on the system. We have written on this elsewhere, namely Weber's amazing prediction that electrons are attractive within the critical radius and an energy $E=\\mu c^2$ is required, where $\\mu$ is the reduced inertial mass of the system._\n",
        "\n",
        "All these questions appear to lead to thermodynamics. _Why?_ \n",
        "\n",
        "The question of which states or models are more probable is effectively an energy and statistical question. It's generally understood from thermodynamics that more probable states are those with lower potential energies (i.e. with less capacity for work). There is urgent need for precise statements.\n",
        "\n",
        "Thermodynamics is the question relating the changes in potential $\\Delta U$ with changes in \"capacity for work\" and \"heat flux with the environment\". It's a complicated question and we are cautious against unwitting import of false ideas. Somehow what's lacking is the amazing idea that heat and temperature represents average random kinetic. \n",
        "\n",
        "# _Which states are we going to observe?_\n",
        "\n",
        "Truly if the states are isolated, then they are not observable at all, at least not by energy radiation. For if they were radiating they would be transferring some energy from the system to the environment.\n",
        "\n",
        "Abstractly we need to study the energy landscapes of all these systems. The potential energy in our study is Weber's electrodynamic potential and which satisfies a conservation of energy with respect to both isolated and non-isolated systems in a form. \n",
        "\n",
        "The system will use it's own potential energy, to do work on itself to morphologically change it's state. And the environment is here necessary to absorb this energy. The system will relax to a lower state, but the environment will have absorbed and gained to a higher state. It seems natural enough to assume that this dynamic process will continue until we have achieved an energy balance and no more net radiation. \n",
        "\n",
        "We are repeating to ourselves the idea of \"spontaneous reduction to ground states\" as some natural principle of least action, or least internal energy. In otherwords, a system reacts to its environment to minimize the internal potential energy. Both states will have attained minimal internal potential energy. \n",
        "\n",
        "It's necessary to consider the environment, because if we look at unconstrained negative energy gradient $-\\nabla E$ on the isolated system, then the gradient might descend to zero or negative infinity and radiate away all its energy. System collapses.\n",
        "\n",
        "Instead we remember the environment $X$ and the idea that all energy is conserved and there is radiation until an energy balance is achieved between $S$ and $X$. If the environment itself has a capacity (a ceiling) possibly infinite of how much energy it can absorb, then the system $S$ need not radiate away to zero.\n",
        "\n",
        "In our calculations between Bohr and Sansbury, it's possible that studying the isolated systems will not be sufficient. They each have their own energy landscapes. But without any environment interactions, is it possible to decide which configurations are more probable? Can the absolute energies really be compared to each other? And besides, for a given configuration, what is the most probable state?\n",
        "\n",
        "In strict two-body system like $[+1, -1]$ there is no direct radiation from $[+1]$ to $[-1]$ because there is no energy balance necessary between $[+1]$ and $[-1]$ (single-particle systems do not have any relational energies -- the particles do have absolute vis viva kinetic energies relative to any coordinate system, but no pure relational kinetic energy!). Therefore there is no energy transfer between the states. When the particles begin interacting in the two-body system $[+1, -1]$ then there is exchange between potential and relative kinetic energies of the system. However this does not occur as radiation but rather a change of state. \n",
        "\n",
        "In a system like $[[+2, -1], [+1, -2]]$, it's possible that the system have zero net radiation (effectively isolated and stable) whilst the subsystems $[+2, -1]$ and $[+1, -2]$ undergoes a continuous exchange of radiation while maintaining a total energy balance. This is Sansbury's insight.\n",
        "\n"
      ],
      "metadata": {
        "id": "qYyqkxFAhIa9"
      }
    },
    {
      "cell_type": "markdown",
      "source": [
        "# _Reduction to Ground State: What is the idea here?_\n",
        "\n",
        "Does it really pass that every system collapses and radiates away it's energy? No, this is the idea from Sansbury, that a system can have zero net radiation ! And this is what's happening inside the electrical molecules. \n",
        "\n",
        "When two particles exist in a nonisolated system. Weber argues: if system $X$ has energy $A$, and from the outside environment some amount $a$ of kinetic energy is transferred to the system, then once the system is again considered isolated, it would seem evident that the total energy becomes $A+a$. \n",
        "\n",
        "Weber responds to Helmholtz' and Tait's criticisms coupled with Maxwell and Neumann's results. Weber has comprehensive philosophical approach. He reasons that interactions are the equivalent to loss or gain of vis viva, and these energies are in fact dependant on one another. Thereby we find the dependance of the interaction force on the vis viva of the bodies, in contrast to Coulomb-Poisson which has no such dependance. \n",
        "\n",
        "Early arguments formulating tentative forms of the conservation of energy hindered the acceptance of Weber's work, especially because of Helmholtz' erroneous critiques [ref]. But all these criticisms led to Weber devising an argument which demonstrates the effective equivalence and necessity of:\n",
        "- Coulomb-Poisson force law (electrostatics)\n",
        "- Conservation of Energy\n",
        "- Weber's force law (electrodynamics). \n",
        "\n",
        "Weber proved that his dynamic force law is effectively the _only_ extension of the Coulomb-Poisson electrostatic law which does indeed satisfy a conservation of energy principle. [Insert sketch]\n",
        "\n",
        "\n",
        "\n",
        "# ___END OF POST [JHM].___"
      ],
      "metadata": {
        "id": "KhpHzcVNG1B2"
      }
    },
    {
      "cell_type": "code",
      "source": [
        "# collapse\n",
        "\n",
        "import numpy as np\n",
        "\n",
        "c=1.0;\n",
        "\n",
        "Q0 = [0. for j in range(6)]; q0 = q0 + [+1.0]; # positive \n",
        "Q1 = [1. for j in range(6)]; q1 = q1 + [-1.0]; # negative\n",
        "\n",
        "Q2 = [-1. for j in range(6)]; q2 = q2 + [1.0];\n",
        "Q3 = [1.5, 0., 0., -0.3, 0., 0.]; q3 = q3 + [1.0];\n",
        "QQ = [Q0, Q1, Q2, Q3]; #print(qq)\n",
        "\n",
        "# approximate Bohr hydrogen state:\n",
        "# approximate Sansbury hydrogen state:\n",
        "\n",
        "def norm(x, epsilon=0.0):\n",
        "  val = np.dot(x,x)**(0.5)\n",
        "  return (val**2+epsilon**2)**(0.5) \n",
        "\n",
        "# pairwise Weber interaction energy\n",
        "def U(q): \n",
        "  q1,q2 = q;\n",
        "  dq = np.subtract(q2,q1)[0:6];\n",
        "  dx = dq[0:3]; dv = dq[3:6]; rho = norm(dx);\n",
        "  rhat=np.dot(1/rho, dx)  # unit vector\n",
        "\n",
        "  charge_factor = q1[-1]*q2[-1];\n",
        "  Weber_term = (np.dot(rhat, dv) / c)**2\n",
        "  return (rho**-1)*(1-Weber_term/2)*charge_factor\n",
        "\n",
        "# pairwise relative motion energy\n",
        "def T(q):\n",
        "  q1, q2 = q\n",
        "  dq = np.subtract(q2,q1)[0:6];\n",
        "  dx = dq[0:3]; dv = dq[3:6]; rho = norm(dx);\n",
        "  rhat=np.dot(1/rho, dx)  # unit vector\n",
        "\n",
        "  mu = 0.5 # reduced mass insert formula.\n",
        "  return (0.5)*mu*np.dot(rhat, dv)**2\n",
        "\n",
        "# array of pairwise evaluating T,U:\n",
        "#Tij = [T([var0, var1]) for var0 in qq for var1 in qq if var0 != var1]; sumT = (0.5)*sum(Tij); print(sumT);\n",
        "#Uij = [U([var0, var1]) for var0 in qq for var1 in qq if var0 != var1]; sumU = (0.5)*sum(Uij); print(sumU);\n",
        "\n",
        "# what are Sansbury's metastable states quantitatively? \n",
        "# can we simulate the work required to draw two energy surfaces together??\n",
        "# as we lower the energy via negative gradient flow...\n",
        "# what is the critical radius? how to numerical test the critical radius region?"
      ],
      "metadata": {
        "id": "0TA_21Hh2L_W"
      },
      "execution_count": null,
      "outputs": []
    },
    {
      "cell_type": "code",
      "source": [
        "# collapse \n",
        "!pip install numdifftools"
      ],
      "metadata": {
        "id": "Ol04U-puDzR6"
      },
      "execution_count": null,
      "outputs": []
    },
    {
      "cell_type": "code",
      "source": [
        "# collapse\n",
        "\n",
        "import numdifftools as nd\n",
        "  \n",
        "def weber(r):\n",
        "  return (-1/r[0])*(1-(r[1]**2)/2)\n",
        "\n",
        "def t(r):\n",
        "  return (0.5)*(0.5)*r[1]**2\n",
        "\n",
        "def e(r):\n",
        "  return weber(r)+t(r)\n",
        "\n",
        "r_sample = [0.7, 0.01]\n",
        "\n",
        "grad_weber = nd.Gradient(weber)(r_sample)  \n",
        "print(\"potential gradient direction to increase the capacity for work at (r, r') =\",r_sample, \"is\", grad_weber)\n",
        "\n",
        "grad_kinetic = nd.Gradient(t)(r_sample)\n",
        "print(\"kinetic gradient is:\", grad_kinetic)\n",
        "\n",
        "grad_energy = nd.Gradient(e)(r_sample);\n",
        "print(\"negative energy gradient is:\", -grad_energy)\n",
        "print(\"unit normalized negative energy gradient is:\", np.dot(1/norm(grad_energy), - grad_energy) )"
      ],
      "metadata": {
        "id": "tmKfeKZMDhb-"
      },
      "execution_count": null,
      "outputs": []
    },
    {
      "cell_type": "code",
      "source": [
        "# collapse\n",
        "\n",
        "# Hydrogen state space:\n",
        "\n",
        "# i prefer hexagon sample spaces, need efficient construction.\n",
        "def cube(N=1):\n",
        "  line = [x*(1/N) for x in range(-N, N+1)]\n",
        "  prod = [[x,y,z] for x in line for y in line for z in line]\n",
        "  return prod\n",
        "\n",
        "def hex(N=7):\n",
        "  e1 = [-1/2, np.sqrt(3)/2]\n",
        "  e2 = [1.,0.]\n",
        "  sample = [list(np.dot(n1,e1)+np.dot(n2,e2)) for n1 in range(-N, N+1) for n2 in range(-N, N+1)]\n",
        "  return sample\n",
        "\n",
        "statespace = [[[x1,v1],[x2,v2],[x3,v3]] for x1 in cube() for v1 in cube() for x2 in cube() for v2 in cube() for x3 in cube() for v3 in cube()];\n",
        "\n",
        "print(len(statespace))\n",
        "print(len(cube()))\n",
        "print(27*27*27 == 3**9)"
      ],
      "metadata": {
        "id": "Y1CZl9G04YXe"
      },
      "execution_count": null,
      "outputs": []
    },
    {
      "cell_type": "markdown",
      "source": [
        "# hide\n",
        "\n",
        "You have to escape the naive idea that you can construct a priori the entire global state space sample, and then reduce it. No the essence of the MCMC probabilistic sampling is to sample as you go randomly with random seeds. There is no need to construct the maximally complicated state space, i.e. the trivial correlation between all the datum! Please wake up son and stop wasting your time on this idea. \n",
        "\n"
      ],
      "metadata": {
        "id": "zkSa_mJDBf6n"
      }
    },
    {
      "cell_type": "markdown",
      "source": [
        "# hide\n",
        "\n",
        "H 1.0080\n",
        "He 4.0062\n",
        "Li 6.94\n",
        "\n",
        "\n",
        "\n",
        "\n"
      ],
      "metadata": {
        "id": "vxbvvAZmuNCh"
      }
    },
    {
      "cell_type": "markdown",
      "source": [
        "# hide\n",
        "\n",
        "Pseudo code:\n",
        "\n",
        "let X=[x0, x1, ..., x_n] be $N+1$ body system.\n",
        "\n",
        "let $U(X)$ be total potential energy of the system sum of $U(x)$ for all pairwise interactions. Perhaps not accurate because there is an assembly energy required. And following Weber this work definition is the correct definition of the total system potential energy, i.e. the capacity for the system to _do_ work. Therefore we need measure of the total potential by integrating over the state while it is being assembled from infinity. \n",
        "\n",
        "let $T(X)$ be sum of pairwise relative velocities. Then we obtain the conservation of total system energy $E(X)=U(X) + T(X)$. Now the point is that that the time evolution of $X$ will satisfy a conservation of energy if the system is isolated. However here is Weber's observation: if there is an addition or subtraction of kinetic energy $a$ from the total energy $E=E(X)$, then this subtraction of energy is compensated by an subtraction or addition of the total system potential energy. [Check details].\n",
        "\n",
        "What's the basic approach? We don't expect to analytically solve all the equations of motions. But we want numerical simulations. \n",
        "\n",
        "Strategy is simple: build the state space. compute sum of pairwise interactions and energies. here need a morphological reduction: suppose that the energy is going to \"radiate away\" and spontaneously reduce to a lower energy state? this means a reduction of the potential (?) as opposed to a reduction in the relational kinetic energies ? [Need review. Possible errors here]. Need recall the metastable states, which are states with zero net radiation. These would consist of effectively isolated systems versus radiative systems.\n",
        "\n",
        "\n",
        "\n",
        "\n",
        "\n"
      ],
      "metadata": {
        "id": "B5DrTku0wEJm"
      }
    },
    {
      "cell_type": "markdown",
      "source": [
        "# hide \n",
        "\n",
        "Weber maintains the conservation of energy even in non-isolated systems. A system can be radiating or absorbing _kinetic energies_, and be non-isolated from the environment, and still(!) satisfy a conservation of energy principle. It's a subtle idea.\n",
        "The idea is that the relevant kinetic energies are not the absolute total vis viva energies, namely the sum of squared velocities, but rather the sum of relational kinetic energies. In practice this means everything is projected onto sums of relative distances and velocities. Only sums of pairwise radial distances and radial velocities are conserved. The particles can still maintain other motions and kinetic energy relative to the environment, i.e. relative to rotation about the centre of mass, etc.. Weber discusses this in his memoirs [insert reference]."
      ],
      "metadata": {
        "id": "22cowDHhEUya"
      }
    },
    {
      "cell_type": "code",
      "source": [
        "# hide\n",
        "\n",
        "import numpy as np\n",
        "\n",
        "r_list = range(1,30); r_list = [x/30 for x in r_list]; print(r_list)\n",
        "v_list = range(1,30); v_list = [v/30 for v in v_list]; print(v_list)\n",
        "\n",
        "def f(x, r0=0.4):\n",
        "  r,v = x \n",
        "  factor1 = (1-r)**(-1) \n",
        "  return np.sqrt(factor1*(1-r/r0)) \n",
        "\n",
        "def weber(r0=0.4): \n",
        "  output = [[r,v,f([r,v], r0)] for r in r_list for v in v_list if 1-r/r0 > 0]\n",
        "  return output\n"
      ],
      "metadata": {
        "id": "KpTmzTUi2vHL"
      },
      "execution_count": null,
      "outputs": []
    }
  ]
}