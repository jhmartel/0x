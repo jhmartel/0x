{
  "nbformat": 4,
  "nbformat_minor": 0,
  "metadata": {
    "colab": {
      "provenance": [],
      "collapsed_sections": [],
      "authorship_tag": "ABX9TyPVv/+81PguiTLhKqFndbPf",
      "include_colab_link": true
    },
    "kernelspec": {
      "name": "python3",
      "display_name": "Python 3"
    },
    "language_info": {
      "name": "python"
    }
  },
  "cells": [
    {
      "cell_type": "markdown",
      "metadata": {
        "id": "view-in-github",
        "colab_type": "text"
      },
      "source": [
        "<a href=\"https://colab.research.google.com/github/jhmartel/fp/blob/master/_notebooks/2022-11-09-GibbsLiouvilleWeber.ipynb\" target=\"_parent\"><img src=\"https://colab.research.google.com/assets/colab-badge.svg\" alt=\"Open In Colab\"/></a>"
      ]
    },
    {
      "cell_type": "markdown",
      "source": [
        "# Hamilton Weber Gibbs Liouville Measures on State Space\n",
        "> \"We examine the Hamilton equations for Weber's potential in an isolated two-body system. We construct an invariant measure on the xv state space which is rather distinct from the conventional Gibbs Liouville measure.\"\n",
        "\n",
        "- toc: false\n",
        "- branch: master\n",
        "- badges: true\n",
        "- comments: true\n",
        "- author: JHM\n",
        "- categories: [fastpages, jupyter]"
      ],
      "metadata": {
        "id": "_LCyQ-PXwAj9"
      }
    },
    {
      "cell_type": "markdown",
      "source": [
        " # _Weber, Hamilton, Liouville, Gibbs_:\n",
        "\n",
        "The classical Gibbs-Liouville theorem says that the canonical volume form $dxdv$ on state space is invariant with respect to Hamiltonian evolution. In otherwords, for a given rectange $dx dv$ of initial conditions in statespace, the forward time evolution of the Hamiltonian system with these given initial conditions occupies a region in $xv$-spave having the same volume with respect to $dx dv$. \n",
        "\n",
        "For classical Hamilton equations, this follows from the vector field $$J \\cdot \\nabla H$$ being divergence free: $$div(J \\nabla H)=0.$$ Indeed as we integrate the Hamilton equations we obtain $$\\frac{d}{dt}(x,v)=(\\dot{x}, \\dot{v})= \\begin{pmatrix} \\partial H / \\partial v \\\\ - \\partial H/\\partial x   \\end{pmatrix},$$ and the point is that this field has zero divergence. \n",
        "\n",
        "For example, if the $H = \\omega (x^2 + v^2)$ is the Hamiltonian for a one-particle oscillator, then the energy levels are circles, and the Hamilton evolution is like a rigid rotation. Therefore it's evident that the area form $dx dv$ is invariant with respect to time evolution. \n",
        "\n",
        "Our interpretation of the time evolution being volume invariant means the overall \"uncertainty\" in the states is constant. In other words if we know position $x$ with some error $dx$ and velocity $v$ with error $dv$, then the overall uncertainty of the system remains $dx dv$ square-error throughout the evolution. This is relatively good, for example if the particles very close (so $dx$ is small), then we are certain that $dv$ is large (i.e. they have large relative motion). Likewise if the particles have very small relative motion ($dv$ small) then the particles have large relative position ($dx$ large).\n",
        "\n",
        "The existence of this invariant background measure $dx dv$ is indispensable for mathematically defining the _entropy_ of a state $\\rho$ relative to this background.\n",
        "\n",
        "However our researches have led us to study the Weber forces and Weber potential, and we see that the volume form $dxdv$ is _no longer_ invariant with respect to state-space evolution for Weber Hamiltonians! This requires a more careful study. \n",
        "\n",
        "# _Two Body Weber-Hamilton:_\n",
        "\n",
        "The Hamiltonian for a reduced two-body problem can be rewritten in variables $(x,v)$ where $x>0$ and $$H = \\frac{1}{2} \\mu v^2 + \\frac{\\alpha}{x}(1-\\frac{v^2}{2c^2}), $$ where $\\alpha =q_1 q_2$ is a signed constant possibly positive or negative. Also $\\mu$ is the reduced mass of the system. We restrict $x>0$ because $x$ represents the relative distance $x=r$ between the two particles. \n",
        "\n",
        "The evolution Hamilton-Weber equations become:\n",
        "$$ \\frac{d}{dt}(x,v)=(x',v')=\\begin{pmatrix} (\\mu - \\frac{\\alpha}{c^2 x})^{-1} & 0 \\\\ 0 & (\\mu - \\frac{\\alpha}{c^2 x})^{-1}  \\end{pmatrix} J \\nabla H.$$\n",
        "\n",
        "Now we need compute the divergence of this vector field, recalling the formula $$div(fJ\\nabla H) = \\nabla f \\cdot J \\nabla H$$ since $div(J \\nabla H)=0$. \n",
        "\n",
        "The gradient of the function $$f(x,v):=(\\mu - \\frac{\\alpha}{c^2 x})^{-1}$$ is found to be:\n",
        "\n",
        "$$\\nabla f = \\begin{pmatrix} \\partial f / \\partial x  \\\\ \\partial f / \\partial v  \\end{pmatrix} = \\begin{pmatrix}  \\\\ 0 \\end{pmatrix} [INCOMPLETE].$$\n",
        "\n",
        "Finally we find $$div = \\frac{v}{x} \\frac{1}{(\\frac{\\mu c^2 x}{\\alpha}-1)}.$$ \n",
        "\n",
        "Setting $\\beta = \\frac{\\alpha}{\\mu c^2}$ it's easier to write $$div = \\frac{v}{x(\\frac{x}{\\beta} -1)}.$$\n",
        "\n",
        "From this form it's clear that $dx dv$ is not invariant with respect to the Hamilton flow. In fact we see that:\n",
        "\n",
        "- for $\\alpha=q_1 q_2 < 0$ the divergence is always negative $div < 0$ which implies that state-space uncertainty is decreasing under the flow. I.e. the dispersion between positions and velocities will be decreasing with time. \n",
        "\n",
        "- for $\\alpha > 0 $ the divergence has two phases. For relatively large distances $x$ outside the critical radius $r_c$ we see the divergence is positive, and therefore state-space uncertainty is increasing under the flow. This means the positions and velocities of particles become more dispersed with time. They will spread out and cover a larger volume of state space. However _inside the critical radius_ $0 < x < r_c$ the divergence changes sign and becomes negative. This means inside the critical radius the state-space uncertainty is decreasing with respect to time. I.e. there will be stronger and stronger correlations between position and velocity and much less dispersion.\n",
        "\n",
        "# _Solving for the Density $f$:_\n",
        "\n",
        "The naive Gibbs-Liouville theorem is not true with respect to Weber-Hamilton equations. This raises the question: if we know the divergence of the vector field, is it possible to determine a reference measure on the state-space which _is_ invariant with respect to time evolution?\n",
        "\n",
        "Again divergence of $X$ is the Lie derivative $L_X(vol)$ of the volume form. We are seeking a volume form $\\rho = f.vol$ such that $L_X(f.vol)$ is identically zero. The Cartan formula $$L_X = \\iota_X d + d \\iota_X$$ yields $$L_X (f.vol) = d(f \\iota_X vol).$$ If $X=X_x \\partial_x + X_v \\partial_v$ in our basic setting, then $$\\iota_X vol = \\iota_X dxdv = X_x dv - X_v dx.$$ Therefore $$L_X (f.dxdv)=d(fX_x dv - fX_v dx).$$ Now here we need to explicitly compute $X_{x,x}=$ and $X_{v,v} = $. \n",
        "\n",
        "The basic equation $L_x (f.dxdv)=0$ becomes $$ f(X_{x,x}+ X_{v,v}) + f_x X_x + f_v X_v=0. $$\n",
        "\n",
        "In principle, everything can be computed. Our computations (and we've made lots of mistakes in the derivations) yield:\n",
        "\n",
        "- $$X_{x,x}+X_{v,v} = \\frac{v}{x}\\frac{1}{(1-\\mu c^2 x/\\alpha)}.$$\n",
        "\n",
        "And the equation $L_X(f.dxdv)=0$ is satisfied if $f_v=0$ and $f_x$ satisfies $$\\frac{f_x}{f} = \\frac{v}{x} \\frac{\\alpha}{\\mu c^2 x}.$$\n",
        "\n",
        "This is a logarithmic derivative which implies $$f=f(x,v)=exp \\left( \\frac{-\\alpha v}{\\mu c^2 x} \\right)$$ is a solution satisfying $L_X(f dxdv)=0$. The argument shows that $f$ is only unique up to multiplicative factor assuming that $f_v=0$, i.e. $f$ independant of $v$.  \n",
        "\n",
        "Therefore we obtain an invariant measure for the Hamilton evolution. Evidently the density $$\\rho(x,v):=f(x,v).dxdv$$ blows up at $x=0$ when the sign $\\alpha$ is negative $\\alpha = q_1 q_2 < 0$. This reflects the fact that the divergence $X_{x,x}+X_{v,v}$ of the Hamiltonian flow is strongly expanding with respect to the flat $dxdv$ measure, which nevertheless is _not_ the appropriate measure for the open $xv$-state space with $x>0$.\n",
        "\n",
        "When the sign $\\alpha$ is positive $q_1q_2>0$, then the density \n",
        "\n",
        "- ___Proposition:___ The above measure $\\rho = f(x,v) dxdv$ is invariant under the Hamiltonian flow defined by the Weber two body potential on $xv$ statespace with $x>0$ with respect to any parameter $\\alpha \\in \\mathbf{R}$ and $\\mu \\in \\mathbf{R}$. \n",
        "\n",
        "The measure $\\rho$ _might_ be called the Weber-Liouville measure, since it represents an almost canonical invariant measure. Note: our derivation requires $f_v=0$ because we otherwise find a term like $f_v X_v = -f_v H_x$ which difficult to control, since it depends on the force experienced by the particles, and therefore depends on both position, velocity, and accelerations. Thus it's convenient to say $f_v=0$ and this also allows us to factor the $v$ factor from the expression for $L_X(f dxdv)=0$.\n",
        "\n",
        "\n",
        "Next we need consider the Gibbs entropy of states relative to this invariant measure, and perhaps consider whether any type of Second Law of Thermodynamics is possible, e.g. what is behaviour of entropy under evolution??\n",
        "\n",
        "[-JHM]"
      ],
      "metadata": {
        "id": "wiHpIYobOVPf"
      }
    }
  ]
}