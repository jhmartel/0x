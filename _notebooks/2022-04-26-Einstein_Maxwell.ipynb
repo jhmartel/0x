{
  "nbformat": 4,
  "nbformat_minor": 0,
  "metadata": {
    "colab": {
      "name": "Einstein_Maxwell.ipynb",
      "provenance": [],
      "collapsed_sections": [],
      "authorship_tag": "ABX9TyPaIuiFpk9LZS2ajtllOjZx",
      "include_colab_link": true
    },
    "kernelspec": {
      "name": "python3",
      "display_name": "Python 3"
    },
    "language_info": {
      "name": "python"
    }
  },
  "cells": [
    {
      "cell_type": "markdown",
      "metadata": {
        "id": "view-in-github",
        "colab_type": "text"
      },
      "source": [
        "<a href=\"https://colab.research.google.com/github/jhmartel/fp/blob/master/_notebooks/2022-04-26-Einstein_Maxwell.ipynb\" target=\"_parent\"><img src=\"https://colab.research.google.com/assets/colab-badge.svg\" alt=\"Open In Colab\"/></a>"
      ]
    },
    {
      "cell_type": "markdown",
      "source": [
        "# Einstein and Maxwell\n",
        "> \"Einstein SR, Homogeneous Wave Equation, Lorentz Group, Maxwell. This is update of a previous post. Still working on SR Foundations article. The main question remains, What is the correct law of propagation of light. The answer is perhaps that light is not something that propagates, i.e. light is not something that travels, but is rather related to instanteous action-at-a-distance, which cumulates in the atom and eventually electrons to be excited in the outer band and thereby cause the stimulus response known as light. This is Sansbury's idea, still unverified. \"\n",
        "\n",
        "- toc: false\n",
        "- branch: master\n",
        "- badges: false\n",
        "- comments: true\n",
        "- author: JHM\n",
        "- categories: [einstein, maxwell, wave equation, lorentz, SR]\n"
      ],
      "metadata": {
        "id": "rc2iYgrs_FXH"
      }
    },
    {
      "cell_type": "markdown",
      "source": [
        "We've been working on an [essay](www.github.com/jhmartel/SR/) on the foundations of special relativity (SR). Why do we invest so much time and effort into SR foundations ? Well honestly because i think the foundations are never taught, so there's alot to say. Moreover the SR converts tend to ignore foundations, evading them and jumping ahead to their conclusions. So the task of foundations is typically neglected by adherents, and it's left to the skeptics to develop the foundational issues. And the student of the history of SR will know that there has _always_ been a strong skeptic school in SR (and GR) and this school frequently included Einstein himself at various times in his life, and for good reason. There is _much_ to critically examine in the SR theory, and this the purpose of our essay.\n"
      ],
      "metadata": {
        "id": "Zhjr9zExlRq2"
      }
    },
    {
      "cell_type": "markdown",
      "source": [
        "# Einstein SR and Maxwell\n",
        "\n",
        "Einstein's theory of special relativity (SR) arose from Einstein's study of Maxwell's equations (ME) circa 1870 AD. But what is the logical and mathematical relation between SR and Maxwell? This is interesting question because they are essentially antagonistic. Although Einstein was much influenced by the Maxwellian field theory viewpoint, his own early work (1905) was based on the antithetical _photon_ model of light.\n",
        "\n",
        "Briefly, by Maxwell equations we understand that in a given reference frame $K$ we have the existence of electric and magnetic fields $E,B$ satisfying the four equations on $div(E), div(B)$ and $curl(E)$ and $curl(B)$ relative to a charge volume density $\\rho$ and electric current density $J$. In vacuum where $\\rho=0$ and $J=0$, composing the first-order Maxwell equations together yields the second-order fact that the coordinate components of $E,B$ satisfy wave equations with speed of propagation $c=\\sqrt{\\epsilon_0 \\mu_0}$. This usually leads to the idea that electromagnetic field disturbances travel at the speed of $c$ in aether. And indeed Maxwell's equations expressly assume an aether as the medium by the which the electromagnetic radiation travels.\n",
        "\n",
        "Now this author does not really accept Maxwell's field equations as being satisfactory. For example, the magnetic field $B$ is not a rectifiable or reifiable field, meaning it has only _potential_ and not any material substance. The same could be said for Maxwell's electric field, which again is a potential field describing the force experienced by a charged test particle. \n",
        "This is the so-called _continental field-theoretic viewpoint_ after Maxwell, etc.\n",
        "\n",
        "However Maxwell's equations were not satisfactory in their predictions on the photoelectric effect. For example, is light a disturbance in the electric _or_ the magnetic field? If light is such a disturbance, then Maxwell equations predict the interaction of the $E$-wave (or is it $B$-wave) with charged test particles. \n",
        "\n",
        "Here it's interesting to compare Einstein's 1905 explanation of the photoelectric effect using the photon particle theory of light. Thus we tend to interpret Einstein's developments of SR from a photon or corpuscular point of view. \n",
        "\n",
        "_Problem_: The classical homogeneous wave equation has the property of the velocity being _dependant_ on the receiver velocity relative to the medium. But SR argues that the assumption on the \"rectilinear uniform propagation of light\" somehow yields a wave equation where velocity is receiver _independant_. But how? [We do not address this important issue here].\n",
        "\n",
        "\n"
      ],
      "metadata": {
        "id": "6DeaSfLzdWjl"
      }
    },
    {
      "cell_type": "markdown",
      "source": [
        "\n",
        "# SR and Lorentz Groups\n",
        "\n",
        "The null result of the Michelson-Morley experiments led to Einstein's postulating the Lorentz transformations relating space and time variables $x,t$. Undoubtedly the theory of SR is summarized in the representations of the Lorentz group of linear transformations, namely the isometry group designated $O(ds^2)=O(3,1)$ and its standard linear action on ${\\bf{R}}^{3,1}$. \n",
        "\n",
        "For the mathematician, once a single linear representation is given, there are many algebraic constructions possible to obtain further representations, for example the symmetric and alternating representations. We develop this idea further to try and bridge the assumptions of SR to Maxwell's equations, and especially the wave equation.\n",
        "\n",
        "Now we discuss several group representations (i.e. linear group actions).\n",
        "\n",
        "First we begin with the standard linear representation $$\\rho_0:{\\bf{R}}^{1,3} \\times L \\to {\\bf{R}}^{1,3}$$ which is the linear representation $\\rho_0$ represented by left matrix multiplication $(v, \\lambda) \\mapsto \\lambda.v$.\n",
        "\n",
        "Next we *dualize*. \n",
        "\n",
        "Let $C({\\bf{R}}^{3,1})$ be the space of polynomial functions on the space. Abbreviate $C:=C({\\bf{R}}^{3,1})$.  Naturally we assemble $C$ from the dual functionals $\\lambda\\in {({\\bf{R}}^{3,1})}^*$. Taking products and polynomials in the dual functions $\\lambda$ we obtain the contragradient represention $$\\rho_0^*:C( {\\bf{R}}^{3,1}) \\times L \\to C({\\bf{R}}^{3,1}). $$ \n",
        "\n",
        "The idea is that the vector spaces $V$ and $V^*$ are isomorphic (non canonically) in finite dimensions. Moreover the algebra generated by $V^*$ yields an (infinite-dimensional) space of polynomial functions on $V$. \n",
        "\n",
        "Now what are vector fields? \n",
        "\n",
        "In differential topology, the vector fields $\\frac{\\partial }{\\partial x}$ *act* on functions as a derivation, i.e. as linear maps $$\\frac{\\partial }{\\partial x}: C \\to C $$ satisfying Liebniz product formula. Iterating the derivations $\\frac{\\partial }{\\partial x}\\circ \\frac{\\partial }{\\partial y}=\\frac{\\partial^2 }{\\partial x \\partial y}$ leads to the usual differential operators, etc..  \n",
        "\n",
        "Consider the d'Alembert operator $$\\square:= \\frac{-1}{c^2} \\frac{\\partial^2}{\\partial t^2} +\\frac{\\partial^2}{\\partial x^2}+\\frac{\\partial^2}{\\partial y^2}+\\frac{\\partial^2}{\\partial z^2}  .$$\n",
        "\n",
        "Our main proposal is to identify the Minkowski squared line element $ds^2$ as *dual* in a linear algebraic sense to the d'Alembert operator $\\square$.\n",
        "\n",
        "To clarify, let us formally relabel the variables $$x_0, x_1, x_2, x_3 = t, x,y,z, $$ respectively. Now the choice of Lorentz metric $h$ can be represented as a square symmetric matrix $$[h]=\n",
        "\\begin{pmatrix} -c^2 & 0 & 0 & 0 \\\\ 0 & 1 & 0 & 0 \\\\ 0 & 0 & 1 & 0 \\\\ 0 & 0 & 0 & 1 \\end{pmatrix}.$$\n",
        "\n",
        "The choice of $h$ allows us to define an isometry between the differential forms and vector fields, i.e. secord order linear operators. Specifically, $h$ allows us to define explicit isometry between symmetric $(2,0)$ tensors and symmetric $(0,2)$ tensors. \n",
        "\n",
        "__Lemma__: The metric $h$ identifies the dual of $ds^2$ with d'Alembert's wave operator $\\square$. That is $(ds^2)^* = \\square.$\n",
        "\n",
        "Proof. The proof is basic linear algebra. First one needs prove that the $h$-dual of $dx_0$ is $dx_0^* =-c^{-2} \\frac{\\partial}{\\partial x_0}$. Likewise we find $dx_i^*=\\frac{\\partial}{\\partial x_i}$ for $i=1,2,3$. This is all in the tangent space, i.e. between $(1,0)$ and $(0,1)$ tensors. Now we consider the squares, i.e. the symmetric $(2,0)$ tensors. We find that $$(ds^2)^*=-c^2 (dx_0^*)^2 + (dx_1^*)^2 + (dx_2^*)^2 + (dx_3^*)^2, $$ and which is equal to $$-c^{-2} (\\frac{\\partial}{\\partial x_0})^2 + (\\frac{\\partial}{\\partial x_1})^2 +(\\frac{\\partial}{\\partial x_2})^2+(\\frac{\\partial}{\\partial x_3})^2, $$ which is equal to d'Alembert's square operator $\\square$ as desired.\n",
        "\n",
        "The Lorentz invariance of $\\square$ shows the solutions to the homogeneous wave equation (HWE) are Lorentz covariant and $\\square \\phi =0$ if and only if $\\square \\lambda \\cdot \\phi =0$ for every Lorentz transformation $\\lambda \\in L$. This is the wave equation version of the fact that the null cone $ds^2=0$ is Lorentz covariant. \n",
        "\n",
        "\n",
        "\n",
        "\n",
        "\n"
      ],
      "metadata": {
        "id": "ZUn8k825hsXw"
      }
    },
    {
      "cell_type": "markdown",
      "source": [
        "Now Einstein's (A12) postulates the *uniform rectilinear* propagation of light in vacuum. This would suggest a corpuscular model of light, being represented as affine parameterized lines $$s\\mapsto (s, x(s), y(s), z(s))=(s, \\gamma(s)) $$ in ${\\bf{R}}^{3,1}$ satisfying $D^2_{ss} \\gamma =0$. \n",
        "\n",
        "Is the equation $D^2_{ss} \\gamma=0$ Lorentz covariant? (Yes?) \n",
        "\n",
        "But what are the corresponding \"*uniform rectilinear*\" solutions $\\phi$ for the dual HWE: $~~\\square \\phi=0$ ? Compare [this](https://ccrma.stanford.edu/~jos/pasp/Spherical_Waves_Point_Source.html)."
      ],
      "metadata": {
        "id": "1sfrivMFQJWB"
      }
    },
    {
      "cell_type": "markdown",
      "source": [
        "An idea: there has always been correspondance between lines in $V$ (one-dimensional linear subspaces) and quadratic functionals via the Segre embedding, or $\\lambda \\mapsto \\lambda^2$ where $\\lambda\\in V^*$ is a linear functional. \n",
        "\n",
        "The following questions will be answered below:\n",
        "\n",
        "* Are the quadratic functions $q(x)=h(v,x)^2/2$ solutions to $\\square =0$ for null vector $v\\in N$? (Yes, we prove below).\n",
        "\n",
        "* Can we find quadratic functions $q$ whose level sets are everywhere orthogonal to the null cone $N$ ? \n",
        "\n",
        "The idea would be to derive some canonical solutions $\\square q=0$ from quadratics arising from vectors on the null cone.\n",
        "\n",
        "If $v$ belongs to null cone, then $q(x):=h(v,x)^2/2$ for $x\\in V$ defines a quadratic function on $V$ with $q(v)=h(v,v)^2=0$. \n",
        "\n",
        "It's clear that $q$ is minimized along $v^\\perp$, i.e. $q(x,v)=0$ for all $x\\in v^\\perp$ and $v\\in v^\\perp$. Here $v^\\perp$ consists of all $u$ such that $h(u,v)=0$.\n",
        "\n",
        "__Lemma__. _For every vector $v\\in {\\bf{R}}^{3,1}$, let $q(x):=h(v,x)^2/2$ be the quadratic form defined by $v$. Then $\\square q=0$ if and only if $v \\in N$ and  $h(v,v)=0$._\n",
        "\n",
        "_Proof._ We claim that $\\square q=h(v,v)$ when $q(u)=h(v,u)^2/2$.\n",
        "\n",
        "If the vector $v$ has coordinates $v=\\langle v_t, v_x, v_y, v_z \\rangle$, then $h(v,x)^2$ is equal to $$(-c^2 v_t t + v_xx+ v_yy+ v_zz)^2/2,$$  which is equal to $$c^4 v_t^2 t^2 +v_x^2 x^2 + v_y^2 y^2 + v_z^2 z^2 + (mixed~ terms).$$\n",
        "Applying d'Alembert's operator we find $$\\square q =2( -c^2 v_t^2+v_x^2 + v_y^2 + v_z^2)=2 h(v,v),$$ since $\\square(mixed~~terms)=0$ and the claim follows. \n",
        "\n",
        "Thus we find that null vectors $v\\in N$ yield solutions $q_v$ to HWE. A superposition principle also applies, where any signed measure $\\mu \\in \\mathscr{M}(N)$ yields a $\\mu$-averaged solution $q(x):=\\int_N q_v (x) d\\mu(v)$ to the HWE. \n",
        "\n"
      ],
      "metadata": {
        "id": "gIfECdy-Yarz"
      }
    },
    {
      "cell_type": "markdown",
      "source": [
        "# Levi-Civita and Einstein's Geometric Optics\n",
        "\n",
        "In Levi-Civita's \"Absolute Differential Calculus\", Einstein's applications of SR to geometric optics (theory of light propagation) is summarized in two equations.\n",
        "\n",
        "First we have $$ds^2=0$$ and $$\\delta \\int ds=0.$$\n",
        "\n",
        "Here $$ds^2=-c^2 dt^2 + dx^2+dy^2+dz^2$$ is the Lorentzian quadratic form.  The Lorentz invariance of $ds^2$ implies the null cone $ds=0$ is Lorentz invariant. \n",
        "\n",
        "In the second equation $\\delta$ is the _variational derivative_ of the functional $\\gamma \\mapsto \\int_\\gamma ds$, and the equation is an expression in the _calculus of variations_ similar to Hamilton's principle and Fermat's least time principle. There is a difficulty in reconciling the above equations because the line element $ds$ vanishes identically on the null cone, and therefore the functional $\\gamma \\mapsto \\int_\\gamma ds$ is identically zero on curves $\\gamma$ which are everywhere tangent to the null cone. This difficulty is admitted in Levi-Civita's textbook. \n",
        "\n"
      ],
      "metadata": {
        "id": "w0qocVfXcohJ"
      }
    },
    {
      "cell_type": "markdown",
      "source": [
        ""
      ],
      "metadata": {
        "id": "CtWL_AmJd9QW"
      }
    }
  ]
}