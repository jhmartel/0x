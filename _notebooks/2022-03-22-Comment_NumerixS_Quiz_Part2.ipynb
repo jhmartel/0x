{
  "nbformat": 4,
  "nbformat_minor": 0,
  "metadata": {
    "colab": {
      "name": "Comment_NumerixS_Quiz-Part2.ipynb",
      "provenance": [],
      "collapsed_sections": [],
      "authorship_tag": "ABX9TyMRlOpWARAkzec+wnlDG4bh",
      "include_colab_link": true
    },
    "kernelspec": {
      "name": "python3",
      "display_name": "Python 3"
    },
    "language_info": {
      "name": "python"
    }
  },
  "cells": [
    {
      "cell_type": "markdown",
      "metadata": {
        "id": "view-in-github",
        "colab_type": "text"
      },
      "source": [
        "<a href=\"https://colab.research.google.com/github/jhmartel/fp/blob/master/_notebooks/2022-03-22-Comment_NumerixS_Quiz_Part2.ipynb\" target=\"_parent\"><img src=\"https://colab.research.google.com/assets/colab-badge.svg\" alt=\"Open In Colab\"/></a>"
      ]
    },
    {
      "cell_type": "markdown",
      "source": [
        "# \"Comments on NumerixS Quiz. Part 2.\"\n",
        "\n",
        "*   List item\n",
        "*   List item\n",
        "\n",
        "\n",
        "> \"Just reflection ...\"\n",
        " \n",
        "- toc: false\n",
        "- branch: master\n",
        "- badges: true\n",
        "- comments: true\n",
        "- categories: [NumerixS]\n",
        "- hide: false\n",
        "- search_exclude: true"
      ],
      "metadata": {
        "id": "L6YE-vxbCSz5"
      }
    },
    {
      "cell_type": "markdown",
      "source": [
        "Comments on the Ten Question, Multiple Choice, 40 minute quiz from NumerixS. \n",
        "\n",
        "# Strange Question: \n",
        "\n",
        "For an integer $n$ define $S(n)$ to be the _sum of the decimal digits_ of $n$. \n",
        "So $S(18)=1+8=9$ and $S(128)=1+2+8=11$, etc. \n",
        "\n",
        "Question: Evaluate $S(S(S(333^{333})))$. If I counted right there were three or four evaluations of $S$. \n",
        "\n",
        "I know $333$ has digits which sum to $9$, so $333$ and it's $333$rd power has digits which sum to a multiple of $9$. This is related the idea of \"casting out nines\" or \"casting out threes\" from integers. So the only possibly answers for the composition is multiples of $9$: like $9, 18, 27$, etc.. But i figured the number in question $333^{333}$ is very large, so it likely has alot of multiples of $9$, and i chose $18$ as the answer. But that was a guess. \n",
        "\n",
        "Can I use python to determine the answer? \n",
        "\n",
        "Thoughts Preliminaire:\n",
        "1. How to compare $S(333)=9$ with the $333$rd power? \n",
        "2. How about the square, cube, ...., i.e. what can we infer from the small-dimensional cases? \n",
        "\n"
      ],
      "metadata": {
        "id": "CTAk7-dO1D8Q"
      }
    },
    {
      "cell_type": "code",
      "execution_count": 44,
      "metadata": {
        "colab": {
          "base_uri": "https://localhost:8080/"
        },
        "id": "3ueqqhg51Cfc",
        "outputId": "7c8a3061-8af6-445a-c9c6-93d3aa2fff3f"
      },
      "outputs": [
        {
          "output_type": "stream",
          "name": "stdout",
          "text": [
            "The sum of the digits of the 2 th power of 333 is: \n",
            " 27\n",
            "The sum of the digits of the 27 th power of 333 is: \n",
            " 288\n"
          ]
        }
      ],
      "source": [
        "\n",
        "def S(n):\n",
        "    sum = 0\n",
        "    while n > 0:\n",
        "        digit = n % 10\n",
        "        sum = sum + digit\n",
        "        n = n // 10\n",
        "    return sum\n",
        "\n",
        "\n",
        "def Test(k, n):\n",
        "    print(\"The sum of the digits of the\", k, \"th power of 333 is: \\n\", S(n**k)  )\n",
        "\n",
        "## The above is a terrible way to compute the sum of the digits of the desired power. \n",
        "## Is there a recursive evaluation ? Would require some identity among the powers and the sum of the digits.\n",
        "\n",
        "Test(2, 333) \n",
        "Test(27, 333)"
      ]
    },
    {
      "cell_type": "markdown",
      "source": [
        "Is there a simpler way, I dont know"
      ],
      "metadata": {
        "id": "5-JOsu_1CuzM"
      }
    },
    {
      "cell_type": "code",
      "source": [
        "# hide\n",
        "S(5234)"
      ],
      "metadata": {
        "colab": {
          "base_uri": "https://localhost:8080/"
        },
        "id": "SyMWdd-PO0-d",
        "outputId": "3128d8f7-6b69-41a3-9979-f23fbac7c5d8"
      },
      "execution_count": 31,
      "outputs": [
        {
          "output_type": "stream",
          "name": "stdout",
          "text": [
            "4\n",
            "523\n",
            "3\n",
            "52\n",
            "2\n",
            "5\n",
            "5\n",
            "0\n"
          ]
        },
        {
          "output_type": "execute_result",
          "data": {
            "text/plain": [
              "14"
            ]
          },
          "metadata": {},
          "execution_count": 31
        }
      ]
    },
    {
      "cell_type": "markdown",
      "source": [
        "# Another Question:\n",
        "\n",
        "Here is another question, actually pretty standard, and I'm mad at myself that I messed it up. We suppose that we have ten coins. The first nine of these coins are fair heads/tails coins. The tenth coin is not fair, and flips to heads with probability 1 (i.e. the tenth coin has only heads). \n",
        "\n",
        "Suppose we randomly uniformly select one of the ten coins, and flip it three times and observe the outcome HHH (heads x3). Then the question is: _What is the probability that the chosen coin was the tenth unfair coin??_\n",
        "\n",
        "Let $X$ be the observed event of flipping the coin three times and having $HHH$. The question is to find $$P(\\text{Unfair Coin} ~ | X),$$ i.e. the probability of the unfair coin being selected. \n",
        "\n",
        "Then Bayes formula yields $$P(UC | X) = P( X|UC) \\frac{P(UC)}{P(X)}.$$ We know $P(X|UC)=1$. Moreover $P(UC)=1/10$. Finally we can determine $P(X)$ by the formula $$P(X)=P(X | FC) P(FC) + P(X | UC) P (UC).$$ Here $FC$ refers to the event of a \"fair coin\" being selected. Thus we find $$P(X)=\\frac{1}{2^3} \\frac{9}{10} + 1 \\frac{1}{10} = .\\frac{1}{10} \\frac{17}{8}.$$ Therefore $$P(UC |X ) = 1 . \\frac{1}{10} \\frac{10 . 8}{ 17}=\\frac{8}{17}.$$\n",
        "\n"
      ],
      "metadata": {
        "id": "aAUG5dYKtzgr"
      }
    },
    {
      "cell_type": "markdown",
      "source": [
        "That's all for now!\n",
        "-JHM"
      ],
      "metadata": {
        "id": "0SBVvGptxU8y"
      }
    }
  ]
}