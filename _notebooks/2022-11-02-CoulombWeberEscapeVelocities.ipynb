{
  "nbformat": 4,
  "nbformat_minor": 0,
  "metadata": {
    "colab": {
      "provenance": [],
      "collapsed_sections": [],
      "authorship_tag": "ABX9TyOf+N95PT5jE8MVLRjV0gpp",
      "include_colab_link": true
    },
    "kernelspec": {
      "name": "python3",
      "display_name": "Python 3"
    },
    "language_info": {
      "name": "python"
    }
  },
  "cells": [
    {
      "cell_type": "markdown",
      "metadata": {
        "id": "view-in-github",
        "colab_type": "text"
      },
      "source": [
        "<a href=\"https://colab.research.google.com/github/jhmartel/fp/blob/master/_notebooks/2022-11-02-CoulombWeberEscapeVelocities.ipynb\" target=\"_parent\"><img src=\"https://colab.research.google.com/assets/colab-badge.svg\" alt=\"Open In Colab\"/></a>"
      ]
    },
    {
      "cell_type": "markdown",
      "source": [
        "# Brief Remark on Coulomb vs Weber Escape Velocities. \n",
        "\n",
        "> \"We continue to investigate Weber's force law in the two body isolated system. In this post we briefly remark on the difference in escape velocities as computed by Coulomb and Weber's force law. Elementary post.\"\n",
        "\n",
        "- toc: false\n",
        "- branch: master\n",
        "- badges: true\n",
        "- comments: true\n",
        "- author: JHM\n"
      ],
      "metadata": {
        "id": "rrfASi0a2w3E"
      }
    },
    {
      "cell_type": "markdown",
      "source": [
        "# _Coulomb vs Weber Law: \"An Experiment Based On Escape Velocities?\"_\n",
        "\n",
        "Wilhelm Weber proposed a dynamic generalization of Coulomb's electrostatic force law which also included Ampere's circuit law and Faraday-Volta induction. Despite Weber's amazing achievements, along with Gustav Kirchoff, his electrical force law is not widely known among physicists today. Why? The Maxwellian field viewpoint is still dominant among the preferences of modern day phyiscs, and Weber is an instananeous action at a distance. \n",
        "\n",
        "In this post we consider the question of comparing escape velocities for electrical particles, specifically an isolated pair of oppositely charged particles $(+)$ and $(-)$. In our setting the particles have identical inertial masses $m_1=m_2=1.0$ and opposite electrical charge $q_1q_2 =-1.0$. \n",
        "\n",
        "Now the simple question we examine is computing escape velocities, which we define as velocities $v=v_{esc}$ of the particles which eventually escape to infinity, i.e. the boundary of the potential $U=0$. \n",
        "\n",
        "With respect to the Coulomb potential we have $$U=\\frac{q_1q_2}{r}$$ and the equation defining the escape velocity is $$ U+T = 0 = \\frac{q_1q_2}{r} + \\frac{1}{2} \\mu {v^2}_{esc}.$$ This implies $$\\frac{v^2}{2c^2} = \\frac{-q_1 q_2}{\\mu c^2 r}.$$ Our choice of notation will be motivated below.\n",
        "\n",
        "For the Weber potential we find the escape velocity $r'$ satisfies the equation $$U + T = 0 = \\frac{q_1q_2}{r} \\left(1-\\frac{{r'}^2}{2c^2} \\right) + \\frac{1}{2} \\mu {r'^2}.$$ \n",
        "\n",
        "Solving for $r'^2/2c^2$ yields: $$\\frac{r'^2}{2c^2} = \\frac{1}{1 - \\frac{\\mu c^2 r}{q_1 q_2}},$$ which evidently satisfies $\\leq 1.0$ whenever $q_1 q_2 < 0$. \n",
        "\n",
        "The difference between the quantities $$\\frac{r'^2}{2c^2}-\\frac{v^2_{esc}}{2c^2}$$  is like the difference $$\\frac{1}{\\xi} - \\frac{1}{\\xi+1}$$ for $\\xi>0$ where we define $\\xi=\\frac{-\\mu c^2}{q_1 q_2} r$ and evidently $\\xi\\geq 0$ by our choice of $q_1 q_2 < 0$."
      ],
      "metadata": {
        "id": "BcueRYf1suNY"
      }
    },
    {
      "cell_type": "markdown",
      "source": [
        "# _A Very Simple Graph:_\n",
        "\n",
        "Let's compare the Coulomb and Weber escape velocities:"
      ],
      "metadata": {
        "id": "0EXeqJ4z0eOv"
      }
    },
    {
      "cell_type": "code",
      "execution_count": null,
      "metadata": {
        "colab": {
          "base_uri": "https://localhost:8080/",
          "height": 295
        },
        "id": "Ys4zKyW1stOY",
        "outputId": "1b29a2e1-4f73-494c-d1f2-2169c3c0efa7"
      },
      "outputs": [
        {
          "output_type": "display_data",
          "data": {
            "text/plain": [
              "<Figure size 432x288 with 1 Axes>"
            ],
            "image/png": "[encoded data removed]"
          },
          "metadata": {
            "needs_background": "light"
          }
        }
      ],
      "source": [
        "# collapse\n",
        "\n",
        "import numpy as np\n",
        "import matplotlib.pyplot as plt\n",
        "\n",
        "x = np.linspace(0.05, 1, 100)\n",
        "y0 = 1/(x+1)\n",
        "y = 1/x\n",
        "#print('Values of x: ', x)\n",
        "#print('Values of y: ', y)\n",
        "plt.plot(x, y, \"b\", label = \"Coulomb Escape Velocity\")\n",
        "plt.plot(x, y0, \"g\", label = \"Weber Escape Velocity\")\n",
        "plt.title(\"Coulomb vs Weber Escape Velocities\")\n",
        "plt.xlabel(\"Rescaled radial distance ξ \")\n",
        "plt.ylabel(\"Energies (1/2)*(r'/c)**2\")\n",
        "plt.legend()\n",
        "\n",
        "\n",
        "plt.show()"
      ]
    },
    {
      "cell_type": "markdown",
      "source": [
        "Weber's formula for the escape velocity is: $$\\frac{r'^2}{2c^2} = \\frac{1}{1 - \\frac{\\mu c^2 r}{q_1 q_2}}.$$ As the distance $r>0$ approaches $r \\to 0^+$ we see the escape velocity limits to unity, which represents $$r'^2 = 2c^2.$$ The $2$ is a convention, but this _is_ a speed of light upper bound for the escape velocities. \n",
        "\n",
        "So we observe:\n",
        "\n",
        "- Weber predicts that the speed of light is the limiting escape velocity for two body systems of opposite charge. \n",
        "\n",
        "- The Coulomb escape velocity diverges to $+\\infty$ as the particles approach $r\\to 0^+$. This suggests that Coulomb requires _superluminal_ escape velocities at distances $r$ satisfying $\\frac{-q_1 q_2}{\\mu c^2 r} \\geq 1,$ or equivalently $$0 < r < \\frac{-q_1 q_2}{\\mu c^2}. $$ \n",
        "\n",
        "__Conclusion?__\n",
        "\n",
        "If one can experimentally witness the _escape_ of opposite charge particles below the speed of light, as is expected, for \"relatively close\" particles, then this would in itself disqualify the Coulomb fact (and this is no surprise). But can we quantify what exactly the Weber force law predicts? If the formula is correct then there ought to be fairly good correspondance between the predictions.  \n",
        "\n",
        "[Incomplete: add concrete physical apparatus]\n",
        "\n",
        "-JHM"
      ],
      "metadata": {
        "id": "HBq-2AuyzD6X"
      }
    }
  ]
}