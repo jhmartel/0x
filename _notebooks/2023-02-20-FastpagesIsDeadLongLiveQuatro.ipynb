{
  "nbformat": 4,
  "nbformat_minor": 0,
  "metadata": {
    "colab": {
      "provenance": [],
      "authorship_tag": "ABX9TyMQnquQINwg5qJFI9Ojl7UI",
      "include_colab_link": true
    },
    "kernelspec": {
      "name": "python3",
      "display_name": "Python 3"
    },
    "language_info": {
      "name": "python"
    }
  },
  "cells": [
    {
      "cell_type": "markdown",
      "metadata": {
        "id": "view-in-github",
        "colab_type": "text"
      },
      "source": [
        "<a href=\"https://colab.research.google.com/github/jhmartel/fp/blob/master/_notebooks/2023-02-20-FastpagesIsDeadLongLiveQuatro.ipynb\" target=\"_parent\"><img src=\"https://colab.research.google.com/assets/colab-badge.svg\" alt=\"Open In Colab\"/></a>"
      ]
    },
    {
      "cell_type": "markdown",
      "source": [
        "# Fastpages is Deprecated. Migrating to Quarto. Stay Tuned. We Will Look Better Than Ever.\n",
        "> \" Fastpages was excellent tool, but is depecrated since Novemeber 2022 (!) and we will begin migrating to the quarto. Stay tuned. The reader will notice the site is not rendering nicely. \"\n",
        "\n",
        "- toc: true \n",
        "- badges: true\n",
        "- comments: true\n",
        "- categories: [jupyter]"
      ],
      "metadata": {
        "id": "9ynqgHlu4SXf"
      }
    }
  ]
}