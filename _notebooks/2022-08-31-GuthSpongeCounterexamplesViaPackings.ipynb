{
  "nbformat": 4,
  "nbformat_minor": 0,
  "metadata": {
    "colab": {
      "name": "2022-08-31-GuthSpongeCounterexamplesViaPackings",
      "provenance": [],
      "collapsed_sections": [],
      "authorship_tag": "ABX9TyNIz9pqkzYRohQAGCxba2Uq",
      "include_colab_link": true
    },
    "kernelspec": {
      "name": "python3",
      "display_name": "Python 3"
    },
    "language_info": {
      "name": "python"
    }
  },
  "cells": [
    {
      "cell_type": "markdown",
      "metadata": {
        "id": "view-in-github",
        "colab_type": "text"
      },
      "source": [
        "<a href=\"https://colab.research.google.com/github/jhmartel/fp/blob/master/_notebooks/2022-08-31-GuthSpongeCounterexamplesViaPackings.ipynb\" target=\"_parent\"><img src=\"https://colab.research.google.com/assets/colab-badge.svg\" alt=\"Open In Colab\"/></a>"
      ]
    },
    {
      "cell_type": "markdown",
      "source": [
        "# An Idea on Constructing Counterexamples to Larry Guth's Sponge Problem using Jammed Packings.\n",
        "\n",
        "> \"We record some ideas based on rigid disk packings to potentially construct open sets with arbitarily small volume and which cannot be expanded-embedded into the unit disk.\"\n",
        "\n",
        "- toc: false\n",
        "- branch: master\n",
        "- badges: true\n",
        "- comments: true\n",
        "- author: JHM\n",
        "- categories: [fastpages, jupyter]\n",
        "\n"
      ],
      "metadata": {
        "id": "oe95nM48QzPY"
      }
    },
    {
      "cell_type": "markdown",
      "source": [
        "In this post I'm simply calling attention to a possible counterexample to Larry Guth's Sponge Problem. I have other interests at the moment, so I know I won't be working on this problem for awhile and I leave my notes here in case somebody else wants to complete it. This same idea, in even less developed form, was posted on Mathoverflow here:  https://mathoverflow.net/questions/381172/status-of-larry-guths-sponge-problem.\n",
        "\n",
        "See also: https://www.github.com/jhmartel/Sponge/\n",
        "\n",
        "The idea is how to use jammed disk packings to construct counterexamples to Larry Guth's Sponge Problem. These will be packings which have a large linear diameter but have arbitrarily small volume (i.e. arbitrarily low \"density\" in the terminology of disk packings). The most interesting constructions of arbitrarily small density packings are constructed by Werner Fischer (see references in the above Mathoverflow post). Our idea is that from these packings we can construct open subsets $V$ with arbitarily small volume and which do not admit any expanding-embeddings into the unit disk. \n",
        "\n",
        "A negative answer to Guth's Sponge Problem implies that Guth's proof of the width-volume inequalities [ref] cannot be simplified or deduced from width-volume inequalities on the unit disk. In otherwords, Guth's very interesting proof [ref] remains also a necessary proof.\n",
        "\n",
        "The above idea is not rock solid. What we have not proven is the following statement: \n",
        "\n",
        "Unproven Lemma: Let $P$ be a disk packing of an open subset $U$ of ${\\bf{R}}^n$. If $P$ is rigid relative to $U$, then $diam(f(U)) \\geq diam(U)$ for all expanding-embedding maps $f: U \\to {\\bf{R}}^n$. \n",
        "\n",
        "Here $diam$ refers to the linear diameter of $U$ as a subset of ${\\bf{R}}^n$. We say $P$ is rigid relative to $U$ if for every force load $b$, the packing cannot be rearranged without some outward-expansion on the boundary $\\partial U$.\n",
        "\n",
        "So the rough idea is that : force loads $b$ cause a reaction in the packing, and what's interesting is whether the load forces the domain $U$ containing $P$ to increase in volume. \n",
        "\n",
        "However what can possibly happen is that the force load $b$ causes an expansive rearrangement of the disks in the packing, and where the volume of $U$ increases, but potentially the disks can then be rearranged in a configuration with smaller linear diameter.\n",
        "\n",
        "Perhaps the correct lemma is this: \n",
        "If $P$ is a disk packing in $U$, and $P$ is rigid relative to $U$, and if $U$ has minimal possible linear diameter containing $P$ (this implies $U$ is a subset of the smallest disk containing $P$), then $diam(f(U)) \\geq diam(U)$ for every expanding-embedding $f$ of $U$.\n",
        "\n",
        "What we are seeking is some sort of monotonicity property. However it's possible that monotonicity can hold only for limited types of open subsets, for example those $U$ containing the packing $P$ and the minimal disk containing $P$. (I know there's alot of definitions here, some implicit, and I'm rushing.)\n",
        "\n",
        "These ideas are related to the recent results that \"Dionysian packings of arbitrarily small density can be mechanically rigid\" [ref]. [https://www.youtube.com/watch?v=M62Fewh-dHw]\n",
        "\n",
        "\n",
        "\n"
      ],
      "metadata": {
        "id": "plAh6tQznzw3"
      }
    }
  ]
}