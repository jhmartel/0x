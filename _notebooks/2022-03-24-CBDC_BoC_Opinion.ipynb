{
  "nbformat": 4,
  "nbformat_minor": 0,
  "metadata": {
    "colab": {
      "name": "BoC_CBDC_Opinion.ipynb",
      "provenance": [],
      "collapsed_sections": [],
      "authorship_tag": "ABX9TyNFgXHSb46LD41jtHnTk0Xr",
      "include_colab_link": true
    },
    "kernelspec": {
      "name": "python3",
      "display_name": "Python 3"
    },
    "language_info": {
      "name": "python"
    }
  },
  "cells": [
    {
      "cell_type": "markdown",
      "metadata": {
        "id": "view-in-github",
        "colab_type": "text"
      },
      "source": [
        "<a href=\"https://colab.research.google.com/github/jhmartel/fp/blob/master/_notebooks/2022-03-24-CBDC_BoC_Opinion.ipynb\" target=\"_parent\"><img src=\"https://colab.research.google.com/assets/colab-badge.svg\" alt=\"Open In Colab\"/></a>"
      ]
    },
    {
      "cell_type": "markdown",
      "source": [
        "# Brief Remarks on Designing Bank of Canada's CBDC:\n",
        "> \"How to design the CBDC. Part 1.\"\n",
        "- toc: false\n",
        "- branch: master\n",
        "- badges: true\n",
        "- comments: true\n",
        "- categories: [money, BoC, CBDC]\n",
        "- hide: false\n",
        "- search_exclude: false"
      ],
      "metadata": {
        "id": "2dI5eB2G4A21"
      }
    },
    {
      "cell_type": "markdown",
      "source": [
        "It's clear that BoC is actively investigating CBDC's, and they've even \n",
        "received the mandate from WEF via their Project Jasper to implement a national CBDC. For better or worse, the digitization of all assets marches on. So if BoC wants to further digitize the monetary functions of the Bank of Canada, then alot of questions arise.\n",
        "\n",
        "First I would have to ask \"Why?\", \"What are the goals of the CBDC?\" \n",
        "\n",
        "For it naively appears that electronic money has already been achieved via Interac cards and the debit payment system. So what is deficient in the current form of electronic money? What is the CBDC going to solve for the BoC? What is the valued-added? What is the value-added for the bank versus for the public versus for the individual?. \n",
        "\n",
        "The cryptocurrencies have provoked a reaction from central banks around the world, because crypto's are _monetary competitors_. In otherwords, the public is off-loading their fiat dollars, and exchanging for digital tokens on various network ledgers. So competition has entered, and the central banks are reacting. Presently BoC estimates that only 5 per cent of Canadians have BTC (this is surely an underestimate), so there appears to be relatively small demand for cryptocurrencies, and almost _zero demand_ for central bank digital currencies. \n",
        "\n",
        "Personally, a person might be willing to invest in digital yuan, say, in the prospect of that foreign currency being backed by hard money gold reserves. But any foreign holder of digital yuan (especially at this relatively early stage) is subject to a large amount of spam, and inquiries, and phishing emails. In otherwords, acquiring the digital yuan comes with a diminished privacy and/or anonymity. This is something of a liability to the foreign holder of digital yuan.\n",
        "\n",
        "We observe that the central banks, and specifically BoC, are keen to _distinguish_ their CBDC's from the general cryptocurrencies. I.e. it is strongly discouraged to conflate or equivocate \"CBDCs\" with \"cryptos\". This has various motivations, e.g. branding and marketing to control public opinion, but it's also an important _technical_ distinction, for the CBDC will be strongly _centralized_ with the BoC. \n",
        "\n",
        "How? \n",
        "\n",
        "Let's comment on centralized versus decentralized currencies.\n",
        "The decentralization in crypto refers to various properties of the networks. First, it refers to the fact that transactions can be confirmed by any node that either solves the nonce problem (in PoW) or is randomly elected (where the random choice is decentrally chosen).\n",
        "\n",
        "In BTC's original design, there was an anti-inflationary mechanism, namely in the \"halving\" principle and miner rewards. The miners expend the energy and invest in the IT infrastructure to send and receive and confirm transactions in the ledger, and in most cases, the miner's receive token rewards for these services. Eventually, I think it's approximately 2150 AD, the miners will not receive any BTC rewards, and there will be a strict fee structure. I don't think anybody has any idea whether this will sufficiently motivate miners to preserve the integrity of the ledger, i.e. it might become more profitable to destroy the record of the ledger. \n",
        "\n",
        "There are differences between proof-of-work (like original BTC) or proof-of-stake (like ETH, or ADA). But the point is that tokens are issued as rewards for miners and nodes. The various cryptocurrencies have different governance policies for how tokens are distributed, to prevent monetary inflation. This is indeed one of the standard arguments in favour of BTC as \"perfect money\" (although we don't necessarily agree with Saylor, Keiser, Breedlove, et.al. that BTC is \"perfect\" money.) \n",
        "\n",
        "The Bank Of Canada has a monopoly on printing currency (i.e. fiat dollar bills, or electronic money), and it's extremely unlikely that they will surrender this monopoly in their CBDC. (It's basically certain, since this monopoly is the exclusive right and foundation of BoC's mandate). This is one reason why BoC cannot allow cryptocurrencies to compete with BoC's dollar -- if people flee the Canadian dollar, then the main tool and mandate of the BoC (control of monetary supply) is annulled. \n",
        "\n",
        "So we can assume that the goal of the CBDC is to have tokens which can only be issued by the centralized authority of BoC. This suggests that BoC will either develop their own network for CBDC transactions (extremely unlikely, i think), or they will attempt to build their token on top of another pre-existing network. For example, the BoC's CBDC's might essentially be smart contracts on top of either Ripple (XRP) ledger or Stellar (XLM) ledger, or something else. For security purposes I would recommend ADA (Cardano). \n",
        "\n",
        "This raises the question \"What will the form of the CBDC smart contracts take?\" Reading the central bank literature,  from our open source public civilian position, it appears that the BoC desires a CBDC with the following properties.\n",
        "\n",
        "1. CBDC's must enable negative interest rates. (c.f. IMF's \"Breaking the zero bound\", and Mme. Freeland's comments on \"savings as preloaded stimulus\").\n",
        "\n",
        "2. CBDC's will be \"programmeable money\", i.e. the CBDC will be nonfungible. If the CBDC seeks maximal control, then purchases would be validated depending on the parameters (PersonalID,  VendorID, ItemID, Price. The PersonalID will have an associated \"clearance\" or \"allowance\" of goods and services. These clearances/allowances are like digital permissions, saying \"This Person X is permitted to purchase Item Y from vendor Z at this time and date and location at this price up to this amount\".  \n",
        "\n",
        "3. CBDC's will require static, hardcoded digital identities for the public. In otherwords, the pseudo-anonymity of general cryptocurrencies will be replaced with total disclosure of the users to the centralized authority. E.g., if dollar bills always had GPS and PersonalID embedded which exclusively is updated and permissioned by a centralized authority. Moreover the total history of the bill would be recorded in a ledger.\n",
        "\n",
        "Cryptocurrencies (in general) can function with pseudo-anonymous addresses and multiple wallets for users. However the CBDC can _only_ function with hard-coded digital identity for all public users.\n",
        "\n",
        "4. CBDC must allow the BoC to directly control and monopolize monetary supply. \n",
        "\n",
        "So we must examine how the BoC will maintain CBDC supply, and the \"fiat price\" of the CBDC, on the chains. In principle, there exists nearly zero cost for the BoC to issue new money. I.e. they \"print\" money (brrrrr) either with electronic entries or by increasing the physical printed money supply (at some fixed cost). \n",
        "\n",
        "Moreover, there is another issue. If the CBDC is a contract on top of, say, the Ripple ledger, then what prevents users from bypassing the BoC CBDC and directly acquiring XRP tokens? For the XRP tokens will be \"harder money\" than the CBDC, and there will be a flow from CBDC to XRP via Gresham's Law. This will require some law or federal emergency mandate that \"only authorized participants\" will be allowed to hold and trade cryptocurrencies. And indeed this is a trend observed around the world.\n",
        "\n",
        "There's more to say, but I'll keep it short for now.\n",
        "-JHM."
      ],
      "metadata": {
        "id": "f1P2-6jRLE45"
      }
    }
  ]
}