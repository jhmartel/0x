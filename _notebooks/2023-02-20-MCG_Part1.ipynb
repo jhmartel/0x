{
  "nbformat": 4,
  "nbformat_minor": 0,
  "metadata": {
    "colab": {
      "provenance": [],
      "authorship_tag": "ABX9TyNQyABhdmaQ2yoZKhYzrpwZ",
      "include_colab_link": true
    },
    "kernelspec": {
      "name": "python3",
      "display_name": "Python 3"
    },
    "language_info": {
      "name": "python"
    }
  },
  "cells": [
    {
      "cell_type": "markdown",
      "metadata": {
        "id": "view-in-github",
        "colab_type": "text"
      },
      "source": [
        "<a href=\"https://colab.research.google.com/github/jhmartel/fp/blob/master/_notebooks/2023-02-20-MCG_Part1.ipynb\" target=\"_parent\"><img src=\"https://colab.research.google.com/assets/colab-badge.svg\" alt=\"Open In Colab\"/></a>"
      ]
    },
    {
      "cell_type": "markdown",
      "source": [
        "# Closing Steinberg Symbols of Mapping Class Groups (1/5)\n",
        "\n",
        "> \" Beginning of a longer series on Closing Steinberg symbols in Mapping Class Groups of Riemann Surfaces. Alot of descriptives. The problem is to find well-rounded hyperbolic surfaces. We have a strategy, which we will explain below.\" \n",
        "\n",
        "- toc: false\n",
        "- branch: master\n",
        "- badges: false\n",
        "- comments: true\n",
        "- author: JHM\n",
        "- categories: [mcg]"
      ],
      "metadata": {
        "id": "0MqEscIvi1rp"
      }
    },
    {
      "cell_type": "markdown",
      "source": [
        "# _Closing Steinberg Symbols of Mapping Class Groups and Construction of Equivariant Spines of Teichmueller Space Using Reduction To Singularity Technique._ \n",
        "\n",
        "This article introduces an algebraic problem we call Closing the Steinberg symbol (CS) of the mapping class group $G=MCG(S)$ of compact hyperbolic surfaces $S=S_g$ for $g\\geq 2$. \n",
        "\n",
        "Solving (CS) requires finding finite subsets $I$ of $G$ which satisfy a subset sum condition, namely that the translates $\\sum_{\\phi \\in I}\\phi.B$ of a certain chain sum $B:=\\sum_i \\alpha_i$ represent a nontrivial homology cycle. \n",
        "\n",
        "When formal solutions $I$ to (CS) satisfy additional metric convexity properties relative to a geometric model $X:=Teich(S)$ of Teichmueller space, then we obtain an interesting supply of candidate equivariant deformation retracts $X \\leadsto Z$ onto subvarieties $Z \\hookrightarrow X$. The construction of these retracts and their properties is based on the author's Reduction-to-Singularity method. Thus we examine the problem of Closing Steinberg symbols as an important tool for constructing small dimensional $EG$ models and candidate spines. "
      ],
      "metadata": {
        "id": "aIoMyOu2tvBj"
      }
    },
    {
      "cell_type": "markdown",
      "source": [
        "# _Introducing Mapping Class Groups_ $G=MCG(S)$ _of Hyperbolic Surfaces_ $S_g$.\n",
        "\n",
        "Let $S=S_g$ be a closed hyperbolic surface of genus $g \\geq 2$. Let $G:=MCG(S)=Mod(S)$ be the mapping class group of $S$. \n",
        "\n",
        "The topologists define $$MCG(S):=\\pi_0(Diff_+(S))$$ as the group of orientation preserving diffeomorphisms of $S$ modulo isotopy.\n",
        "\n",
        "The algebraists define $MCG(S)$ via Dehn-Nielsen-Baer's theorem $$MCG(S)=Out(\\pi_1(S))$$ where $\\pi_1(S)=\\pi_1(S, pt)$ is Poincare's pointed fundamental group.\n",
        "\n",
        "The choice of definition is a question of taste. We prefer the definition via outer automorphisms, since it's more algebraic and categorical. But admittedly both definitions are abstract, and not readily computable.\n",
        "\n",
        "A key role in our analysis is played by the action of $G$ on the simplicial curve complex $C:=C(S)$ and its reduced singular homology and chain groups ${\\tilde{H}}_*(C, {\\bf{Z}})$ considered as ${\\bf{Z}}G$ modules. \n",
        "\n",
        "# _The Simplicial Curve Complex_ $C=C(S_g)$ _of a Compact Hyperbolic Surface_ $S_g$: \n",
        "\n",
        " Recall the curve complex $C=C(S)$ of the surface is the simplicial complex whose $0$-skeleton (vertices) $C^0$ consists of simple closed curves (modulo isotopy), and where a simplex exists between vertices $a,b,c,\\ldots$ if the curves are simultaneously pairwise disjoint on $S$. \n",
        " \n",
        "For example in genus $g=2$, the curve complex $C(S_2)$ is a two-dimensional infinite simplicial complex. Obviously $G$ acts simplicially on $C$ and the singular homology groups of $C$. \n",
        "\n",
        "# _Group Cohomology and Bieri-Eckmann Homological Duality_\n",
        "\n",
        "The group-theoretic cohomology of $G$ is defined via the symmetries of proper discontinuous actions $X \\times G \\to X$ on $EG$ models $X$. The standard $EG$ model for the mapping class group is Teichmueller's $X=Teich(S_g)$, a topological $(6g-6)$-cell $\\simeq {\\bf{R}}^{6g-6}$. \n",
        "\n",
        "We assume here the basic facts that $G$ acts proper discontinuously on $X$ with finite covolume. Oswald Teichmueller proved $X$ is a topological cell, and therefore homotopically trivial. However the $G$-equivariant topology of $X$ is highly nontrivial.  \n",
        "\n",
        "It is a fundamental observation of Harvey, Harer, Ivanov, that $G$ is a Bieri-Eckmann virtual duality group. This means $G$ admits finite index torsion free subgroups $G' < G$ with $cd(G') < +\\infty$. \n",
        "\n",
        "- (Definition 1) A finitely generated group $G$ is a ___duality group of dimension___ $\\nu \\geq 0$ ___with respect to a___ ${\\bf{Z}} G$-module $D$, if there exists an element $[B] \\in H_\\nu (G ; D)$ with the following property: \n",
        "\n",
        "  - for every ${\\bf{Z}} G$-module $A$, the \"cap-product with $[B]$\" defines ${\\bf{Z}} G$-module isomorphisms $H^d(G;A) \\approx H_{\\nu-d}(G; A \\otimes_{{\\bf{Z}} G} D)$, $f\\mapsto f\\cap [B]$. \n",
        "\n",
        "The basic properties of Bieri-Eckmann's homological duality are summarized in the following theorem from [Bieri-Eckmann].\n",
        "\n",
        " - (Theorem 1) Let $G$ be duality group of dimension $\\nu$, with dualizing module $D$. Then \n",
        "\n",
        "  - (i) we have ${\\bf{Z}} G$-isomorphism $D \\approx H^\\nu(G;\\bf{Z} G) \\neq 0$, so $D$ is a torsion-free additive abelian group;\n",
        "\n",
        "  -  (ii) the dualizing module $D$ is finitely-generated $\\bf{Z}G$-module;\n",
        "\n",
        "  - (iii) the homology group $H_\\nu (G; D)$ is infinite cyclic generated by $[B]$ as additive abelian group; \n",
        "\n",
        "  - (iv) the group $G$ has cohomological dimension $cd(G)$ equal to $\\nu$.\n",
        "\n",
        "\n",
        "\n",
        "We omit the proofs, which are direct consequences of the definitions.\n",
        "\n",
        "# _Ivanov-Harer's Wonderful Theorem that $MCG(S)$ is a Virtual Duality Group_\n",
        "\n",
        "Most importantly for the mapping class group $G$, the dualizing module $D$ can be identified with the reduced homology of the simplicial curve complex. That is, we can identify $D$ up to $\\bf{Z}G$-isomorphism as $D=\\tilde{H}_*(C;\\bf{Z})$, where the reduced homology group inherits the natural structure of $\\bf{Z} G$-module from the action of $G$ on $C$. The curve complex has the homotopy-type of a countable bouquet of $(2g-2)$-dimensional spheres. Thus we deduce that $$vcd(G)=6g-6-(2g-2)+1=4g-5.$$ \n",
        "\n",
        "For example in genus $g=2$, this implies that $T_2=Teich(S_2)$ is a $6$-dimensional $EG$ model, and the quotient $G \\backslash T_2$ has the topology of a $3$-dimensional complex. Thus arises the problem of constructing spines or souls for $G$ and we seek explicit constructions or realizations of this $3$-dimensional singular subvariety for genus $g=2$. Constructing such subvarieties is the purpose of our Closing Steinberg (CS) program  as we describe below.\n",
        "\n",
        "Briefly the problem of (CS) is based on homological properties of $G$, and specifically a representation of Bieri-Eckmann's dualizing module $D$ with the reduced homology of an excision boundary $D\\approx \\tilde{H}_*(\\partial X[t]; \\bf{Z})$, where $X[t]$ is a $\\Gamma$-rational excision of Teichmueller space $X$ for a sufficiently small parameter $t$. This terminology is non standard and will be developed in the following series. \n",
        "\n",
        "\n",
        "\n",
        "\n",
        "\n",
        "\n"
      ],
      "metadata": {
        "id": "LHGpDumKi1pL"
      }
    },
    {
      "cell_type": "markdown",
      "source": [
        "# _Questions:_\n",
        "\n",
        "1. Review Ivanov's construction of finite index torsion free subgroups $G'$ of $G$. The construction is based on simplicial action on curve complex?\n"
      ],
      "metadata": {
        "id": "zAfAMZ74tdiC"
      }
    }
  ]
}