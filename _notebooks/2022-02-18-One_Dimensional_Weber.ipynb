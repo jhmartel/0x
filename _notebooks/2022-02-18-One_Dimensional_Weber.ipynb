{
  "nbformat": 4,
  "nbformat_minor": 0,
  "metadata": {
    "colab": {
      "name": "One-Dimensional-Weber.ipynb",
      "provenance": [],
      "collapsed_sections": [],
      "authorship_tag": "ABX9TyNm33UpvSUhQTHhPaP4oucK",
      "include_colab_link": true
    },
    "kernelspec": {
      "name": "python3",
      "display_name": "Python 3"
    },
    "language_info": {
      "name": "python"
    }
  },
  "cells": [
    {
      "cell_type": "markdown",
      "metadata": {
        "id": "view-in-github",
        "colab_type": "text"
      },
      "source": [
        "<a href=\"https://colab.research.google.com/github/jhmartel/fp/blob/master/_notebooks/2022-02-18-One_Dimensional_Weber.ipynb\" target=\"_parent\"><img src=\"https://colab.research.google.com/assets/colab-badge.svg\" alt=\"Open In Colab\"/></a>"
      ]
    },
    {
      "cell_type": "markdown",
      "source": [
        "# One-Dimensional Ampere Force\n",
        "> \"Ampere force betwen colinear curernt elements, Hilbert transform, force-free distributions.\"\n",
        "\n",
        "- toc: false\n",
        "- branch: master\n",
        "- badges: true\n",
        "- comments: true\n",
        "- author: JHM\n",
        "- categories: [fastpages, jupyter]\n",
        "\n"
      ],
      "metadata": {
        "id": "maHjBUEat7ZQ"
      }
    },
    {
      "cell_type": "markdown",
      "source": [
        "# One-Dimensional Weber\n",
        "\n",
        "We continue with our discussion of Weber's force, and consider the special case where the current elements are all pairwise parallel and colinear. In otherwords we assume the current elements belong the a line $\\ell$ in $\\bf{R}^3$. For simplicity we consider the current elements belonging to the $z$-axis.\n",
        "\n",
        "The state of a current element on the $z$-axis is then represented by a real-valued function $v(x)$ representing the *velocity* of the current element. Likewise we interpret $|v(x)|$ as the *intensity* of the current element. Ampere's force law in the one-dimensional case then becomes: \n",
        "\n",
        "$$F_{y ~\\text{on}~x} =|v(x)|~|v(y)|~v(x)~v(y) ~\\nabla_1 (\\frac{1}{r}) .  $$\n",
        "\n",
        "If we integrate the force $F$ over the entire line we obtain $$F_{\\text{current on}~ x} = |v(x)|~ v(x) ~[ \\nabla_1 \\cdot \\int dy~ \\frac{|v(y)| v(y)}{x-y} ]. $$\n",
        "\n",
        "The hypothesis of the force being balanced on the line is equivalent to the vanishing $$\\nabla_1 ~ \\int dy \\frac{|v(y)|~ v(y)}{x-y}=\\frac{d}{dx} ~\\int dy \\frac{|v(y)|~ v(y)}{x-y}=0 .$$ Equivalently, the force is balanced if the integral $$h(x):=\\int_{-\\infty}^{+\\infty} dy~\\frac{|v(y)|~ v(y)}{x-y} $$ is a *constant function* of $x$ wherever $v(x) \\neq 0$.  \n",
        "\n",
        "N.B. The integral defining $h(x)$ is taken over the entire real line. We observe that there is no absolute value sign on the denominator $x-y$. This is to include the direction of $\\hat{r}$ in the original Ampere law. \n",
        "\n",
        "Our definition of $h$ is Hilbert's singular integral transform for real-valued functions. Strictly speaking, the singular integral does not always integrate to a finite number. In the literature, the integral is frequently replaced with a Cauchy principal value. This is related to the function $\\frac{1}{y}$ being not absolutely integrable on the real line. However there is sufficient cancellation in the integral to obtain a well-defined principal value.\n",
        "\n",
        "If the current $v$ is everywhere constant, then symmetry shows the integral $h$ is identically zero, and therefore the total force $F$ of the current is everywhere zero. Therefore we find $v=constant$ is a solution to the balance equation. \n",
        "\n",
        "N.B. Most discussion of the Hilbert transform is restricted to square-integrable functions on the line $L^2(\\bf{R})$. On $L^2$ one finds the Hilbert transform defines a unitary operator and is an anti-involution, satisfying $H\\circ H=-Id$. However the only $L^2$ constant function is the zero function.\n",
        "\n",
        "Question: How to define Hilbert transform for distributions on the line, i.e. an infinite sum of Dirac masses ? \n",
        "\n",
        "Question: Are there any time-independant solutions to the balance equation, i.e. does there exist nonconstant $v\\in L^\\infty(\\bf{R})$ with $H(v)$ constant? \n",
        "\n",
        "Question: Can we find time-dependant solutions to the balance equation? I.e. find functions $v_t \\in L^\\infty$ such that $H(v_t)$ is constant for all time $t$.\n",
        "\n",
        "\n"
      ],
      "metadata": {
        "id": "epBCJgvhc0QL"
      }
    }
  ]
}