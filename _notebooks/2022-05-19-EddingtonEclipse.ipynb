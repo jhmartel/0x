{
  "nbformat": 4,
  "nbformat_minor": 0,
  "metadata": {
    "colab": {
      "name": "EddingtonEclipse.ipynb",
      "provenance": [],
      "collapsed_sections": [],
      "authorship_tag": "ABX9TyORAwZVDzM2vFy7gnjOzLJB",
      "include_colab_link": true
    },
    "kernelspec": {
      "name": "python3",
      "display_name": "Python 3"
    },
    "language_info": {
      "name": "python"
    }
  },
  "cells": [
    {
      "cell_type": "markdown",
      "metadata": {
        "id": "view-in-github",
        "colab_type": "text"
      },
      "source": [
        "<a href=\"https://colab.research.google.com/github/jhmartel/fp/blob/master/_notebooks/2022-05-19-EddingtonEclipse.ipynb\" target=\"_parent\"><img src=\"https://colab.research.google.com/assets/colab-badge.svg\" alt=\"Open In Colab\"/></a>"
      ]
    },
    {
      "cell_type": "markdown",
      "source": [
        "# Eddington's May 29, 1919 Eclipse. \n",
        "> \"The experimental pillars of Einstein's Special and General Relativity\"\n",
        "\n",
        "- toc: false\n",
        "- branch: master\n",
        "- badges: false\n",
        "- comments: true\n",
        "- author: JHM\n"
      ],
      "metadata": {
        "id": "GKJxXCLjAZsf"
      }
    },
    {
      "cell_type": "markdown",
      "source": [
        "As the reader of this blog will know, the author has an interest in fundamental physics, and is especially critical of the standard early 20th century methods. Our purpose in this article is to review some basic elements of Eddington's 1919 expedition to observe the possible gravitational deflection of starlight. The 1919 eclipse is a key experimental pillar of general relativity (GR). \n",
        "\n",
        "[Here](https://physics.stackexchange.com/questions/649789/what-is-the-proper-procedure-to-compare-observations-of-light-bending-around-the) is an interesting physics stackexchange question about the correct procedure used in the Eddington 1919 observation. \n",
        "\n",
        "It was argued by the late Nasa Engineer and physicist Edward Dowdye Jr. (RIP) that Eddington's assumption of there being no refractive medium near the solar \"surface\" (which is a questionable assumption) is incorrect and invalidated by experiment. As known today, the Sun has a plasma limb (of approximately [insert ref] dimension). \n",
        "\n",
        "Modern GR apologists would argue that many more experiments have been performed, and that we need judge the theory by it's _best_ experiments. Then proceeds a list of complicated papers, e.g. as provided by Prof. Levraz in [this](https://www.researchgate.net/post/Who_would_fund_this_falsification_of_GRT) thread. We reproduce his list below. \n",
        "\n",
        "E. B. Fomalont and R. A. Sramek, Phys. Rev. Lett. 36, 1475 – Published 21 June 1976 \n",
        "\n",
        "Shapiro, S. S., Davis, J. L., Lebach, D. E., & Gregory, J. S. (2004). Measurement of the solar gravitational deflection of radio waves using geodetic very-long-baseline interferometry data, 1979–1999. Physical review letters, 92(12), 121101. \n",
        "\n",
        "Fomalont, E. B., & Kopeikin, S. M. (2003). The measurement of the light deflection from Jupiter: experimental results. The Astrophysical Journal, 598(1), 704.\n",
        "\n",
        "The key prediction we are interested in is that reported by Edward Dowdye Jr., which is summarized in the following gif taken from his former website.\n",
        "\n",
        "![](http://beyondmainstream.org/wp-content/uploads/2019/04/SolarBending_ImpactParameter_animation.gif \"Credit: this image is reproduced from Ed Dowdye's former website.\")\n",
        "\n",
        "Now my question is how to independantly perform this experiment. Dowdye comments that delays, like the so-called \"Shapiro effect\", were typical, but no bending outside of the plasma limb was observed, i.e. no apparent bending in vacuum. Dowdye appears to have had access to NASA's Voyager data. [Need elaborate].\n",
        "\n",
        "In practice we assume that the light rays are arriving in the \"far field limit\", i.e. the incoming rays are parallel at infinity, but their trajectories are effected by their interaction with the Sun. In GR this interaction is _continuous_ with respect to the distance of the ray from the Sun. So the incoming rays are initially parellel, but will develop curvature as they approach the Sun (in the GR model). \n",
        "\n",
        "So how do we test Dowdye's claim? According to Dowdye's arguments about the Gauss sphere, we need not wait for another solar eclipse. If we are $kR$ solar radii distance from the Sun, then the expected angle of deflection is -- according to Dowdye's reasoning -- equal to $\\frac{1}{k} \\delta \\theta_R$. Here $\\delta \\theta_R$ is Dowdye's notation for the expected deflection at the _edge_ of the Sun, i.e. at distance equal to one solar radii. \n",
        "\n",
        "[To do: check that Einstein's GR also predicts $\\frac{1}{k} \\delta \\theta_R$ deflection]\n",
        "\n",
        "Dowdye suggests that we don't need to wait for another solar eclipse, since there should be measurable deflection for starlight which passes several solar radii near the Sun. I.e., we need study constellations which appear \"near\" the Sun. We might take regular photographs of stars _near_ the Sun, and compare with photographs of these same star systems when the Sun is _far_ from these stars, say, six months later. \n",
        "\n",
        "Such an elementary test... has it not been performed? \n",
        "\n",
        "Remark. Testing the optical position of these stars is perhaps too simplistic. More modern experiments would use radio waves, or radiation at different wavelengths beyond the visible light spectrum. We are not sure how the modern experiments use \"quasar\" radio sources in the sky instead of optical light. Again, following Dowdye, we might expect delays in the radio transmissions when they pass near the Sun. However we do not expect displacement of the radio sources. \n",
        "\n",
        "[To be continued...]."
      ],
      "metadata": {
        "id": "1LUhe7bUAloU"
      }
    }
  ]
}